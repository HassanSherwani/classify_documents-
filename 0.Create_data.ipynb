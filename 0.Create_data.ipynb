{
  "nbformat": 4,
  "nbformat_minor": 0,
  "metadata": {
    "colab": {
      "name": "0.Create_data.ipynb",
      "provenance": []
    },
    "kernelspec": {
      "name": "python3",
      "display_name": "Python 3"
    }
  },
  "cells": [
    {
      "cell_type": "code",
      "metadata": {
        "id": "t31T8-QhJQEU",
        "colab_type": "code",
        "colab": {}
      },
      "source": [
        ""
      ],
      "execution_count": null,
      "outputs": []
    },
    {
      "cell_type": "code",
      "metadata": {
        "id": "EV0Y3ElUJQvi",
        "colab_type": "code",
        "colab": {}
      },
      "source": [
        ""
      ],
      "execution_count": null,
      "outputs": []
    },
    {
      "cell_type": "markdown",
      "metadata": {
        "id": "MAqLRrfhLAyx",
        "colab_type": "text"
      },
      "source": [
        "# 1- Import key Modules"
      ]
    },
    {
      "cell_type": "code",
      "metadata": {
        "id": "k5s8C2tXJQ2j",
        "colab_type": "code",
        "colab": {}
      },
      "source": [
        "# support both Python 2 and Python 3 with minimal overhead.\n",
        "from __future__ import absolute_import, division, print_function\n",
        "\n",
        "# I am an engineer. I care only about error not warning. So, let's be maverick and ignore warnings.\n",
        "import warnings\n",
        "warnings.filterwarnings('ignore')"
      ],
      "execution_count": 26,
      "outputs": []
    },
    {
      "cell_type": "code",
      "metadata": {
        "id": "LI1evKvjKvv-",
        "colab_type": "code",
        "colab": {}
      },
      "source": [
        "import re    # for regular expressions \n",
        "import nltk  # for text manipulation \n",
        "import string \n",
        "import numpy as np \n",
        "import pandas as pd "
      ],
      "execution_count": 27,
      "outputs": []
    },
    {
      "cell_type": "markdown",
      "metadata": {
        "id": "aZMWUhjKK9M0",
        "colab_type": "text"
      },
      "source": [
        "# 2-Loading data"
      ]
    },
    {
      "cell_type": "code",
      "metadata": {
        "id": "HPXaZcZFK02r",
        "colab_type": "code",
        "colab": {
          "base_uri": "https://localhost:8080/",
          "height": 34
        },
        "outputId": "38c02c44-984b-4fb4-a138-4945af634559"
      },
      "source": [
        "filename1=\"newsCorpora.csv\"\n",
        "header_list = [\"id\", \"title\", \"url\",\"publisher\",\"category\",\"story\",\"hostname\",\"timestamp\"]\n",
        "df=pd.read_csv(filename1,sep='\\t', names=header_list)\n",
        "df.shape"
      ],
      "execution_count": 29,
      "outputs": [
        {
          "output_type": "execute_result",
          "data": {
            "text/plain": [
              "(422419, 8)"
            ]
          },
          "metadata": {
            "tags": []
          },
          "execution_count": 29
        }
      ]
    },
    {
      "cell_type": "code",
      "metadata": {
        "id": "LB9uiXX8K05R",
        "colab_type": "code",
        "colab": {
          "base_uri": "https://localhost:8080/",
          "height": 294
        },
        "outputId": "ab1355c4-de58-4b59-e7f7-7e4f5870eb4f"
      },
      "source": [
        "df.head(2)"
      ],
      "execution_count": 30,
      "outputs": [
        {
          "output_type": "execute_result",
          "data": {
            "text/html": [
              "<div>\n",
              "<style scoped>\n",
              "    .dataframe tbody tr th:only-of-type {\n",
              "        vertical-align: middle;\n",
              "    }\n",
              "\n",
              "    .dataframe tbody tr th {\n",
              "        vertical-align: top;\n",
              "    }\n",
              "\n",
              "    .dataframe thead th {\n",
              "        text-align: right;\n",
              "    }\n",
              "</style>\n",
              "<table border=\"1\" class=\"dataframe\">\n",
              "  <thead>\n",
              "    <tr style=\"text-align: right;\">\n",
              "      <th></th>\n",
              "      <th>id</th>\n",
              "      <th>title</th>\n",
              "      <th>url</th>\n",
              "      <th>publisher</th>\n",
              "      <th>category</th>\n",
              "      <th>story</th>\n",
              "      <th>hostname</th>\n",
              "      <th>timestamp</th>\n",
              "    </tr>\n",
              "  </thead>\n",
              "  <tbody>\n",
              "    <tr>\n",
              "      <th>0</th>\n",
              "      <td>1</td>\n",
              "      <td>Fed official says weak data caused by weather,...</td>\n",
              "      <td>http://www.latimes.com/business/money/la-fi-mo...</td>\n",
              "      <td>Los Angeles Times</td>\n",
              "      <td>b</td>\n",
              "      <td>ddUyU0VZz0BRneMioxUPQVP6sIxvM</td>\n",
              "      <td>www.latimes.com</td>\n",
              "      <td>1394470370698</td>\n",
              "    </tr>\n",
              "    <tr>\n",
              "      <th>1</th>\n",
              "      <td>2</td>\n",
              "      <td>Fed's Charles Plosser sees high bar for change...</td>\n",
              "      <td>http://www.livemint.com/Politics/H2EvwJSK2VE6O...</td>\n",
              "      <td>Livemint</td>\n",
              "      <td>b</td>\n",
              "      <td>ddUyU0VZz0BRneMioxUPQVP6sIxvM</td>\n",
              "      <td>www.livemint.com</td>\n",
              "      <td>1394470371207</td>\n",
              "    </tr>\n",
              "  </tbody>\n",
              "</table>\n",
              "</div>"
            ],
            "text/plain": [
              "   id  ...      timestamp\n",
              "0   1  ...  1394470370698\n",
              "1   2  ...  1394470371207\n",
              "\n",
              "[2 rows x 8 columns]"
            ]
          },
          "metadata": {
            "tags": []
          },
          "execution_count": 30
        }
      ]
    },
    {
      "cell_type": "code",
      "metadata": {
        "id": "A9_yXcazLQ3E",
        "colab_type": "code",
        "colab": {}
      },
      "source": [
        "# use only concerned features\n",
        "df=df[[\"title\",\"publisher\",\"category\"]]"
      ],
      "execution_count": 31,
      "outputs": []
    },
    {
      "cell_type": "code",
      "metadata": {
        "id": "bOsgfPeyLJA1",
        "colab_type": "code",
        "colab": {}
      },
      "source": [
        "df=df.fillna(\"other\") "
      ],
      "execution_count": 32,
      "outputs": []
    },
    {
      "cell_type": "code",
      "metadata": {
        "id": "dFBWtjQCLLch",
        "colab_type": "code",
        "colab": {
          "base_uri": "https://localhost:8080/",
          "height": 84
        },
        "outputId": "9be5549f-94c3-45dd-cb2d-6c1a15260118"
      },
      "source": [
        "df.isnull().sum()"
      ],
      "execution_count": 33,
      "outputs": [
        {
          "output_type": "execute_result",
          "data": {
            "text/plain": [
              "title        0\n",
              "publisher    0\n",
              "category     0\n",
              "dtype: int64"
            ]
          },
          "metadata": {
            "tags": []
          },
          "execution_count": 33
        }
      ]
    },
    {
      "cell_type": "code",
      "metadata": {
        "id": "LZWQCNTpQCFg",
        "colab_type": "code",
        "colab": {
          "base_uri": "https://localhost:8080/",
          "height": 50
        },
        "outputId": "350e1089-e685-4e2e-9748-2af0e07a238f"
      },
      "source": [
        "features=df[[\"title\",\"publisher\"]]\n",
        "labels = df[['category']]\n",
        "print(features.shape)\n",
        "print(labels.shape)"
      ],
      "execution_count": 34,
      "outputs": [
        {
          "output_type": "stream",
          "text": [
            "(422419, 2)\n",
            "(422419, 1)\n"
          ],
          "name": "stdout"
        }
      ]
    },
    {
      "cell_type": "code",
      "metadata": {
        "id": "lhEwFPihQyvB",
        "colab_type": "code",
        "colab": {
          "base_uri": "https://localhost:8080/",
          "height": 84
        },
        "outputId": "d8fc9516-7349-4f4d-b355-b4eff66defd9"
      },
      "source": [
        "from sklearn.model_selection import train_test_split\n",
        "X_train, X_test, y_train, y_test = train_test_split(features, labels, test_size=0.20, random_state=0)\n",
        "print(X_train.shape)\n",
        "print(X_test.shape)\n",
        "print(y_train.shape)\n",
        "print(y_test.shape)"
      ],
      "execution_count": 35,
      "outputs": [
        {
          "output_type": "stream",
          "text": [
            "(337935, 2)\n",
            "(84484, 2)\n",
            "(337935, 1)\n",
            "(84484, 1)\n"
          ],
          "name": "stdout"
        }
      ]
    },
    {
      "cell_type": "code",
      "metadata": {
        "id": "QWGBVq6eVpr_",
        "colab_type": "code",
        "colab": {
          "base_uri": "https://localhost:8080/",
          "height": 101
        },
        "outputId": "9bac046b-4e0b-48ef-e328-e540813cce40"
      },
      "source": [
        "y_train.category.value_counts(normalize=True)"
      ],
      "execution_count": 38,
      "outputs": [
        {
          "output_type": "execute_result",
          "data": {
            "text/plain": [
              "e    0.361516\n",
              "b    0.274017\n",
              "t    0.256659\n",
              "m    0.107808\n",
              "Name: category, dtype: float64"
            ]
          },
          "metadata": {
            "tags": []
          },
          "execution_count": 38
        }
      ]
    },
    {
      "cell_type": "code",
      "metadata": {
        "id": "3dCw1hUmVqaH",
        "colab_type": "code",
        "colab": {
          "base_uri": "https://localhost:8080/",
          "height": 101
        },
        "outputId": "f8939f24-1ac5-4fce-86d4-a9ddf9dab39b"
      },
      "source": [
        "y_test.category.value_counts(normalize=True)"
      ],
      "execution_count": 39,
      "outputs": [
        {
          "output_type": "execute_result",
          "data": {
            "text/plain": [
              "e    0.358648\n",
              "b    0.276585\n",
              "t    0.255788\n",
              "m    0.108979\n",
              "Name: category, dtype: float64"
            ]
          },
          "metadata": {
            "tags": []
          },
          "execution_count": 39
        }
      ]
    },
    {
      "cell_type": "markdown",
      "metadata": {
        "id": "krtnfeShV5uG",
        "colab_type": "text"
      },
      "source": [
        "Both have same distribution. So, it is good enough."
      ]
    },
    {
      "cell_type": "code",
      "metadata": {
        "id": "u88SvKPbRepK",
        "colab_type": "code",
        "colab": {
          "base_uri": "https://localhost:8080/",
          "height": 106
        },
        "outputId": "aa1e6633-7ff2-42b5-c125-761feb66bd60"
      },
      "source": [
        "X_train.head(2)"
      ],
      "execution_count": 40,
      "outputs": [
        {
          "output_type": "execute_result",
          "data": {
            "text/html": [
              "<div>\n",
              "<style scoped>\n",
              "    .dataframe tbody tr th:only-of-type {\n",
              "        vertical-align: middle;\n",
              "    }\n",
              "\n",
              "    .dataframe tbody tr th {\n",
              "        vertical-align: top;\n",
              "    }\n",
              "\n",
              "    .dataframe thead th {\n",
              "        text-align: right;\n",
              "    }\n",
              "</style>\n",
              "<table border=\"1\" class=\"dataframe\">\n",
              "  <thead>\n",
              "    <tr style=\"text-align: right;\">\n",
              "      <th></th>\n",
              "      <th>title</th>\n",
              "      <th>publisher</th>\n",
              "    </tr>\n",
              "  </thead>\n",
              "  <tbody>\n",
              "    <tr>\n",
              "      <th>30517</th>\n",
              "      <td>Toyota reaches settlement in U.S. criminal inv...</td>\n",
              "      <td>Examiner.com</td>\n",
              "    </tr>\n",
              "    <tr>\n",
              "      <th>16533</th>\n",
              "      <td>Sally Beauty releases info on data breach</td>\n",
              "      <td>Tribune-Review</td>\n",
              "    </tr>\n",
              "  </tbody>\n",
              "</table>\n",
              "</div>"
            ],
            "text/plain": [
              "                                                   title       publisher\n",
              "30517  Toyota reaches settlement in U.S. criminal inv...    Examiner.com\n",
              "16533          Sally Beauty releases info on data breach  Tribune-Review"
            ]
          },
          "metadata": {
            "tags": []
          },
          "execution_count": 40
        }
      ]
    },
    {
      "cell_type": "markdown",
      "metadata": {
        "id": "gqUVS2h_Rsuu",
        "colab_type": "text"
      },
      "source": [
        "I will use train set like this but, I will change test set for features. I shall keep only title."
      ]
    },
    {
      "cell_type": "code",
      "metadata": {
        "id": "NEDa-dAFRq3z",
        "colab_type": "code",
        "colab": {
          "base_uri": "https://localhost:8080/",
          "height": 34
        },
        "outputId": "0a3bcc20-74b7-49d8-fbb0-0430df73f62e"
      },
      "source": [
        "X_test=X_test[[\"title\"]]\n",
        "X_test.shape"
      ],
      "execution_count": 41,
      "outputs": [
        {
          "output_type": "execute_result",
          "data": {
            "text/plain": [
              "(84484, 1)"
            ]
          },
          "metadata": {
            "tags": []
          },
          "execution_count": 41
        }
      ]
    },
    {
      "cell_type": "code",
      "metadata": {
        "id": "ecWutqf3R4iP",
        "colab_type": "code",
        "colab": {
          "base_uri": "https://localhost:8080/",
          "height": 106
        },
        "outputId": "03edb154-c6e9-4827-df7f-843efe28615b"
      },
      "source": [
        "X_test.head(2)"
      ],
      "execution_count": 42,
      "outputs": [
        {
          "output_type": "execute_result",
          "data": {
            "text/html": [
              "<div>\n",
              "<style scoped>\n",
              "    .dataframe tbody tr th:only-of-type {\n",
              "        vertical-align: middle;\n",
              "    }\n",
              "\n",
              "    .dataframe tbody tr th {\n",
              "        vertical-align: top;\n",
              "    }\n",
              "\n",
              "    .dataframe thead th {\n",
              "        text-align: right;\n",
              "    }\n",
              "</style>\n",
              "<table border=\"1\" class=\"dataframe\">\n",
              "  <thead>\n",
              "    <tr style=\"text-align: right;\">\n",
              "      <th></th>\n",
              "      <th>title</th>\n",
              "    </tr>\n",
              "  </thead>\n",
              "  <tbody>\n",
              "    <tr>\n",
              "      <th>153245</th>\n",
              "      <td>iPhone 6 Release Date Pushed Back Due to Issue...</td>\n",
              "    </tr>\n",
              "    <tr>\n",
              "      <th>308611</th>\n",
              "      <td>Samsung Galaxy S4 vs Galaxy S3: Budget-Friendl...</td>\n",
              "    </tr>\n",
              "  </tbody>\n",
              "</table>\n",
              "</div>"
            ],
            "text/plain": [
              "                                                    title\n",
              "153245  iPhone 6 Release Date Pushed Back Due to Issue...\n",
              "308611  Samsung Galaxy S4 vs Galaxy S3: Budget-Friendl..."
            ]
          },
          "metadata": {
            "tags": []
          },
          "execution_count": 42
        }
      ]
    },
    {
      "cell_type": "markdown",
      "metadata": {
        "id": "qreRNK0kWnPx",
        "colab_type": "text"
      },
      "source": [
        "### save data"
      ]
    },
    {
      "cell_type": "code",
      "metadata": {
        "id": "7w1qtZptSFEL",
        "colab_type": "code",
        "colab": {}
      },
      "source": [
        "X_test.to_csv('test_data.csv')\n",
        "y_test.to_csv('test_label.csv',index=False)"
      ],
      "execution_count": 53,
      "outputs": []
    },
    {
      "cell_type": "markdown",
      "metadata": {
        "id": "kLQbmgIiUQo8",
        "colab_type": "text"
      },
      "source": [
        "# 3-Making train set"
      ]
    },
    {
      "cell_type": "code",
      "metadata": {
        "id": "Ud4KGIrlUP3F",
        "colab_type": "code",
        "colab": {}
      },
      "source": [
        "X_train['news']=X_train.title.str.cat(X_train.publisher)"
      ],
      "execution_count": 45,
      "outputs": []
    },
    {
      "cell_type": "code",
      "metadata": {
        "id": "5dWVclqeUP6G",
        "colab_type": "code",
        "colab": {
          "base_uri": "https://localhost:8080/",
          "height": 106
        },
        "outputId": "f1177e28-261a-473e-de2a-63388b4d3886"
      },
      "source": [
        "X_train.head(2)"
      ],
      "execution_count": 46,
      "outputs": [
        {
          "output_type": "execute_result",
          "data": {
            "text/html": [
              "<div>\n",
              "<style scoped>\n",
              "    .dataframe tbody tr th:only-of-type {\n",
              "        vertical-align: middle;\n",
              "    }\n",
              "\n",
              "    .dataframe tbody tr th {\n",
              "        vertical-align: top;\n",
              "    }\n",
              "\n",
              "    .dataframe thead th {\n",
              "        text-align: right;\n",
              "    }\n",
              "</style>\n",
              "<table border=\"1\" class=\"dataframe\">\n",
              "  <thead>\n",
              "    <tr style=\"text-align: right;\">\n",
              "      <th></th>\n",
              "      <th>title</th>\n",
              "      <th>publisher</th>\n",
              "      <th>news</th>\n",
              "    </tr>\n",
              "  </thead>\n",
              "  <tbody>\n",
              "    <tr>\n",
              "      <th>30517</th>\n",
              "      <td>Toyota reaches settlement in U.S. criminal inv...</td>\n",
              "      <td>Examiner.com</td>\n",
              "      <td>Toyota reaches settlement in U.S. criminal inv...</td>\n",
              "    </tr>\n",
              "    <tr>\n",
              "      <th>16533</th>\n",
              "      <td>Sally Beauty releases info on data breach</td>\n",
              "      <td>Tribune-Review</td>\n",
              "      <td>Sally Beauty releases info on data breachTribu...</td>\n",
              "    </tr>\n",
              "  </tbody>\n",
              "</table>\n",
              "</div>"
            ],
            "text/plain": [
              "                                                   title  ...                                               news\n",
              "30517  Toyota reaches settlement in U.S. criminal inv...  ...  Toyota reaches settlement in U.S. criminal inv...\n",
              "16533          Sally Beauty releases info on data breach  ...  Sally Beauty releases info on data breachTribu...\n",
              "\n",
              "[2 rows x 3 columns]"
            ]
          },
          "metadata": {
            "tags": []
          },
          "execution_count": 46
        }
      ]
    },
    {
      "cell_type": "code",
      "metadata": {
        "id": "GTxMnA8mUg7m",
        "colab_type": "code",
        "colab": {
          "base_uri": "https://localhost:8080/",
          "height": 35
        },
        "outputId": "260269a3-f44f-452a-cbb9-1fc3ab8ff11f"
      },
      "source": [
        "X_train.news[0]"
      ],
      "execution_count": 47,
      "outputs": [
        {
          "output_type": "execute_result",
          "data": {
            "application/vnd.google.colaboratory.intrinsic+json": {
              "type": "string"
            },
            "text/plain": [
              "'Fed official says weak data caused by weather, should not slow taperLos Angeles Times'"
            ]
          },
          "metadata": {
            "tags": []
          },
          "execution_count": 47
        }
      ]
    },
    {
      "cell_type": "code",
      "metadata": {
        "id": "M0vbUFonU-Sb",
        "colab_type": "code",
        "colab": {}
      },
      "source": [
        "df_train=X_train[[\"news\"]]\n",
        "df_train[\"category\"]=y_train"
      ],
      "execution_count": 48,
      "outputs": []
    },
    {
      "cell_type": "code",
      "metadata": {
        "id": "g274fDbpVkfe",
        "colab_type": "code",
        "colab": {
          "base_uri": "https://localhost:8080/",
          "height": 34
        },
        "outputId": "afd9d553-53d6-446d-8a27-34e7ccbf5ffe"
      },
      "source": [
        "df_train.shape"
      ],
      "execution_count": 49,
      "outputs": [
        {
          "output_type": "execute_result",
          "data": {
            "text/plain": [
              "(337935, 2)"
            ]
          },
          "metadata": {
            "tags": []
          },
          "execution_count": 49
        }
      ]
    },
    {
      "cell_type": "code",
      "metadata": {
        "id": "u7_Mm3nfWa_j",
        "colab_type": "code",
        "colab": {
          "base_uri": "https://localhost:8080/",
          "height": 67
        },
        "outputId": "b908e78f-f2d8-482f-d9fa-5cb1e3f98b9b"
      },
      "source": [
        "df_train.isnull().sum()"
      ],
      "execution_count": 50,
      "outputs": [
        {
          "output_type": "execute_result",
          "data": {
            "text/plain": [
              "news        0\n",
              "category    0\n",
              "dtype: int64"
            ]
          },
          "metadata": {
            "tags": []
          },
          "execution_count": 50
        }
      ]
    },
    {
      "cell_type": "code",
      "metadata": {
        "id": "zVaLGYDYWd8u",
        "colab_type": "code",
        "colab": {
          "base_uri": "https://localhost:8080/",
          "height": 106
        },
        "outputId": "5563472a-d587-484a-90b9-605bde6377f3"
      },
      "source": [
        "df_train.head(2)"
      ],
      "execution_count": 51,
      "outputs": [
        {
          "output_type": "execute_result",
          "data": {
            "text/html": [
              "<div>\n",
              "<style scoped>\n",
              "    .dataframe tbody tr th:only-of-type {\n",
              "        vertical-align: middle;\n",
              "    }\n",
              "\n",
              "    .dataframe tbody tr th {\n",
              "        vertical-align: top;\n",
              "    }\n",
              "\n",
              "    .dataframe thead th {\n",
              "        text-align: right;\n",
              "    }\n",
              "</style>\n",
              "<table border=\"1\" class=\"dataframe\">\n",
              "  <thead>\n",
              "    <tr style=\"text-align: right;\">\n",
              "      <th></th>\n",
              "      <th>news</th>\n",
              "      <th>category</th>\n",
              "    </tr>\n",
              "  </thead>\n",
              "  <tbody>\n",
              "    <tr>\n",
              "      <th>30517</th>\n",
              "      <td>Toyota reaches settlement in U.S. criminal inv...</td>\n",
              "      <td>t</td>\n",
              "    </tr>\n",
              "    <tr>\n",
              "      <th>16533</th>\n",
              "      <td>Sally Beauty releases info on data breachTribu...</td>\n",
              "      <td>b</td>\n",
              "    </tr>\n",
              "  </tbody>\n",
              "</table>\n",
              "</div>"
            ],
            "text/plain": [
              "                                                    news category\n",
              "30517  Toyota reaches settlement in U.S. criminal inv...        t\n",
              "16533  Sally Beauty releases info on data breachTribu...        b"
            ]
          },
          "metadata": {
            "tags": []
          },
          "execution_count": 51
        }
      ]
    },
    {
      "cell_type": "code",
      "metadata": {
        "id": "b-WxQ9crWhHO",
        "colab_type": "code",
        "colab": {}
      },
      "source": [
        "df_train.to_csv('train_data.csv')"
      ],
      "execution_count": 52,
      "outputs": []
    },
    {
      "cell_type": "markdown",
      "metadata": {
        "id": "pfmea6CtdeXH",
        "colab_type": "text"
      },
      "source": [
        "We can also use a smaller random sample i.e 10K"
      ]
    },
    {
      "cell_type": "code",
      "metadata": {
        "id": "33RU9nDPddoy",
        "colab_type": "code",
        "colab": {
          "base_uri": "https://localhost:8080/",
          "height": 34
        },
        "outputId": "974bb509-d79d-475f-901f-7df4ad9c7d71"
      },
      "source": [
        "sample_data=df_train.sample(10000)\n",
        "sample_data.shape"
      ],
      "execution_count": 55,
      "outputs": [
        {
          "output_type": "execute_result",
          "data": {
            "text/plain": [
              "(10000, 2)"
            ]
          },
          "metadata": {
            "tags": []
          },
          "execution_count": 55
        }
      ]
    },
    {
      "cell_type": "code",
      "metadata": {
        "id": "z1oSQmnFdo0C",
        "colab_type": "code",
        "colab": {
          "base_uri": "https://localhost:8080/",
          "height": 195
        },
        "outputId": "c09876fe-5c3a-4bbc-84b1-701e958d4c43"
      },
      "source": [
        "sample_data.head()"
      ],
      "execution_count": 56,
      "outputs": [
        {
          "output_type": "execute_result",
          "data": {
            "text/html": [
              "<div>\n",
              "<style scoped>\n",
              "    .dataframe tbody tr th:only-of-type {\n",
              "        vertical-align: middle;\n",
              "    }\n",
              "\n",
              "    .dataframe tbody tr th {\n",
              "        vertical-align: top;\n",
              "    }\n",
              "\n",
              "    .dataframe thead th {\n",
              "        text-align: right;\n",
              "    }\n",
              "</style>\n",
              "<table border=\"1\" class=\"dataframe\">\n",
              "  <thead>\n",
              "    <tr style=\"text-align: right;\">\n",
              "      <th></th>\n",
              "      <th>news</th>\n",
              "      <th>category</th>\n",
              "    </tr>\n",
              "  </thead>\n",
              "  <tbody>\n",
              "    <tr>\n",
              "      <th>22513</th>\n",
              "      <td>Top 5 Reasons Why 'Divergent' Star Kate Winsle...</td>\n",
              "      <td>e</td>\n",
              "    </tr>\n",
              "    <tr>\n",
              "      <th>283690</th>\n",
              "      <td>Vessyl Bottle Tracks Your Drink And Its Health...</td>\n",
              "      <td>t</td>\n",
              "    </tr>\n",
              "    <tr>\n",
              "      <th>120019</th>\n",
              "      <td>Conjoined twins to leave Dallas hospital month...</td>\n",
              "      <td>m</td>\n",
              "    </tr>\n",
              "    <tr>\n",
              "      <th>126710</th>\n",
              "      <td>Did Lorde get married in Vegas? Royals singer ...</td>\n",
              "      <td>e</td>\n",
              "    </tr>\n",
              "    <tr>\n",
              "      <th>325748</th>\n",
              "      <td>Free HIV testing available Thursday afternoon ...</td>\n",
              "      <td>m</td>\n",
              "    </tr>\n",
              "  </tbody>\n",
              "</table>\n",
              "</div>"
            ],
            "text/plain": [
              "                                                     news category\n",
              "22513   Top 5 Reasons Why 'Divergent' Star Kate Winsle...        e\n",
              "283690  Vessyl Bottle Tracks Your Drink And Its Health...        t\n",
              "120019  Conjoined twins to leave Dallas hospital month...        m\n",
              "126710  Did Lorde get married in Vegas? Royals singer ...        e\n",
              "325748  Free HIV testing available Thursday afternoon ...        m"
            ]
          },
          "metadata": {
            "tags": []
          },
          "execution_count": 56
        }
      ]
    },
    {
      "cell_type": "code",
      "metadata": {
        "id": "E806mS2zd4BI",
        "colab_type": "code",
        "colab": {
          "base_uri": "https://localhost:8080/",
          "height": 101
        },
        "outputId": "038b93d2-c47d-4bae-a882-a4a5e7e999fd"
      },
      "source": [
        "sample_data.category.value_counts(normalize=True)"
      ],
      "execution_count": 57,
      "outputs": [
        {
          "output_type": "execute_result",
          "data": {
            "text/plain": [
              "e    0.3507\n",
              "b    0.2746\n",
              "t    0.2583\n",
              "m    0.1164\n",
              "Name: category, dtype: float64"
            ]
          },
          "metadata": {
            "tags": []
          },
          "execution_count": 57
        }
      ]
    },
    {
      "cell_type": "markdown",
      "metadata": {
        "id": "Mb0S0BF6d9cQ",
        "colab_type": "text"
      },
      "source": [
        "again consistent with original data"
      ]
    },
    {
      "cell_type": "code",
      "metadata": {
        "id": "REyW9JUbdvVf",
        "colab_type": "code",
        "colab": {}
      },
      "source": [
        "sample_data.to_csv('train_data_10000.csv')"
      ],
      "execution_count": 58,
      "outputs": []
    }
  ]
}