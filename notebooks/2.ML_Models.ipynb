{
 "cells": [
  {
   "cell_type": "markdown",
   "metadata": {
    "id": "9ftR_IqRYwRG"
   },
   "source": [
    "# Implementation of Machine Learning models\n",
    "\n",
    "- Loading and preparing data \n",
    "- Multiple model analysis\n",
    "- Model Selection\n",
    "- Model Validation with validation data\n",
    "- Model Evaluation with test data\n",
    "- Model Tuning using GridSearch method\n",
    "- API testing and idea"
   ]
  },
  {
   "cell_type": "markdown",
   "metadata": {
    "id": "XVYvipuuY1Nd"
   },
   "source": [
    "# 1-Importing Key Modules"
   ]
  },
  {
   "cell_type": "code",
   "execution_count": 2,
   "metadata": {
    "id": "-QwQSxAMYy01"
   },
   "outputs": [],
   "source": [
    "# support both Python 2 and Python 3 with minimal overhead.\n",
    "from __future__ import absolute_import, division, print_function\n",
    "\n",
    "# I am an engineer. I care only about error not warning. So, let's be maverick and ignore warnings.\n",
    "import warnings\n",
    "warnings.filterwarnings('ignore')"
   ]
  },
  {
   "cell_type": "code",
   "execution_count": 3,
   "metadata": {
    "id": "Gy4rr410Y6EU"
   },
   "outputs": [],
   "source": [
    "import re    # for regular expressions \n",
    "import nltk  # for text manipulation \n",
    "import string \n",
    "import numpy as np \n",
    "import pandas as pd \n",
    "\n",
    "#For Visuals\n",
    "import matplotlib.pyplot as plt\n",
    "import seaborn as sns\n",
    "sns.set()\n",
    "from matplotlib import rcParams\n",
    "rcParams['figure.figsize'] = 11, 8\n",
    "%config InlineBackend.figure_format = 'svg'\n",
    "%matplotlib inline"
   ]
  },
  {
   "cell_type": "code",
   "execution_count": 4,
   "metadata": {
    "id": "yW2hiPyTY9cD"
   },
   "outputs": [],
   "source": [
    "#models and evaluation\n",
    "\n",
    "from sklearn.pipeline import Pipeline\n",
    "from sklearn.feature_extraction.text import TfidfTransformer\n",
    "from sklearn.naive_bayes import MultinomialNB\n",
    "from nltk.classify.scikitlearn import SklearnClassifier # notice its from ntlk not sklearn\n",
    "from sklearn.svm import LinearSVC, SVC\n",
    "from sklearn.linear_model import LogisticRegression\n",
    "from sklearn.ensemble import RandomForestClassifier\n",
    "from sklearn.model_selection import cross_val_score\n",
    "# Evaluation packages\n",
    "from sklearn.metrics import accuracy_score\n",
    "from sklearn import metrics\n",
    "from sklearn.metrics import confusion_matrix"
   ]
  },
  {
   "cell_type": "code",
   "execution_count": 5,
   "metadata": {
    "colab": {
     "base_uri": "https://localhost:8080/",
     "height": 35
    },
    "id": "QGKW2cUqfDhB",
    "outputId": "7073fb36-dbef-4cbe-c5a7-d15416689b70"
   },
   "outputs": [
    {
     "data": {
      "application/vnd.google.colaboratory.intrinsic+json": {
       "type": "string"
      },
      "text/plain": [
       "'/device:GPU:0'"
      ]
     },
     "execution_count": 5,
     "metadata": {
      "tags": []
     },
     "output_type": "execute_result"
    }
   ],
   "source": [
    "# testing GPU on colab\n",
    "import tensorflow as tf\n",
    "tf.test.gpu_device_name()"
   ]
  },
  {
   "cell_type": "markdown",
   "metadata": {
    "id": "PKyrbGxEZG-w"
   },
   "source": [
    "# 2)-Loading data"
   ]
  },
  {
   "cell_type": "code",
   "execution_count": 6,
   "metadata": {
    "colab": {
     "base_uri": "https://localhost:8080/",
     "height": 34
    },
    "id": "rCEUsy_JZIHz",
    "outputId": "b39c8012-335d-4c9f-a9c2-dbb450e253c1"
   },
   "outputs": [
    {
     "data": {
      "text/plain": [
       "(10000, 2)"
      ]
     },
     "execution_count": 6,
     "metadata": {
      "tags": []
     },
     "output_type": "execute_result"
    }
   ],
   "source": [
    "data=pd.read_csv('train_data_10000.csv')\n",
    "data=data.rename(columns={'Unnamed: 0':'random_columns'}) # a trick to tackle random index values\n",
    "data=data.drop([\"random_columns\"], axis=1)\n",
    "data.shape"
   ]
  },
  {
   "cell_type": "code",
   "execution_count": 7,
   "metadata": {
    "colab": {
     "base_uri": "https://localhost:8080/",
     "height": 106
    },
    "id": "thh5ukRxZbhR",
    "outputId": "422cc9fe-6e4c-4335-8419-126846975a77"
   },
   "outputs": [
    {
     "data": {
      "text/html": [
       "<div>\n",
       "<style scoped>\n",
       "    .dataframe tbody tr th:only-of-type {\n",
       "        vertical-align: middle;\n",
       "    }\n",
       "\n",
       "    .dataframe tbody tr th {\n",
       "        vertical-align: top;\n",
       "    }\n",
       "\n",
       "    .dataframe thead th {\n",
       "        text-align: right;\n",
       "    }\n",
       "</style>\n",
       "<table border=\"1\" class=\"dataframe\">\n",
       "  <thead>\n",
       "    <tr style=\"text-align: right;\">\n",
       "      <th></th>\n",
       "      <th>news</th>\n",
       "      <th>category</th>\n",
       "    </tr>\n",
       "  </thead>\n",
       "  <tbody>\n",
       "    <tr>\n",
       "      <th>0</th>\n",
       "      <td>Top 5 Reasons Why 'Divergent' Star Kate Winsle...</td>\n",
       "      <td>e</td>\n",
       "    </tr>\n",
       "    <tr>\n",
       "      <th>1</th>\n",
       "      <td>Vessyl Bottle Tracks Your Drink And Its Health...</td>\n",
       "      <td>t</td>\n",
       "    </tr>\n",
       "  </tbody>\n",
       "</table>\n",
       "</div>"
      ],
      "text/plain": [
       "                                                news category\n",
       "0  Top 5 Reasons Why 'Divergent' Star Kate Winsle...        e\n",
       "1  Vessyl Bottle Tracks Your Drink And Its Health...        t"
      ]
     },
     "execution_count": 7,
     "metadata": {
      "tags": []
     },
     "output_type": "execute_result"
    }
   ],
   "source": [
    "data.head(2)"
   ]
  },
  {
   "cell_type": "code",
   "execution_count": 8,
   "metadata": {
    "colab": {
     "base_uri": "https://localhost:8080/",
     "height": 67
    },
    "id": "imE51iunZrIl",
    "outputId": "01429000-74c8-4c08-8db0-9e8c70c75e94"
   },
   "outputs": [
    {
     "data": {
      "text/plain": [
       "news        0\n",
       "category    0\n",
       "dtype: int64"
      ]
     },
     "execution_count": 8,
     "metadata": {
      "tags": []
     },
     "output_type": "execute_result"
    }
   ],
   "source": [
    "data.isnull().sum()"
   ]
  },
  {
   "cell_type": "markdown",
   "metadata": {
    "id": "_hRKyvYiaBm2"
   },
   "source": [
    "# 3-Data Cleaning"
   ]
  },
  {
   "cell_type": "code",
   "execution_count": 9,
   "metadata": {
    "colab": {
     "base_uri": "https://localhost:8080/",
     "height": 50
    },
    "id": "kbaC_CajaKtW",
    "outputId": "3a5ec767-fe1e-4011-bc4b-6b2200554a39"
   },
   "outputs": [
    {
     "name": "stdout",
     "output_type": "stream",
     "text": [
      "[nltk_data] Downloading package stopwords to /root/nltk_data...\n",
      "[nltk_data]   Package stopwords is already up-to-date!\n"
     ]
    }
   ],
   "source": [
    "import nltk\n",
    "nltk.download('stopwords')\n",
    "from nltk.corpus import stopwords"
   ]
  },
  {
   "cell_type": "code",
   "execution_count": 10,
   "metadata": {
    "id": "Weg2qddDZ7MU"
   },
   "outputs": [],
   "source": [
    "REPLACE_BY_SPACE_RE = re.compile('[/(){}\\[\\]\\|@,;#]')\n",
    "BAD_SYMBOLS_RE = re.compile('[^0-9a-z +_]')\n",
    "STOPWORDS = stopwords.words('english')\n",
    "#STOPWORDS.extend(['http','https','www']) # extend stopwords. If We  had few www or https.\n",
    "STOPWORDS = set(STOPWORDS)\n",
    "\n",
    "def text_prepare(text):\n",
    "    \"\"\"\n",
    "        text: a string\n",
    "        \n",
    "        return: modified initial string\n",
    "    \"\"\"\n",
    "    text = text.lower() # lowercase text\n",
    "    text = REPLACE_BY_SPACE_RE.sub(' ', text) # replace REPLACE_BY_SPACE_RE symbols by space in text\n",
    "    text = BAD_SYMBOLS_RE.sub('', text) # delete symbols which are in BAD_SYMBOLS_RE from text\n",
    "    text = ' '.join([word for word in text.split() if word not in STOPWORDS]) # delete stopwords from text\n",
    "    text = text.strip()\n",
    "    return text"
   ]
  },
  {
   "cell_type": "code",
   "execution_count": 11,
   "metadata": {
    "id": "EwZ4YRI0aIGW"
   },
   "outputs": [],
   "source": [
    "data['clean']=[text_prepare(x) for x in data['news']]"
   ]
  },
  {
   "cell_type": "code",
   "execution_count": 12,
   "metadata": {
    "colab": {
     "base_uri": "https://localhost:8080/",
     "height": 185
    },
    "id": "CD4banxDaQFG",
    "outputId": "3a645db7-0a50-4daf-fb36-d0c86c986261"
   },
   "outputs": [
    {
     "data": {
      "text/plain": [
       "[('news', 998),\n",
       " ('new', 655),\n",
       " ('times', 522),\n",
       " ('blog', 442),\n",
       " ('us', 422),\n",
       " ('business', 318),\n",
       " ('daily', 316),\n",
       " ('post', 296),\n",
       " ('google', 266),\n",
       " ('apple', 221)]"
      ]
     },
     "execution_count": 12,
     "metadata": {
      "tags": []
     },
     "output_type": "execute_result"
    }
   ],
   "source": [
    "# Dictionary of all words from train corpus with their counts.\n",
    "words_counts = {}\n",
    "\n",
    "from collections import Counter\n",
    "words_counts = Counter([word for line in data['clean'] for word in line.split(' ')])\n",
    "\n",
    "# Sorting \n",
    "most_common_words = sorted(words_counts.items(), key=lambda x: x[1], reverse=True)[:10]\n",
    "\n",
    "# Top 10\n",
    "most_common_words[:10]"
   ]
  },
  {
   "cell_type": "markdown",
   "metadata": {
    "id": "IaUbY9ZZaXuQ"
   },
   "source": [
    "### 3.1.Lemma\n",
    "Normalize"
   ]
  },
  {
   "cell_type": "code",
   "execution_count": 13,
   "metadata": {
    "id": "O_y8gw8daTse"
   },
   "outputs": [],
   "source": [
    "from nltk.stem import WordNetLemmatizer\n",
    "lemm = WordNetLemmatizer()"
   ]
  },
  {
   "cell_type": "code",
   "execution_count": 14,
   "metadata": {
    "colab": {
     "base_uri": "https://localhost:8080/",
     "height": 34
    },
    "id": "09hd7fZlagf8",
    "outputId": "4eaec521-ba51-4750-842a-20c6ef9ac4a5"
   },
   "outputs": [
    {
     "name": "stdout",
     "output_type": "stream",
     "text": [
      "['could', 'ted', 'lawsuit', 'keep', 'ted', '2', 'happeningmoviefone']\n"
     ]
    }
   ],
   "source": [
    "tokenized_text = data['clean'].apply(lambda x: x.split()) # tokenizing \n",
    "print(tokenized_text[9])"
   ]
  },
  {
   "cell_type": "code",
   "execution_count": 15,
   "metadata": {
    "colab": {
     "base_uri": "https://localhost:8080/",
     "height": 67
    },
    "id": "IZdA4oyHaieq",
    "outputId": "9051ac9c-ad39-4278-fbc0-104c4d0b62a1"
   },
   "outputs": [
    {
     "name": "stdout",
     "output_type": "stream",
     "text": [
      "[nltk_data] Downloading package wordnet to /root/nltk_data...\n",
      "[nltk_data]   Package wordnet is already up-to-date!\n"
     ]
    },
    {
     "data": {
      "text/plain": [
       "True"
      ]
     },
     "execution_count": 15,
     "metadata": {
      "tags": []
     },
     "output_type": "execute_result"
    }
   ],
   "source": [
    "nltk.download('wordnet')"
   ]
  },
  {
   "cell_type": "code",
   "execution_count": 16,
   "metadata": {
    "colab": {
     "base_uri": "https://localhost:8080/",
     "height": 34
    },
    "id": "4wlKfqdkamzA",
    "outputId": "bb4fa715-689e-4799-bed4-6210f11d8c00"
   },
   "outputs": [
    {
     "name": "stdout",
     "output_type": "stream",
     "text": [
      "['conjoined', 'twin', 'leave', 'dallas', 'hospital', 'month', 'separated', 'tribune']\n"
     ]
    }
   ],
   "source": [
    "tokenized_text = tokenized_text.apply(lambda x: [lemm.lemmatize(i) for i in x])\n",
    "print(tokenized_text[2])"
   ]
  },
  {
   "cell_type": "markdown",
   "metadata": {
    "id": "-YLKFW4DawWO"
   },
   "source": [
    "### 3.2.using stemmer"
   ]
  },
  {
   "cell_type": "code",
   "execution_count": 17,
   "metadata": {
    "id": "nauGK-FyapPS"
   },
   "outputs": [],
   "source": [
    "from nltk.stem.snowball import SnowballStemmer\n",
    "\n",
    "stemmer = SnowballStemmer(language='english')"
   ]
  },
  {
   "cell_type": "code",
   "execution_count": 18,
   "metadata": {
    "colab": {
     "base_uri": "https://localhost:8080/",
     "height": 34
    },
    "id": "QrBzQ-7Oaz7n",
    "outputId": "563b77aa-64ff-47d9-f750-8478e202a1c1"
   },
   "outputs": [
    {
     "name": "stdout",
     "output_type": "stream",
     "text": [
      "['conjoin', 'twin', 'leav', 'dalla', 'hospit', 'month', 'separ', 'tribun']\n"
     ]
    }
   ],
   "source": [
    "tokenized_text = data['clean'].apply(lambda x: x.split()) # tokenizing \n",
    "tokenized_text = tokenized_text.apply(lambda x: [stemmer.stem(i) for i in x])\n",
    "print(tokenized_text[2])"
   ]
  },
  {
   "cell_type": "code",
   "execution_count": 19,
   "metadata": {
    "id": "gyWESPPQa1q5"
   },
   "outputs": [],
   "source": [
    "# stitch these tokens back together.\n",
    "\n",
    "for i in range(len(tokenized_text)):\n",
    "    tokenized_text[i] = ' '.join(tokenized_text[i])    \n",
    "data['clean'] = tokenized_text"
   ]
  },
  {
   "cell_type": "code",
   "execution_count": 20,
   "metadata": {
    "colab": {
     "base_uri": "https://localhost:8080/",
     "height": 34
    },
    "id": "0TkYJ_G2a7Y_",
    "outputId": "ebb67d6c-796b-421a-aae2-3392182d2d0b"
   },
   "outputs": [
    {
     "data": {
      "text/plain": [
       "103496"
      ]
     },
     "execution_count": 20,
     "metadata": {
      "tags": []
     },
     "output_type": "execute_result"
    }
   ],
   "source": [
    "#before clean\n",
    "data['news'].apply(lambda x: len(x.split(' '))).sum()"
   ]
  },
  {
   "cell_type": "code",
   "execution_count": 21,
   "metadata": {
    "colab": {
     "base_uri": "https://localhost:8080/",
     "height": 34
    },
    "id": "wtrgxp-0a7dI",
    "outputId": "77b3c258-a29c-47fc-bbc3-2fc91bc09329"
   },
   "outputs": [
    {
     "data": {
      "text/plain": [
       "81669"
      ]
     },
     "execution_count": 21,
     "metadata": {
      "tags": []
     },
     "output_type": "execute_result"
    }
   ],
   "source": [
    "#after clean\n",
    "data['clean'].apply(lambda x: len(x.split(' '))).sum()"
   ]
  },
  {
   "cell_type": "markdown",
   "metadata": {
    "id": "QME4Wjb6bS1K"
   },
   "source": [
    "### save for future work"
   ]
  },
  {
   "cell_type": "code",
   "execution_count": 22,
   "metadata": {
    "id": "11E5olrzbFFS"
   },
   "outputs": [],
   "source": [
    "#data.to_csv('train_data_clean.csv',index=False)"
   ]
  },
  {
   "cell_type": "markdown",
   "metadata": {
    "id": "tLMBDwkccApv"
   },
   "source": [
    "# 4-Model Building"
   ]
  },
  {
   "cell_type": "code",
   "execution_count": 23,
   "metadata": {
    "id": "9gZZla27bkj0"
   },
   "outputs": [],
   "source": [
    "#Function for category id\n",
    "data['category_id'] = data['category'].factorize()[0]\n",
    "category_id_df = data[['category', 'category_id']].drop_duplicates().sort_values('category_id')\n",
    "category_to_id = dict(category_id_df.values)\n",
    "id_to_category = dict(category_id_df[['category_id', 'category']].values)"
   ]
  },
  {
   "cell_type": "code",
   "execution_count": 24,
   "metadata": {
    "id": "T32yr72TcMQr"
   },
   "outputs": [],
   "source": [
    "#vectorization\n",
    "from sklearn.model_selection import train_test_split\n",
    "from sklearn.feature_extraction.text import CountVectorizer\n",
    "from sklearn.feature_extraction.text import TfidfTransformer\n",
    "from sklearn.naive_bayes import MultinomialNB\n",
    "from sklearn.feature_extraction.text import TfidfVectorizer\n",
    "\n",
    "tfidf = TfidfVectorizer(sublinear_tf=True, min_df=5, norm='l2', encoding='latin-1', ngram_range=(1, 2), stop_words='english')\n",
    "\n",
    "features = tfidf.fit_transform(data.clean).toarray()\n",
    "labels = data['category'].astype(str)"
   ]
  },
  {
   "cell_type": "code",
   "execution_count": 25,
   "metadata": {
    "colab": {
     "base_uri": "https://localhost:8080/",
     "height": 50
    },
    "id": "FsPkEaXzcXhn",
    "outputId": "d508b903-a1e7-46b7-d05f-4dcbdce809f3"
   },
   "outputs": [
    {
     "name": "stdout",
     "output_type": "stream",
     "text": [
      "(10000, 3438)\n",
      "(10000,)\n"
     ]
    }
   ],
   "source": [
    "print(features.shape)\n",
    "print(labels.shape)"
   ]
  },
  {
   "cell_type": "code",
   "execution_count": 26,
   "metadata": {
    "id": "mm0C1zafcaqC"
   },
   "outputs": [],
   "source": [
    "# model fit\n",
    "\n",
    "from sklearn.linear_model import LogisticRegression\n",
    "from sklearn.ensemble import RandomForestClassifier\n",
    "from sklearn.svm import LinearSVC\n",
    "from sklearn.svm import SVC \n",
    "from sklearn.model_selection import cross_val_score\n",
    "\n",
    "\n",
    "models = [\n",
    "    RandomForestClassifier(),\n",
    "    LinearSVC(),\n",
    "    MultinomialNB(),\n",
    "    LogisticRegression(random_state=0),\n",
    "]\n",
    "CV = 5\n",
    "cv_df = pd.DataFrame(index=range(CV * len(models)))\n",
    "entries = []\n",
    "for model in models:\n",
    "    model_name = model.__class__.__name__\n",
    "    accuracies = cross_val_score(model, features, labels, scoring='accuracy', cv=CV)\n",
    "    for fold_idx, accuracy in enumerate(accuracies):\n",
    "        entries.append((model_name, fold_idx, accuracy))\n",
    "cv_df = pd.DataFrame(entries, columns=['model_name', 'fold_idx', 'accuracy'])"
   ]
  },
  {
   "cell_type": "code",
   "execution_count": 27,
   "metadata": {
    "colab": {
     "base_uri": "https://localhost:8080/",
     "height": 639
    },
    "id": "U4LCBtlKfXnQ",
    "outputId": "cbe2a168-b8e9-4ad7-85d5-f722720f20e1"
   },
   "outputs": [
    {
     "data": {
      "text/html": [
       "<div>\n",
       "<style scoped>\n",
       "    .dataframe tbody tr th:only-of-type {\n",
       "        vertical-align: middle;\n",
       "    }\n",
       "\n",
       "    .dataframe tbody tr th {\n",
       "        vertical-align: top;\n",
       "    }\n",
       "\n",
       "    .dataframe thead th {\n",
       "        text-align: right;\n",
       "    }\n",
       "</style>\n",
       "<table border=\"1\" class=\"dataframe\">\n",
       "  <thead>\n",
       "    <tr style=\"text-align: right;\">\n",
       "      <th></th>\n",
       "      <th>model_name</th>\n",
       "      <th>fold_idx</th>\n",
       "      <th>accuracy</th>\n",
       "    </tr>\n",
       "  </thead>\n",
       "  <tbody>\n",
       "    <tr>\n",
       "      <th>0</th>\n",
       "      <td>RandomForestClassifier</td>\n",
       "      <td>0</td>\n",
       "      <td>0.7960</td>\n",
       "    </tr>\n",
       "    <tr>\n",
       "      <th>1</th>\n",
       "      <td>RandomForestClassifier</td>\n",
       "      <td>1</td>\n",
       "      <td>0.8110</td>\n",
       "    </tr>\n",
       "    <tr>\n",
       "      <th>2</th>\n",
       "      <td>RandomForestClassifier</td>\n",
       "      <td>2</td>\n",
       "      <td>0.7920</td>\n",
       "    </tr>\n",
       "    <tr>\n",
       "      <th>3</th>\n",
       "      <td>RandomForestClassifier</td>\n",
       "      <td>3</td>\n",
       "      <td>0.7905</td>\n",
       "    </tr>\n",
       "    <tr>\n",
       "      <th>4</th>\n",
       "      <td>RandomForestClassifier</td>\n",
       "      <td>4</td>\n",
       "      <td>0.7950</td>\n",
       "    </tr>\n",
       "    <tr>\n",
       "      <th>5</th>\n",
       "      <td>LinearSVC</td>\n",
       "      <td>0</td>\n",
       "      <td>0.8520</td>\n",
       "    </tr>\n",
       "    <tr>\n",
       "      <th>6</th>\n",
       "      <td>LinearSVC</td>\n",
       "      <td>1</td>\n",
       "      <td>0.8505</td>\n",
       "    </tr>\n",
       "    <tr>\n",
       "      <th>7</th>\n",
       "      <td>LinearSVC</td>\n",
       "      <td>2</td>\n",
       "      <td>0.8430</td>\n",
       "    </tr>\n",
       "    <tr>\n",
       "      <th>8</th>\n",
       "      <td>LinearSVC</td>\n",
       "      <td>3</td>\n",
       "      <td>0.8470</td>\n",
       "    </tr>\n",
       "    <tr>\n",
       "      <th>9</th>\n",
       "      <td>LinearSVC</td>\n",
       "      <td>4</td>\n",
       "      <td>0.8525</td>\n",
       "    </tr>\n",
       "    <tr>\n",
       "      <th>10</th>\n",
       "      <td>MultinomialNB</td>\n",
       "      <td>0</td>\n",
       "      <td>0.8320</td>\n",
       "    </tr>\n",
       "    <tr>\n",
       "      <th>11</th>\n",
       "      <td>MultinomialNB</td>\n",
       "      <td>1</td>\n",
       "      <td>0.8325</td>\n",
       "    </tr>\n",
       "    <tr>\n",
       "      <th>12</th>\n",
       "      <td>MultinomialNB</td>\n",
       "      <td>2</td>\n",
       "      <td>0.8405</td>\n",
       "    </tr>\n",
       "    <tr>\n",
       "      <th>13</th>\n",
       "      <td>MultinomialNB</td>\n",
       "      <td>3</td>\n",
       "      <td>0.8350</td>\n",
       "    </tr>\n",
       "    <tr>\n",
       "      <th>14</th>\n",
       "      <td>MultinomialNB</td>\n",
       "      <td>4</td>\n",
       "      <td>0.8395</td>\n",
       "    </tr>\n",
       "    <tr>\n",
       "      <th>15</th>\n",
       "      <td>LogisticRegression</td>\n",
       "      <td>0</td>\n",
       "      <td>0.8420</td>\n",
       "    </tr>\n",
       "    <tr>\n",
       "      <th>16</th>\n",
       "      <td>LogisticRegression</td>\n",
       "      <td>1</td>\n",
       "      <td>0.8355</td>\n",
       "    </tr>\n",
       "    <tr>\n",
       "      <th>17</th>\n",
       "      <td>LogisticRegression</td>\n",
       "      <td>2</td>\n",
       "      <td>0.8400</td>\n",
       "    </tr>\n",
       "    <tr>\n",
       "      <th>18</th>\n",
       "      <td>LogisticRegression</td>\n",
       "      <td>3</td>\n",
       "      <td>0.8385</td>\n",
       "    </tr>\n",
       "    <tr>\n",
       "      <th>19</th>\n",
       "      <td>LogisticRegression</td>\n",
       "      <td>4</td>\n",
       "      <td>0.8430</td>\n",
       "    </tr>\n",
       "  </tbody>\n",
       "</table>\n",
       "</div>"
      ],
      "text/plain": [
       "                model_name  fold_idx  accuracy\n",
       "0   RandomForestClassifier         0    0.7960\n",
       "1   RandomForestClassifier         1    0.8110\n",
       "2   RandomForestClassifier         2    0.7920\n",
       "3   RandomForestClassifier         3    0.7905\n",
       "4   RandomForestClassifier         4    0.7950\n",
       "5                LinearSVC         0    0.8520\n",
       "6                LinearSVC         1    0.8505\n",
       "7                LinearSVC         2    0.8430\n",
       "8                LinearSVC         3    0.8470\n",
       "9                LinearSVC         4    0.8525\n",
       "10           MultinomialNB         0    0.8320\n",
       "11           MultinomialNB         1    0.8325\n",
       "12           MultinomialNB         2    0.8405\n",
       "13           MultinomialNB         3    0.8350\n",
       "14           MultinomialNB         4    0.8395\n",
       "15      LogisticRegression         0    0.8420\n",
       "16      LogisticRegression         1    0.8355\n",
       "17      LogisticRegression         2    0.8400\n",
       "18      LogisticRegression         3    0.8385\n",
       "19      LogisticRegression         4    0.8430"
      ]
     },
     "execution_count": 27,
     "metadata": {
      "tags": []
     },
     "output_type": "execute_result"
    }
   ],
   "source": [
    "cv_df"
   ]
  },
  {
   "cell_type": "code",
   "execution_count": 28,
   "metadata": {
    "colab": {
     "base_uri": "https://localhost:8080/",
     "height": 378
    },
    "id": "-DKV9G0DfbsD",
    "outputId": "39f6ac83-f96a-484f-9d80-bc489aae51ba"
   },
   "outputs": [
    {
     "data": {
      "image/svg+xml": [
       "<?xml version=\"1.0\" encoding=\"utf-8\" standalone=\"no\"?>\n",
       "<!DOCTYPE svg PUBLIC \"-//W3C//DTD SVG 1.1//EN\"\n",
       "  \"http://www.w3.org/Graphics/SVG/1.1/DTD/svg11.dtd\">\n",
       "<!-- Created with matplotlib (https://matplotlib.org/) -->\n",
       "<svg height=\"267.933438pt\" version=\"1.1\" viewBox=\"0 0 407.963281 267.933438\" width=\"407.963281pt\" xmlns=\"http://www.w3.org/2000/svg\" xmlns:xlink=\"http://www.w3.org/1999/xlink\">\n",
       " <defs>\n",
       "  <style type=\"text/css\">\n",
       "*{stroke-linecap:butt;stroke-linejoin:round;}\n",
       "  </style>\n",
       " </defs>\n",
       " <g id=\"figure_1\">\n",
       "  <g id=\"patch_1\">\n",
       "   <path d=\"M 0 267.933438 \n",
       "L 407.963281 267.933438 \n",
       "L 407.963281 0 \n",
       "L 0 0 \n",
       "z\n",
       "\" style=\"fill:none;\"/>\n",
       "  </g>\n",
       "  <g id=\"axes_1\">\n",
       "   <g id=\"patch_2\">\n",
       "    <path d=\"M 56.805937 224.64 \n",
       "L 391.605938 224.64 \n",
       "L 391.605938 7.2 \n",
       "L 56.805937 7.2 \n",
       "z\n",
       "\" style=\"fill:#eaeaf2;\"/>\n",
       "   </g>\n",
       "   <g id=\"matplotlib.axis_1\">\n",
       "    <g id=\"xtick_1\">\n",
       "     <g id=\"text_1\">\n",
       "      <!-- RandomForestClassifier -->\n",
       "      <defs>\n",
       "       <path d=\"M 44.390625 34.1875 \n",
       "Q 47.5625 33.109375 50.5625 29.59375 \n",
       "Q 53.5625 26.078125 56.59375 19.921875 \n",
       "L 66.609375 0 \n",
       "L 56 0 \n",
       "L 46.6875 18.703125 \n",
       "Q 43.0625 26.03125 39.671875 28.421875 \n",
       "Q 36.28125 30.8125 30.421875 30.8125 \n",
       "L 19.671875 30.8125 \n",
       "L 19.671875 0 \n",
       "L 9.8125 0 \n",
       "L 9.8125 72.90625 \n",
       "L 32.078125 72.90625 \n",
       "Q 44.578125 72.90625 50.734375 67.671875 \n",
       "Q 56.890625 62.453125 56.890625 51.90625 \n",
       "Q 56.890625 45.015625 53.6875 40.46875 \n",
       "Q 50.484375 35.9375 44.390625 34.1875 \n",
       "z\n",
       "M 19.671875 64.796875 \n",
       "L 19.671875 38.921875 \n",
       "L 32.078125 38.921875 \n",
       "Q 39.203125 38.921875 42.84375 42.21875 \n",
       "Q 46.484375 45.515625 46.484375 51.90625 \n",
       "Q 46.484375 58.296875 42.84375 61.546875 \n",
       "Q 39.203125 64.796875 32.078125 64.796875 \n",
       "z\n",
       "\" id=\"DejaVuSans-82\"/>\n",
       "       <path d=\"M 34.28125 27.484375 \n",
       "Q 23.390625 27.484375 19.1875 25 \n",
       "Q 14.984375 22.515625 14.984375 16.5 \n",
       "Q 14.984375 11.71875 18.140625 8.90625 \n",
       "Q 21.296875 6.109375 26.703125 6.109375 \n",
       "Q 34.1875 6.109375 38.703125 11.40625 \n",
       "Q 43.21875 16.703125 43.21875 25.484375 \n",
       "L 43.21875 27.484375 \n",
       "z\n",
       "M 52.203125 31.203125 \n",
       "L 52.203125 0 \n",
       "L 43.21875 0 \n",
       "L 43.21875 8.296875 \n",
       "Q 40.140625 3.328125 35.546875 0.953125 \n",
       "Q 30.953125 -1.421875 24.3125 -1.421875 \n",
       "Q 15.921875 -1.421875 10.953125 3.296875 \n",
       "Q 6 8.015625 6 15.921875 \n",
       "Q 6 25.140625 12.171875 29.828125 \n",
       "Q 18.359375 34.515625 30.609375 34.515625 \n",
       "L 43.21875 34.515625 \n",
       "L 43.21875 35.40625 \n",
       "Q 43.21875 41.609375 39.140625 45 \n",
       "Q 35.0625 48.390625 27.6875 48.390625 \n",
       "Q 23 48.390625 18.546875 47.265625 \n",
       "Q 14.109375 46.140625 10.015625 43.890625 \n",
       "L 10.015625 52.203125 \n",
       "Q 14.9375 54.109375 19.578125 55.046875 \n",
       "Q 24.21875 56 28.609375 56 \n",
       "Q 40.484375 56 46.34375 49.84375 \n",
       "Q 52.203125 43.703125 52.203125 31.203125 \n",
       "z\n",
       "\" id=\"DejaVuSans-97\"/>\n",
       "       <path d=\"M 54.890625 33.015625 \n",
       "L 54.890625 0 \n",
       "L 45.90625 0 \n",
       "L 45.90625 32.71875 \n",
       "Q 45.90625 40.484375 42.875 44.328125 \n",
       "Q 39.84375 48.1875 33.796875 48.1875 \n",
       "Q 26.515625 48.1875 22.3125 43.546875 \n",
       "Q 18.109375 38.921875 18.109375 30.90625 \n",
       "L 18.109375 0 \n",
       "L 9.078125 0 \n",
       "L 9.078125 54.6875 \n",
       "L 18.109375 54.6875 \n",
       "L 18.109375 46.1875 \n",
       "Q 21.34375 51.125 25.703125 53.5625 \n",
       "Q 30.078125 56 35.796875 56 \n",
       "Q 45.21875 56 50.046875 50.171875 \n",
       "Q 54.890625 44.34375 54.890625 33.015625 \n",
       "z\n",
       "\" id=\"DejaVuSans-110\"/>\n",
       "       <path d=\"M 45.40625 46.390625 \n",
       "L 45.40625 75.984375 \n",
       "L 54.390625 75.984375 \n",
       "L 54.390625 0 \n",
       "L 45.40625 0 \n",
       "L 45.40625 8.203125 \n",
       "Q 42.578125 3.328125 38.25 0.953125 \n",
       "Q 33.9375 -1.421875 27.875 -1.421875 \n",
       "Q 17.96875 -1.421875 11.734375 6.484375 \n",
       "Q 5.515625 14.40625 5.515625 27.296875 \n",
       "Q 5.515625 40.1875 11.734375 48.09375 \n",
       "Q 17.96875 56 27.875 56 \n",
       "Q 33.9375 56 38.25 53.625 \n",
       "Q 42.578125 51.265625 45.40625 46.390625 \n",
       "z\n",
       "M 14.796875 27.296875 \n",
       "Q 14.796875 17.390625 18.875 11.75 \n",
       "Q 22.953125 6.109375 30.078125 6.109375 \n",
       "Q 37.203125 6.109375 41.296875 11.75 \n",
       "Q 45.40625 17.390625 45.40625 27.296875 \n",
       "Q 45.40625 37.203125 41.296875 42.84375 \n",
       "Q 37.203125 48.484375 30.078125 48.484375 \n",
       "Q 22.953125 48.484375 18.875 42.84375 \n",
       "Q 14.796875 37.203125 14.796875 27.296875 \n",
       "z\n",
       "\" id=\"DejaVuSans-100\"/>\n",
       "       <path d=\"M 30.609375 48.390625 \n",
       "Q 23.390625 48.390625 19.1875 42.75 \n",
       "Q 14.984375 37.109375 14.984375 27.296875 \n",
       "Q 14.984375 17.484375 19.15625 11.84375 \n",
       "Q 23.34375 6.203125 30.609375 6.203125 \n",
       "Q 37.796875 6.203125 41.984375 11.859375 \n",
       "Q 46.1875 17.53125 46.1875 27.296875 \n",
       "Q 46.1875 37.015625 41.984375 42.703125 \n",
       "Q 37.796875 48.390625 30.609375 48.390625 \n",
       "z\n",
       "M 30.609375 56 \n",
       "Q 42.328125 56 49.015625 48.375 \n",
       "Q 55.71875 40.765625 55.71875 27.296875 \n",
       "Q 55.71875 13.875 49.015625 6.21875 \n",
       "Q 42.328125 -1.421875 30.609375 -1.421875 \n",
       "Q 18.84375 -1.421875 12.171875 6.21875 \n",
       "Q 5.515625 13.875 5.515625 27.296875 \n",
       "Q 5.515625 40.765625 12.171875 48.375 \n",
       "Q 18.84375 56 30.609375 56 \n",
       "z\n",
       "\" id=\"DejaVuSans-111\"/>\n",
       "       <path d=\"M 52 44.1875 \n",
       "Q 55.375 50.25 60.0625 53.125 \n",
       "Q 64.75 56 71.09375 56 \n",
       "Q 79.640625 56 84.28125 50.015625 \n",
       "Q 88.921875 44.046875 88.921875 33.015625 \n",
       "L 88.921875 0 \n",
       "L 79.890625 0 \n",
       "L 79.890625 32.71875 \n",
       "Q 79.890625 40.578125 77.09375 44.375 \n",
       "Q 74.3125 48.1875 68.609375 48.1875 \n",
       "Q 61.625 48.1875 57.5625 43.546875 \n",
       "Q 53.515625 38.921875 53.515625 30.90625 \n",
       "L 53.515625 0 \n",
       "L 44.484375 0 \n",
       "L 44.484375 32.71875 \n",
       "Q 44.484375 40.625 41.703125 44.40625 \n",
       "Q 38.921875 48.1875 33.109375 48.1875 \n",
       "Q 26.21875 48.1875 22.15625 43.53125 \n",
       "Q 18.109375 38.875 18.109375 30.90625 \n",
       "L 18.109375 0 \n",
       "L 9.078125 0 \n",
       "L 9.078125 54.6875 \n",
       "L 18.109375 54.6875 \n",
       "L 18.109375 46.1875 \n",
       "Q 21.1875 51.21875 25.484375 53.609375 \n",
       "Q 29.78125 56 35.6875 56 \n",
       "Q 41.65625 56 45.828125 52.96875 \n",
       "Q 50 49.953125 52 44.1875 \n",
       "z\n",
       "\" id=\"DejaVuSans-109\"/>\n",
       "       <path d=\"M 9.8125 72.90625 \n",
       "L 51.703125 72.90625 \n",
       "L 51.703125 64.59375 \n",
       "L 19.671875 64.59375 \n",
       "L 19.671875 43.109375 \n",
       "L 48.578125 43.109375 \n",
       "L 48.578125 34.8125 \n",
       "L 19.671875 34.8125 \n",
       "L 19.671875 0 \n",
       "L 9.8125 0 \n",
       "z\n",
       "\" id=\"DejaVuSans-70\"/>\n",
       "       <path d=\"M 41.109375 46.296875 \n",
       "Q 39.59375 47.171875 37.8125 47.578125 \n",
       "Q 36.03125 48 33.890625 48 \n",
       "Q 26.265625 48 22.1875 43.046875 \n",
       "Q 18.109375 38.09375 18.109375 28.8125 \n",
       "L 18.109375 0 \n",
       "L 9.078125 0 \n",
       "L 9.078125 54.6875 \n",
       "L 18.109375 54.6875 \n",
       "L 18.109375 46.1875 \n",
       "Q 20.953125 51.171875 25.484375 53.578125 \n",
       "Q 30.03125 56 36.53125 56 \n",
       "Q 37.453125 56 38.578125 55.875 \n",
       "Q 39.703125 55.765625 41.0625 55.515625 \n",
       "z\n",
       "\" id=\"DejaVuSans-114\"/>\n",
       "       <path d=\"M 56.203125 29.59375 \n",
       "L 56.203125 25.203125 \n",
       "L 14.890625 25.203125 \n",
       "Q 15.484375 15.921875 20.484375 11.0625 \n",
       "Q 25.484375 6.203125 34.421875 6.203125 \n",
       "Q 39.59375 6.203125 44.453125 7.46875 \n",
       "Q 49.3125 8.734375 54.109375 11.28125 \n",
       "L 54.109375 2.78125 \n",
       "Q 49.265625 0.734375 44.1875 -0.34375 \n",
       "Q 39.109375 -1.421875 33.890625 -1.421875 \n",
       "Q 20.796875 -1.421875 13.15625 6.1875 \n",
       "Q 5.515625 13.8125 5.515625 26.8125 \n",
       "Q 5.515625 40.234375 12.765625 48.109375 \n",
       "Q 20.015625 56 32.328125 56 \n",
       "Q 43.359375 56 49.78125 48.890625 \n",
       "Q 56.203125 41.796875 56.203125 29.59375 \n",
       "z\n",
       "M 47.21875 32.234375 \n",
       "Q 47.125 39.59375 43.09375 43.984375 \n",
       "Q 39.0625 48.390625 32.421875 48.390625 \n",
       "Q 24.90625 48.390625 20.390625 44.140625 \n",
       "Q 15.875 39.890625 15.1875 32.171875 \n",
       "z\n",
       "\" id=\"DejaVuSans-101\"/>\n",
       "       <path d=\"M 44.28125 53.078125 \n",
       "L 44.28125 44.578125 \n",
       "Q 40.484375 46.53125 36.375 47.5 \n",
       "Q 32.28125 48.484375 27.875 48.484375 \n",
       "Q 21.1875 48.484375 17.84375 46.4375 \n",
       "Q 14.5 44.390625 14.5 40.28125 \n",
       "Q 14.5 37.15625 16.890625 35.375 \n",
       "Q 19.28125 33.59375 26.515625 31.984375 \n",
       "L 29.59375 31.296875 \n",
       "Q 39.15625 29.25 43.1875 25.515625 \n",
       "Q 47.21875 21.78125 47.21875 15.09375 \n",
       "Q 47.21875 7.46875 41.1875 3.015625 \n",
       "Q 35.15625 -1.421875 24.609375 -1.421875 \n",
       "Q 20.21875 -1.421875 15.453125 -0.5625 \n",
       "Q 10.6875 0.296875 5.421875 2 \n",
       "L 5.421875 11.28125 \n",
       "Q 10.40625 8.6875 15.234375 7.390625 \n",
       "Q 20.0625 6.109375 24.8125 6.109375 \n",
       "Q 31.15625 6.109375 34.5625 8.28125 \n",
       "Q 37.984375 10.453125 37.984375 14.40625 \n",
       "Q 37.984375 18.0625 35.515625 20.015625 \n",
       "Q 33.0625 21.96875 24.703125 23.78125 \n",
       "L 21.578125 24.515625 \n",
       "Q 13.234375 26.265625 9.515625 29.90625 \n",
       "Q 5.8125 33.546875 5.8125 39.890625 \n",
       "Q 5.8125 47.609375 11.28125 51.796875 \n",
       "Q 16.75 56 26.8125 56 \n",
       "Q 31.78125 56 36.171875 55.265625 \n",
       "Q 40.578125 54.546875 44.28125 53.078125 \n",
       "z\n",
       "\" id=\"DejaVuSans-115\"/>\n",
       "       <path d=\"M 18.3125 70.21875 \n",
       "L 18.3125 54.6875 \n",
       "L 36.8125 54.6875 \n",
       "L 36.8125 47.703125 \n",
       "L 18.3125 47.703125 \n",
       "L 18.3125 18.015625 \n",
       "Q 18.3125 11.328125 20.140625 9.421875 \n",
       "Q 21.96875 7.515625 27.59375 7.515625 \n",
       "L 36.8125 7.515625 \n",
       "L 36.8125 0 \n",
       "L 27.59375 0 \n",
       "Q 17.1875 0 13.234375 3.875 \n",
       "Q 9.28125 7.765625 9.28125 18.015625 \n",
       "L 9.28125 47.703125 \n",
       "L 2.6875 47.703125 \n",
       "L 2.6875 54.6875 \n",
       "L 9.28125 54.6875 \n",
       "L 9.28125 70.21875 \n",
       "z\n",
       "\" id=\"DejaVuSans-116\"/>\n",
       "       <path d=\"M 64.40625 67.28125 \n",
       "L 64.40625 56.890625 \n",
       "Q 59.421875 61.53125 53.78125 63.8125 \n",
       "Q 48.140625 66.109375 41.796875 66.109375 \n",
       "Q 29.296875 66.109375 22.65625 58.46875 \n",
       "Q 16.015625 50.828125 16.015625 36.375 \n",
       "Q 16.015625 21.96875 22.65625 14.328125 \n",
       "Q 29.296875 6.6875 41.796875 6.6875 \n",
       "Q 48.140625 6.6875 53.78125 8.984375 \n",
       "Q 59.421875 11.28125 64.40625 15.921875 \n",
       "L 64.40625 5.609375 \n",
       "Q 59.234375 2.09375 53.4375 0.328125 \n",
       "Q 47.65625 -1.421875 41.21875 -1.421875 \n",
       "Q 24.65625 -1.421875 15.125 8.703125 \n",
       "Q 5.609375 18.84375 5.609375 36.375 \n",
       "Q 5.609375 53.953125 15.125 64.078125 \n",
       "Q 24.65625 74.21875 41.21875 74.21875 \n",
       "Q 47.75 74.21875 53.53125 72.484375 \n",
       "Q 59.328125 70.75 64.40625 67.28125 \n",
       "z\n",
       "\" id=\"DejaVuSans-67\"/>\n",
       "       <path d=\"M 9.421875 75.984375 \n",
       "L 18.40625 75.984375 \n",
       "L 18.40625 0 \n",
       "L 9.421875 0 \n",
       "z\n",
       "\" id=\"DejaVuSans-108\"/>\n",
       "       <path d=\"M 9.421875 54.6875 \n",
       "L 18.40625 54.6875 \n",
       "L 18.40625 0 \n",
       "L 9.421875 0 \n",
       "z\n",
       "M 9.421875 75.984375 \n",
       "L 18.40625 75.984375 \n",
       "L 18.40625 64.59375 \n",
       "L 9.421875 64.59375 \n",
       "z\n",
       "\" id=\"DejaVuSans-105\"/>\n",
       "       <path d=\"M 37.109375 75.984375 \n",
       "L 37.109375 68.5 \n",
       "L 28.515625 68.5 \n",
       "Q 23.6875 68.5 21.796875 66.546875 \n",
       "Q 19.921875 64.59375 19.921875 59.515625 \n",
       "L 19.921875 54.6875 \n",
       "L 34.71875 54.6875 \n",
       "L 34.71875 47.703125 \n",
       "L 19.921875 47.703125 \n",
       "L 19.921875 0 \n",
       "L 10.890625 0 \n",
       "L 10.890625 47.703125 \n",
       "L 2.296875 47.703125 \n",
       "L 2.296875 54.6875 \n",
       "L 10.890625 54.6875 \n",
       "L 10.890625 58.5 \n",
       "Q 10.890625 67.625 15.140625 71.796875 \n",
       "Q 19.390625 75.984375 28.609375 75.984375 \n",
       "z\n",
       "\" id=\"DejaVuSans-102\"/>\n",
       "      </defs>\n",
       "      <g style=\"fill:#262626;\" transform=\"translate(33.908906 242.498281)scale(0.11 -0.11)\">\n",
       "       <use xlink:href=\"#DejaVuSans-82\"/>\n",
       "       <use x=\"67.232422\" xlink:href=\"#DejaVuSans-97\"/>\n",
       "       <use x=\"128.511719\" xlink:href=\"#DejaVuSans-110\"/>\n",
       "       <use x=\"191.890625\" xlink:href=\"#DejaVuSans-100\"/>\n",
       "       <use x=\"255.367188\" xlink:href=\"#DejaVuSans-111\"/>\n",
       "       <use x=\"316.548828\" xlink:href=\"#DejaVuSans-109\"/>\n",
       "       <use x=\"413.960938\" xlink:href=\"#DejaVuSans-70\"/>\n",
       "       <use x=\"467.855469\" xlink:href=\"#DejaVuSans-111\"/>\n",
       "       <use x=\"529.037109\" xlink:href=\"#DejaVuSans-114\"/>\n",
       "       <use x=\"567.900391\" xlink:href=\"#DejaVuSans-101\"/>\n",
       "       <use x=\"629.423828\" xlink:href=\"#DejaVuSans-115\"/>\n",
       "       <use x=\"681.523438\" xlink:href=\"#DejaVuSans-116\"/>\n",
       "       <use x=\"720.732422\" xlink:href=\"#DejaVuSans-67\"/>\n",
       "       <use x=\"790.556641\" xlink:href=\"#DejaVuSans-108\"/>\n",
       "       <use x=\"818.339844\" xlink:href=\"#DejaVuSans-97\"/>\n",
       "       <use x=\"879.619141\" xlink:href=\"#DejaVuSans-115\"/>\n",
       "       <use x=\"931.71875\" xlink:href=\"#DejaVuSans-115\"/>\n",
       "       <use x=\"983.818359\" xlink:href=\"#DejaVuSans-105\"/>\n",
       "       <use x=\"1011.601562\" xlink:href=\"#DejaVuSans-102\"/>\n",
       "       <use x=\"1046.806641\" xlink:href=\"#DejaVuSans-105\"/>\n",
       "       <use x=\"1074.589844\" xlink:href=\"#DejaVuSans-101\"/>\n",
       "       <use x=\"1136.113281\" xlink:href=\"#DejaVuSans-114\"/>\n",
       "      </g>\n",
       "     </g>\n",
       "    </g>\n",
       "    <g id=\"xtick_2\">\n",
       "     <g id=\"text_2\">\n",
       "      <!-- LinearSVC -->\n",
       "      <defs>\n",
       "       <path d=\"M 9.8125 72.90625 \n",
       "L 19.671875 72.90625 \n",
       "L 19.671875 8.296875 \n",
       "L 55.171875 8.296875 \n",
       "L 55.171875 0 \n",
       "L 9.8125 0 \n",
       "z\n",
       "\" id=\"DejaVuSans-76\"/>\n",
       "       <path d=\"M 53.515625 70.515625 \n",
       "L 53.515625 60.890625 \n",
       "Q 47.90625 63.578125 42.921875 64.890625 \n",
       "Q 37.9375 66.21875 33.296875 66.21875 \n",
       "Q 25.25 66.21875 20.875 63.09375 \n",
       "Q 16.5 59.96875 16.5 54.203125 \n",
       "Q 16.5 49.359375 19.40625 46.890625 \n",
       "Q 22.3125 44.4375 30.421875 42.921875 \n",
       "L 36.375 41.703125 \n",
       "Q 47.40625 39.59375 52.65625 34.296875 \n",
       "Q 57.90625 29 57.90625 20.125 \n",
       "Q 57.90625 9.515625 50.796875 4.046875 \n",
       "Q 43.703125 -1.421875 29.984375 -1.421875 \n",
       "Q 24.8125 -1.421875 18.96875 -0.25 \n",
       "Q 13.140625 0.921875 6.890625 3.21875 \n",
       "L 6.890625 13.375 \n",
       "Q 12.890625 10.015625 18.65625 8.296875 \n",
       "Q 24.421875 6.59375 29.984375 6.59375 \n",
       "Q 38.421875 6.59375 43.015625 9.90625 \n",
       "Q 47.609375 13.234375 47.609375 19.390625 \n",
       "Q 47.609375 24.75 44.3125 27.78125 \n",
       "Q 41.015625 30.8125 33.5 32.328125 \n",
       "L 27.484375 33.5 \n",
       "Q 16.453125 35.6875 11.515625 40.375 \n",
       "Q 6.59375 45.0625 6.59375 53.421875 \n",
       "Q 6.59375 63.09375 13.40625 68.65625 \n",
       "Q 20.21875 74.21875 32.171875 74.21875 \n",
       "Q 37.3125 74.21875 42.625 73.28125 \n",
       "Q 47.953125 72.359375 53.515625 70.515625 \n",
       "z\n",
       "\" id=\"DejaVuSans-83\"/>\n",
       "       <path d=\"M 28.609375 0 \n",
       "L 0.78125 72.90625 \n",
       "L 11.078125 72.90625 \n",
       "L 34.1875 11.53125 \n",
       "L 57.328125 72.90625 \n",
       "L 67.578125 72.90625 \n",
       "L 39.796875 0 \n",
       "z\n",
       "\" id=\"DejaVuSans-86\"/>\n",
       "      </defs>\n",
       "      <g style=\"fill:#262626;\" transform=\"translate(154.167578 242.498281)scale(0.11 -0.11)\">\n",
       "       <use xlink:href=\"#DejaVuSans-76\"/>\n",
       "       <use x=\"55.712891\" xlink:href=\"#DejaVuSans-105\"/>\n",
       "       <use x=\"83.496094\" xlink:href=\"#DejaVuSans-110\"/>\n",
       "       <use x=\"146.875\" xlink:href=\"#DejaVuSans-101\"/>\n",
       "       <use x=\"208.398438\" xlink:href=\"#DejaVuSans-97\"/>\n",
       "       <use x=\"269.677734\" xlink:href=\"#DejaVuSans-114\"/>\n",
       "       <use x=\"310.791016\" xlink:href=\"#DejaVuSans-83\"/>\n",
       "       <use x=\"374.267578\" xlink:href=\"#DejaVuSans-86\"/>\n",
       "       <use x=\"442.675781\" xlink:href=\"#DejaVuSans-67\"/>\n",
       "      </g>\n",
       "     </g>\n",
       "    </g>\n",
       "    <g id=\"xtick_3\">\n",
       "     <g id=\"text_3\">\n",
       "      <!-- MultinomialNB -->\n",
       "      <defs>\n",
       "       <path d=\"M 9.8125 72.90625 \n",
       "L 24.515625 72.90625 \n",
       "L 43.109375 23.296875 \n",
       "L 61.8125 72.90625 \n",
       "L 76.515625 72.90625 \n",
       "L 76.515625 0 \n",
       "L 66.890625 0 \n",
       "L 66.890625 64.015625 \n",
       "L 48.09375 14.015625 \n",
       "L 38.1875 14.015625 \n",
       "L 19.390625 64.015625 \n",
       "L 19.390625 0 \n",
       "L 9.8125 0 \n",
       "z\n",
       "\" id=\"DejaVuSans-77\"/>\n",
       "       <path d=\"M 8.5 21.578125 \n",
       "L 8.5 54.6875 \n",
       "L 17.484375 54.6875 \n",
       "L 17.484375 21.921875 \n",
       "Q 17.484375 14.15625 20.5 10.265625 \n",
       "Q 23.53125 6.390625 29.59375 6.390625 \n",
       "Q 36.859375 6.390625 41.078125 11.03125 \n",
       "Q 45.3125 15.671875 45.3125 23.6875 \n",
       "L 45.3125 54.6875 \n",
       "L 54.296875 54.6875 \n",
       "L 54.296875 0 \n",
       "L 45.3125 0 \n",
       "L 45.3125 8.40625 \n",
       "Q 42.046875 3.421875 37.71875 1 \n",
       "Q 33.40625 -1.421875 27.6875 -1.421875 \n",
       "Q 18.265625 -1.421875 13.375 4.4375 \n",
       "Q 8.5 10.296875 8.5 21.578125 \n",
       "z\n",
       "M 31.109375 56 \n",
       "z\n",
       "\" id=\"DejaVuSans-117\"/>\n",
       "       <path d=\"M 9.8125 72.90625 \n",
       "L 23.09375 72.90625 \n",
       "L 55.421875 11.921875 \n",
       "L 55.421875 72.90625 \n",
       "L 64.984375 72.90625 \n",
       "L 64.984375 0 \n",
       "L 51.703125 0 \n",
       "L 19.390625 60.984375 \n",
       "L 19.390625 0 \n",
       "L 9.8125 0 \n",
       "z\n",
       "\" id=\"DejaVuSans-78\"/>\n",
       "       <path d=\"M 19.671875 34.8125 \n",
       "L 19.671875 8.109375 \n",
       "L 35.5 8.109375 \n",
       "Q 43.453125 8.109375 47.28125 11.40625 \n",
       "Q 51.125 14.703125 51.125 21.484375 \n",
       "Q 51.125 28.328125 47.28125 31.5625 \n",
       "Q 43.453125 34.8125 35.5 34.8125 \n",
       "z\n",
       "M 19.671875 64.796875 \n",
       "L 19.671875 42.828125 \n",
       "L 34.28125 42.828125 \n",
       "Q 41.5 42.828125 45.03125 45.53125 \n",
       "Q 48.578125 48.25 48.578125 53.8125 \n",
       "Q 48.578125 59.328125 45.03125 62.0625 \n",
       "Q 41.5 64.796875 34.28125 64.796875 \n",
       "z\n",
       "M 9.8125 72.90625 \n",
       "L 35.015625 72.90625 \n",
       "Q 46.296875 72.90625 52.390625 68.21875 \n",
       "Q 58.5 63.53125 58.5 54.890625 \n",
       "Q 58.5 48.1875 55.375 44.234375 \n",
       "Q 52.25 40.28125 46.1875 39.3125 \n",
       "Q 53.46875 37.75 57.5 32.78125 \n",
       "Q 61.53125 27.828125 61.53125 20.40625 \n",
       "Q 61.53125 10.640625 54.890625 5.3125 \n",
       "Q 48.25 0 35.984375 0 \n",
       "L 9.8125 0 \n",
       "z\n",
       "\" id=\"DejaVuSans-66\"/>\n",
       "      </defs>\n",
       "      <g style=\"fill:#262626;\" transform=\"translate(226.089844 242.498281)scale(0.11 -0.11)\">\n",
       "       <use xlink:href=\"#DejaVuSans-77\"/>\n",
       "       <use x=\"86.279297\" xlink:href=\"#DejaVuSans-117\"/>\n",
       "       <use x=\"149.658203\" xlink:href=\"#DejaVuSans-108\"/>\n",
       "       <use x=\"177.441406\" xlink:href=\"#DejaVuSans-116\"/>\n",
       "       <use x=\"216.650391\" xlink:href=\"#DejaVuSans-105\"/>\n",
       "       <use x=\"244.433594\" xlink:href=\"#DejaVuSans-110\"/>\n",
       "       <use x=\"307.8125\" xlink:href=\"#DejaVuSans-111\"/>\n",
       "       <use x=\"368.994141\" xlink:href=\"#DejaVuSans-109\"/>\n",
       "       <use x=\"466.40625\" xlink:href=\"#DejaVuSans-105\"/>\n",
       "       <use x=\"494.189453\" xlink:href=\"#DejaVuSans-97\"/>\n",
       "       <use x=\"555.46875\" xlink:href=\"#DejaVuSans-108\"/>\n",
       "       <use x=\"583.251953\" xlink:href=\"#DejaVuSans-78\"/>\n",
       "       <use x=\"658.056641\" xlink:href=\"#DejaVuSans-66\"/>\n",
       "      </g>\n",
       "     </g>\n",
       "    </g>\n",
       "    <g id=\"xtick_4\">\n",
       "     <g id=\"text_4\">\n",
       "      <!-- LogisticRegression -->\n",
       "      <defs>\n",
       "       <path d=\"M 45.40625 27.984375 \n",
       "Q 45.40625 37.75 41.375 43.109375 \n",
       "Q 37.359375 48.484375 30.078125 48.484375 \n",
       "Q 22.859375 48.484375 18.828125 43.109375 \n",
       "Q 14.796875 37.75 14.796875 27.984375 \n",
       "Q 14.796875 18.265625 18.828125 12.890625 \n",
       "Q 22.859375 7.515625 30.078125 7.515625 \n",
       "Q 37.359375 7.515625 41.375 12.890625 \n",
       "Q 45.40625 18.265625 45.40625 27.984375 \n",
       "z\n",
       "M 54.390625 6.78125 \n",
       "Q 54.390625 -7.171875 48.1875 -13.984375 \n",
       "Q 42 -20.796875 29.203125 -20.796875 \n",
       "Q 24.46875 -20.796875 20.265625 -20.09375 \n",
       "Q 16.0625 -19.390625 12.109375 -17.921875 \n",
       "L 12.109375 -9.1875 \n",
       "Q 16.0625 -11.328125 19.921875 -12.34375 \n",
       "Q 23.78125 -13.375 27.78125 -13.375 \n",
       "Q 36.625 -13.375 41.015625 -8.765625 \n",
       "Q 45.40625 -4.15625 45.40625 5.171875 \n",
       "L 45.40625 9.625 \n",
       "Q 42.625 4.78125 38.28125 2.390625 \n",
       "Q 33.9375 0 27.875 0 \n",
       "Q 17.828125 0 11.671875 7.65625 \n",
       "Q 5.515625 15.328125 5.515625 27.984375 \n",
       "Q 5.515625 40.671875 11.671875 48.328125 \n",
       "Q 17.828125 56 27.875 56 \n",
       "Q 33.9375 56 38.28125 53.609375 \n",
       "Q 42.625 51.21875 45.40625 46.390625 \n",
       "L 45.40625 54.6875 \n",
       "L 54.390625 54.6875 \n",
       "z\n",
       "\" id=\"DejaVuSans-103\"/>\n",
       "       <path d=\"M 48.78125 52.59375 \n",
       "L 48.78125 44.1875 \n",
       "Q 44.96875 46.296875 41.140625 47.34375 \n",
       "Q 37.3125 48.390625 33.40625 48.390625 \n",
       "Q 24.65625 48.390625 19.8125 42.84375 \n",
       "Q 14.984375 37.3125 14.984375 27.296875 \n",
       "Q 14.984375 17.28125 19.8125 11.734375 \n",
       "Q 24.65625 6.203125 33.40625 6.203125 \n",
       "Q 37.3125 6.203125 41.140625 7.25 \n",
       "Q 44.96875 8.296875 48.78125 10.40625 \n",
       "L 48.78125 2.09375 \n",
       "Q 45.015625 0.34375 40.984375 -0.53125 \n",
       "Q 36.96875 -1.421875 32.421875 -1.421875 \n",
       "Q 20.0625 -1.421875 12.78125 6.34375 \n",
       "Q 5.515625 14.109375 5.515625 27.296875 \n",
       "Q 5.515625 40.671875 12.859375 48.328125 \n",
       "Q 20.21875 56 33.015625 56 \n",
       "Q 37.15625 56 41.109375 55.140625 \n",
       "Q 45.0625 54.296875 48.78125 52.59375 \n",
       "z\n",
       "\" id=\"DejaVuSans-99\"/>\n",
       "      </defs>\n",
       "      <g style=\"fill:#262626;\" transform=\"translate(298.748594 242.498281)scale(0.11 -0.11)\">\n",
       "       <use xlink:href=\"#DejaVuSans-76\"/>\n",
       "       <use x=\"53.962891\" xlink:href=\"#DejaVuSans-111\"/>\n",
       "       <use x=\"115.144531\" xlink:href=\"#DejaVuSans-103\"/>\n",
       "       <use x=\"178.621094\" xlink:href=\"#DejaVuSans-105\"/>\n",
       "       <use x=\"206.404297\" xlink:href=\"#DejaVuSans-115\"/>\n",
       "       <use x=\"258.503906\" xlink:href=\"#DejaVuSans-116\"/>\n",
       "       <use x=\"297.712891\" xlink:href=\"#DejaVuSans-105\"/>\n",
       "       <use x=\"325.496094\" xlink:href=\"#DejaVuSans-99\"/>\n",
       "       <use x=\"380.476562\" xlink:href=\"#DejaVuSans-82\"/>\n",
       "       <use x=\"445.458984\" xlink:href=\"#DejaVuSans-101\"/>\n",
       "       <use x=\"506.982422\" xlink:href=\"#DejaVuSans-103\"/>\n",
       "       <use x=\"570.458984\" xlink:href=\"#DejaVuSans-114\"/>\n",
       "       <use x=\"609.322266\" xlink:href=\"#DejaVuSans-101\"/>\n",
       "       <use x=\"670.845703\" xlink:href=\"#DejaVuSans-115\"/>\n",
       "       <use x=\"722.945312\" xlink:href=\"#DejaVuSans-115\"/>\n",
       "       <use x=\"775.044922\" xlink:href=\"#DejaVuSans-105\"/>\n",
       "       <use x=\"802.828125\" xlink:href=\"#DejaVuSans-111\"/>\n",
       "       <use x=\"864.009766\" xlink:href=\"#DejaVuSans-110\"/>\n",
       "      </g>\n",
       "     </g>\n",
       "    </g>\n",
       "    <g id=\"text_5\">\n",
       "     <!-- model_name -->\n",
       "     <defs>\n",
       "      <path d=\"M 50.984375 -16.609375 \n",
       "L 50.984375 -23.578125 \n",
       "L -0.984375 -23.578125 \n",
       "L -0.984375 -16.609375 \n",
       "z\n",
       "\" id=\"DejaVuSans-95\"/>\n",
       "     </defs>\n",
       "     <g style=\"fill:#262626;\" transform=\"translate(185.506875 257.904063)scale(0.12 -0.12)\">\n",
       "      <use xlink:href=\"#DejaVuSans-109\"/>\n",
       "      <use x=\"97.412109\" xlink:href=\"#DejaVuSans-111\"/>\n",
       "      <use x=\"158.59375\" xlink:href=\"#DejaVuSans-100\"/>\n",
       "      <use x=\"222.070312\" xlink:href=\"#DejaVuSans-101\"/>\n",
       "      <use x=\"283.59375\" xlink:href=\"#DejaVuSans-108\"/>\n",
       "      <use x=\"311.376953\" xlink:href=\"#DejaVuSans-95\"/>\n",
       "      <use x=\"361.376953\" xlink:href=\"#DejaVuSans-110\"/>\n",
       "      <use x=\"424.755859\" xlink:href=\"#DejaVuSans-97\"/>\n",
       "      <use x=\"486.035156\" xlink:href=\"#DejaVuSans-109\"/>\n",
       "      <use x=\"583.447266\" xlink:href=\"#DejaVuSans-101\"/>\n",
       "     </g>\n",
       "    </g>\n",
       "   </g>\n",
       "   <g id=\"matplotlib.axis_2\">\n",
       "    <g id=\"ytick_1\">\n",
       "     <g id=\"line2d_1\">\n",
       "      <path clip-path=\"url(#p92b03dcac4)\" d=\"M 56.805937 216.350499 \n",
       "L 391.605938 216.350499 \n",
       "\" style=\"fill:none;stroke:#ffffff;stroke-linecap:round;\"/>\n",
       "     </g>\n",
       "     <g id=\"text_6\">\n",
       "      <!-- 0.79 -->\n",
       "      <defs>\n",
       "       <path d=\"M 31.78125 66.40625 \n",
       "Q 24.171875 66.40625 20.328125 58.90625 \n",
       "Q 16.5 51.421875 16.5 36.375 \n",
       "Q 16.5 21.390625 20.328125 13.890625 \n",
       "Q 24.171875 6.390625 31.78125 6.390625 \n",
       "Q 39.453125 6.390625 43.28125 13.890625 \n",
       "Q 47.125 21.390625 47.125 36.375 \n",
       "Q 47.125 51.421875 43.28125 58.90625 \n",
       "Q 39.453125 66.40625 31.78125 66.40625 \n",
       "z\n",
       "M 31.78125 74.21875 \n",
       "Q 44.046875 74.21875 50.515625 64.515625 \n",
       "Q 56.984375 54.828125 56.984375 36.375 \n",
       "Q 56.984375 17.96875 50.515625 8.265625 \n",
       "Q 44.046875 -1.421875 31.78125 -1.421875 \n",
       "Q 19.53125 -1.421875 13.0625 8.265625 \n",
       "Q 6.59375 17.96875 6.59375 36.375 \n",
       "Q 6.59375 54.828125 13.0625 64.515625 \n",
       "Q 19.53125 74.21875 31.78125 74.21875 \n",
       "z\n",
       "\" id=\"DejaVuSans-48\"/>\n",
       "       <path d=\"M 10.6875 12.40625 \n",
       "L 21 12.40625 \n",
       "L 21 0 \n",
       "L 10.6875 0 \n",
       "z\n",
       "\" id=\"DejaVuSans-46\"/>\n",
       "       <path d=\"M 8.203125 72.90625 \n",
       "L 55.078125 72.90625 \n",
       "L 55.078125 68.703125 \n",
       "L 28.609375 0 \n",
       "L 18.3125 0 \n",
       "L 43.21875 64.59375 \n",
       "L 8.203125 64.59375 \n",
       "z\n",
       "\" id=\"DejaVuSans-55\"/>\n",
       "       <path d=\"M 10.984375 1.515625 \n",
       "L 10.984375 10.5 \n",
       "Q 14.703125 8.734375 18.5 7.8125 \n",
       "Q 22.3125 6.890625 25.984375 6.890625 \n",
       "Q 35.75 6.890625 40.890625 13.453125 \n",
       "Q 46.046875 20.015625 46.78125 33.40625 \n",
       "Q 43.953125 29.203125 39.59375 26.953125 \n",
       "Q 35.25 24.703125 29.984375 24.703125 \n",
       "Q 19.046875 24.703125 12.671875 31.3125 \n",
       "Q 6.296875 37.9375 6.296875 49.421875 \n",
       "Q 6.296875 60.640625 12.9375 67.421875 \n",
       "Q 19.578125 74.21875 30.609375 74.21875 \n",
       "Q 43.265625 74.21875 49.921875 64.515625 \n",
       "Q 56.59375 54.828125 56.59375 36.375 \n",
       "Q 56.59375 19.140625 48.40625 8.859375 \n",
       "Q 40.234375 -1.421875 26.421875 -1.421875 \n",
       "Q 22.703125 -1.421875 18.890625 -0.6875 \n",
       "Q 15.09375 0.046875 10.984375 1.515625 \n",
       "z\n",
       "M 30.609375 32.421875 \n",
       "Q 37.25 32.421875 41.125 36.953125 \n",
       "Q 45.015625 41.5 45.015625 49.421875 \n",
       "Q 45.015625 57.28125 41.125 61.84375 \n",
       "Q 37.25 66.40625 30.609375 66.40625 \n",
       "Q 23.96875 66.40625 20.09375 61.84375 \n",
       "Q 16.21875 57.28125 16.21875 49.421875 \n",
       "Q 16.21875 41.5 20.09375 36.953125 \n",
       "Q 23.96875 32.421875 30.609375 32.421875 \n",
       "z\n",
       "\" id=\"DejaVuSans-57\"/>\n",
       "      </defs>\n",
       "      <g style=\"fill:#262626;\" transform=\"translate(22.81375 220.529639)scale(0.11 -0.11)\">\n",
       "       <use xlink:href=\"#DejaVuSans-48\"/>\n",
       "       <use x=\"63.623047\" xlink:href=\"#DejaVuSans-46\"/>\n",
       "       <use x=\"95.410156\" xlink:href=\"#DejaVuSans-55\"/>\n",
       "       <use x=\"159.033203\" xlink:href=\"#DejaVuSans-57\"/>\n",
       "      </g>\n",
       "     </g>\n",
       "    </g>\n",
       "    <g id=\"ytick_2\">\n",
       "     <g id=\"line2d_2\">\n",
       "      <path clip-path=\"url(#p92b03dcac4)\" d=\"M 56.805937 184.467801 \n",
       "L 391.605938 184.467801 \n",
       "\" style=\"fill:none;stroke:#ffffff;stroke-linecap:round;\"/>\n",
       "     </g>\n",
       "     <g id=\"text_7\">\n",
       "      <!-- 0.80 -->\n",
       "      <defs>\n",
       "       <path d=\"M 31.78125 34.625 \n",
       "Q 24.75 34.625 20.71875 30.859375 \n",
       "Q 16.703125 27.09375 16.703125 20.515625 \n",
       "Q 16.703125 13.921875 20.71875 10.15625 \n",
       "Q 24.75 6.390625 31.78125 6.390625 \n",
       "Q 38.8125 6.390625 42.859375 10.171875 \n",
       "Q 46.921875 13.96875 46.921875 20.515625 \n",
       "Q 46.921875 27.09375 42.890625 30.859375 \n",
       "Q 38.875 34.625 31.78125 34.625 \n",
       "z\n",
       "M 21.921875 38.8125 \n",
       "Q 15.578125 40.375 12.03125 44.71875 \n",
       "Q 8.5 49.078125 8.5 55.328125 \n",
       "Q 8.5 64.0625 14.71875 69.140625 \n",
       "Q 20.953125 74.21875 31.78125 74.21875 \n",
       "Q 42.671875 74.21875 48.875 69.140625 \n",
       "Q 55.078125 64.0625 55.078125 55.328125 \n",
       "Q 55.078125 49.078125 51.53125 44.71875 \n",
       "Q 48 40.375 41.703125 38.8125 \n",
       "Q 48.828125 37.15625 52.796875 32.3125 \n",
       "Q 56.78125 27.484375 56.78125 20.515625 \n",
       "Q 56.78125 9.90625 50.3125 4.234375 \n",
       "Q 43.84375 -1.421875 31.78125 -1.421875 \n",
       "Q 19.734375 -1.421875 13.25 4.234375 \n",
       "Q 6.78125 9.90625 6.78125 20.515625 \n",
       "Q 6.78125 27.484375 10.78125 32.3125 \n",
       "Q 14.796875 37.15625 21.921875 38.8125 \n",
       "z\n",
       "M 18.3125 54.390625 \n",
       "Q 18.3125 48.734375 21.84375 45.5625 \n",
       "Q 25.390625 42.390625 31.78125 42.390625 \n",
       "Q 38.140625 42.390625 41.71875 45.5625 \n",
       "Q 45.3125 48.734375 45.3125 54.390625 \n",
       "Q 45.3125 60.0625 41.71875 63.234375 \n",
       "Q 38.140625 66.40625 31.78125 66.40625 \n",
       "Q 25.390625 66.40625 21.84375 63.234375 \n",
       "Q 18.3125 60.0625 18.3125 54.390625 \n",
       "z\n",
       "\" id=\"DejaVuSans-56\"/>\n",
       "      </defs>\n",
       "      <g style=\"fill:#262626;\" transform=\"translate(22.81375 188.646941)scale(0.11 -0.11)\">\n",
       "       <use xlink:href=\"#DejaVuSans-48\"/>\n",
       "       <use x=\"63.623047\" xlink:href=\"#DejaVuSans-46\"/>\n",
       "       <use x=\"95.410156\" xlink:href=\"#DejaVuSans-56\"/>\n",
       "       <use x=\"159.033203\" xlink:href=\"#DejaVuSans-48\"/>\n",
       "      </g>\n",
       "     </g>\n",
       "    </g>\n",
       "    <g id=\"ytick_3\">\n",
       "     <g id=\"line2d_3\">\n",
       "      <path clip-path=\"url(#p92b03dcac4)\" d=\"M 56.805937 152.585103 \n",
       "L 391.605938 152.585103 \n",
       "\" style=\"fill:none;stroke:#ffffff;stroke-linecap:round;\"/>\n",
       "     </g>\n",
       "     <g id=\"text_8\">\n",
       "      <!-- 0.81 -->\n",
       "      <defs>\n",
       "       <path d=\"M 12.40625 8.296875 \n",
       "L 28.515625 8.296875 \n",
       "L 28.515625 63.921875 \n",
       "L 10.984375 60.40625 \n",
       "L 10.984375 69.390625 \n",
       "L 28.421875 72.90625 \n",
       "L 38.28125 72.90625 \n",
       "L 38.28125 8.296875 \n",
       "L 54.390625 8.296875 \n",
       "L 54.390625 0 \n",
       "L 12.40625 0 \n",
       "z\n",
       "\" id=\"DejaVuSans-49\"/>\n",
       "      </defs>\n",
       "      <g style=\"fill:#262626;\" transform=\"translate(22.81375 156.764243)scale(0.11 -0.11)\">\n",
       "       <use xlink:href=\"#DejaVuSans-48\"/>\n",
       "       <use x=\"63.623047\" xlink:href=\"#DejaVuSans-46\"/>\n",
       "       <use x=\"95.410156\" xlink:href=\"#DejaVuSans-56\"/>\n",
       "       <use x=\"159.033203\" xlink:href=\"#DejaVuSans-49\"/>\n",
       "      </g>\n",
       "     </g>\n",
       "    </g>\n",
       "    <g id=\"ytick_4\">\n",
       "     <g id=\"line2d_4\">\n",
       "      <path clip-path=\"url(#p92b03dcac4)\" d=\"M 56.805937 120.702405 \n",
       "L 391.605938 120.702405 \n",
       "\" style=\"fill:none;stroke:#ffffff;stroke-linecap:round;\"/>\n",
       "     </g>\n",
       "     <g id=\"text_9\">\n",
       "      <!-- 0.82 -->\n",
       "      <defs>\n",
       "       <path d=\"M 19.1875 8.296875 \n",
       "L 53.609375 8.296875 \n",
       "L 53.609375 0 \n",
       "L 7.328125 0 \n",
       "L 7.328125 8.296875 \n",
       "Q 12.9375 14.109375 22.625 23.890625 \n",
       "Q 32.328125 33.6875 34.8125 36.53125 \n",
       "Q 39.546875 41.84375 41.421875 45.53125 \n",
       "Q 43.3125 49.21875 43.3125 52.78125 \n",
       "Q 43.3125 58.59375 39.234375 62.25 \n",
       "Q 35.15625 65.921875 28.609375 65.921875 \n",
       "Q 23.96875 65.921875 18.8125 64.3125 \n",
       "Q 13.671875 62.703125 7.8125 59.421875 \n",
       "L 7.8125 69.390625 \n",
       "Q 13.765625 71.78125 18.9375 73 \n",
       "Q 24.125 74.21875 28.421875 74.21875 \n",
       "Q 39.75 74.21875 46.484375 68.546875 \n",
       "Q 53.21875 62.890625 53.21875 53.421875 \n",
       "Q 53.21875 48.921875 51.53125 44.890625 \n",
       "Q 49.859375 40.875 45.40625 35.40625 \n",
       "Q 44.1875 33.984375 37.640625 27.21875 \n",
       "Q 31.109375 20.453125 19.1875 8.296875 \n",
       "z\n",
       "\" id=\"DejaVuSans-50\"/>\n",
       "      </defs>\n",
       "      <g style=\"fill:#262626;\" transform=\"translate(22.81375 124.881545)scale(0.11 -0.11)\">\n",
       "       <use xlink:href=\"#DejaVuSans-48\"/>\n",
       "       <use x=\"63.623047\" xlink:href=\"#DejaVuSans-46\"/>\n",
       "       <use x=\"95.410156\" xlink:href=\"#DejaVuSans-56\"/>\n",
       "       <use x=\"159.033203\" xlink:href=\"#DejaVuSans-50\"/>\n",
       "      </g>\n",
       "     </g>\n",
       "    </g>\n",
       "    <g id=\"ytick_5\">\n",
       "     <g id=\"line2d_5\">\n",
       "      <path clip-path=\"url(#p92b03dcac4)\" d=\"M 56.805937 88.819707 \n",
       "L 391.605938 88.819707 \n",
       "\" style=\"fill:none;stroke:#ffffff;stroke-linecap:round;\"/>\n",
       "     </g>\n",
       "     <g id=\"text_10\">\n",
       "      <!-- 0.83 -->\n",
       "      <defs>\n",
       "       <path d=\"M 40.578125 39.3125 \n",
       "Q 47.65625 37.796875 51.625 33 \n",
       "Q 55.609375 28.21875 55.609375 21.1875 \n",
       "Q 55.609375 10.40625 48.1875 4.484375 \n",
       "Q 40.765625 -1.421875 27.09375 -1.421875 \n",
       "Q 22.515625 -1.421875 17.65625 -0.515625 \n",
       "Q 12.796875 0.390625 7.625 2.203125 \n",
       "L 7.625 11.71875 \n",
       "Q 11.71875 9.328125 16.59375 8.109375 \n",
       "Q 21.484375 6.890625 26.8125 6.890625 \n",
       "Q 36.078125 6.890625 40.9375 10.546875 \n",
       "Q 45.796875 14.203125 45.796875 21.1875 \n",
       "Q 45.796875 27.640625 41.28125 31.265625 \n",
       "Q 36.765625 34.90625 28.71875 34.90625 \n",
       "L 20.21875 34.90625 \n",
       "L 20.21875 43.015625 \n",
       "L 29.109375 43.015625 \n",
       "Q 36.375 43.015625 40.234375 45.921875 \n",
       "Q 44.09375 48.828125 44.09375 54.296875 \n",
       "Q 44.09375 59.90625 40.109375 62.90625 \n",
       "Q 36.140625 65.921875 28.71875 65.921875 \n",
       "Q 24.65625 65.921875 20.015625 65.03125 \n",
       "Q 15.375 64.15625 9.8125 62.3125 \n",
       "L 9.8125 71.09375 \n",
       "Q 15.4375 72.65625 20.34375 73.4375 \n",
       "Q 25.25 74.21875 29.59375 74.21875 \n",
       "Q 40.828125 74.21875 47.359375 69.109375 \n",
       "Q 53.90625 64.015625 53.90625 55.328125 \n",
       "Q 53.90625 49.265625 50.4375 45.09375 \n",
       "Q 46.96875 40.921875 40.578125 39.3125 \n",
       "z\n",
       "\" id=\"DejaVuSans-51\"/>\n",
       "      </defs>\n",
       "      <g style=\"fill:#262626;\" transform=\"translate(22.81375 92.998847)scale(0.11 -0.11)\">\n",
       "       <use xlink:href=\"#DejaVuSans-48\"/>\n",
       "       <use x=\"63.623047\" xlink:href=\"#DejaVuSans-46\"/>\n",
       "       <use x=\"95.410156\" xlink:href=\"#DejaVuSans-56\"/>\n",
       "       <use x=\"159.033203\" xlink:href=\"#DejaVuSans-51\"/>\n",
       "      </g>\n",
       "     </g>\n",
       "    </g>\n",
       "    <g id=\"ytick_6\">\n",
       "     <g id=\"line2d_6\">\n",
       "      <path clip-path=\"url(#p92b03dcac4)\" d=\"M 56.805937 56.937009 \n",
       "L 391.605938 56.937009 \n",
       "\" style=\"fill:none;stroke:#ffffff;stroke-linecap:round;\"/>\n",
       "     </g>\n",
       "     <g id=\"text_11\">\n",
       "      <!-- 0.84 -->\n",
       "      <defs>\n",
       "       <path d=\"M 37.796875 64.3125 \n",
       "L 12.890625 25.390625 \n",
       "L 37.796875 25.390625 \n",
       "z\n",
       "M 35.203125 72.90625 \n",
       "L 47.609375 72.90625 \n",
       "L 47.609375 25.390625 \n",
       "L 58.015625 25.390625 \n",
       "L 58.015625 17.1875 \n",
       "L 47.609375 17.1875 \n",
       "L 47.609375 0 \n",
       "L 37.796875 0 \n",
       "L 37.796875 17.1875 \n",
       "L 4.890625 17.1875 \n",
       "L 4.890625 26.703125 \n",
       "z\n",
       "\" id=\"DejaVuSans-52\"/>\n",
       "      </defs>\n",
       "      <g style=\"fill:#262626;\" transform=\"translate(22.81375 61.116149)scale(0.11 -0.11)\">\n",
       "       <use xlink:href=\"#DejaVuSans-48\"/>\n",
       "       <use x=\"63.623047\" xlink:href=\"#DejaVuSans-46\"/>\n",
       "       <use x=\"95.410156\" xlink:href=\"#DejaVuSans-56\"/>\n",
       "       <use x=\"159.033203\" xlink:href=\"#DejaVuSans-52\"/>\n",
       "      </g>\n",
       "     </g>\n",
       "    </g>\n",
       "    <g id=\"ytick_7\">\n",
       "     <g id=\"line2d_7\">\n",
       "      <path clip-path=\"url(#p92b03dcac4)\" d=\"M 56.805937 25.054311 \n",
       "L 391.605938 25.054311 \n",
       "\" style=\"fill:none;stroke:#ffffff;stroke-linecap:round;\"/>\n",
       "     </g>\n",
       "     <g id=\"text_12\">\n",
       "      <!-- 0.85 -->\n",
       "      <defs>\n",
       "       <path d=\"M 10.796875 72.90625 \n",
       "L 49.515625 72.90625 \n",
       "L 49.515625 64.59375 \n",
       "L 19.828125 64.59375 \n",
       "L 19.828125 46.734375 \n",
       "Q 21.96875 47.46875 24.109375 47.828125 \n",
       "Q 26.265625 48.1875 28.421875 48.1875 \n",
       "Q 40.625 48.1875 47.75 41.5 \n",
       "Q 54.890625 34.8125 54.890625 23.390625 \n",
       "Q 54.890625 11.625 47.5625 5.09375 \n",
       "Q 40.234375 -1.421875 26.90625 -1.421875 \n",
       "Q 22.3125 -1.421875 17.546875 -0.640625 \n",
       "Q 12.796875 0.140625 7.71875 1.703125 \n",
       "L 7.71875 11.625 \n",
       "Q 12.109375 9.234375 16.796875 8.0625 \n",
       "Q 21.484375 6.890625 26.703125 6.890625 \n",
       "Q 35.15625 6.890625 40.078125 11.328125 \n",
       "Q 45.015625 15.765625 45.015625 23.390625 \n",
       "Q 45.015625 31 40.078125 35.4375 \n",
       "Q 35.15625 39.890625 26.703125 39.890625 \n",
       "Q 22.75 39.890625 18.8125 39.015625 \n",
       "Q 14.890625 38.140625 10.796875 36.28125 \n",
       "z\n",
       "\" id=\"DejaVuSans-53\"/>\n",
       "      </defs>\n",
       "      <g style=\"fill:#262626;\" transform=\"translate(22.81375 29.233451)scale(0.11 -0.11)\">\n",
       "       <use xlink:href=\"#DejaVuSans-48\"/>\n",
       "       <use x=\"63.623047\" xlink:href=\"#DejaVuSans-46\"/>\n",
       "       <use x=\"95.410156\" xlink:href=\"#DejaVuSans-56\"/>\n",
       "       <use x=\"159.033203\" xlink:href=\"#DejaVuSans-53\"/>\n",
       "      </g>\n",
       "     </g>\n",
       "    </g>\n",
       "    <g id=\"text_13\">\n",
       "     <!-- accuracy -->\n",
       "     <defs>\n",
       "      <path d=\"M 32.171875 -5.078125 \n",
       "Q 28.375 -14.84375 24.75 -17.8125 \n",
       "Q 21.140625 -20.796875 15.09375 -20.796875 \n",
       "L 7.90625 -20.796875 \n",
       "L 7.90625 -13.28125 \n",
       "L 13.1875 -13.28125 \n",
       "Q 16.890625 -13.28125 18.9375 -11.515625 \n",
       "Q 21 -9.765625 23.484375 -3.21875 \n",
       "L 25.09375 0.875 \n",
       "L 2.984375 54.6875 \n",
       "L 12.5 54.6875 \n",
       "L 29.59375 11.921875 \n",
       "L 46.6875 54.6875 \n",
       "L 56.203125 54.6875 \n",
       "z\n",
       "\" id=\"DejaVuSans-121\"/>\n",
       "     </defs>\n",
       "     <g style=\"fill:#262626;\" transform=\"translate(16.318125 142.99125)rotate(-90)scale(0.12 -0.12)\">\n",
       "      <use xlink:href=\"#DejaVuSans-97\"/>\n",
       "      <use x=\"61.279297\" xlink:href=\"#DejaVuSans-99\"/>\n",
       "      <use x=\"116.259766\" xlink:href=\"#DejaVuSans-99\"/>\n",
       "      <use x=\"171.240234\" xlink:href=\"#DejaVuSans-117\"/>\n",
       "      <use x=\"234.619141\" xlink:href=\"#DejaVuSans-114\"/>\n",
       "      <use x=\"275.732422\" xlink:href=\"#DejaVuSans-97\"/>\n",
       "      <use x=\"337.011719\" xlink:href=\"#DejaVuSans-99\"/>\n",
       "      <use x=\"391.992188\" xlink:href=\"#DejaVuSans-121\"/>\n",
       "     </g>\n",
       "    </g>\n",
       "   </g>\n",
       "   <g id=\"patch_3\">\n",
       "    <path clip-path=\"url(#p92b03dcac4)\" d=\"M 65.175938 209.973959 \n",
       "L 132.135938 209.973959 \n",
       "L 132.135938 197.22088 \n",
       "L 65.175938 197.22088 \n",
       "L 65.175938 209.973959 \n",
       "z\n",
       "\" style=\"fill:#5875a4;stroke:#4c4c4c;stroke-linejoin:miter;stroke-width:1.5;\"/>\n",
       "   </g>\n",
       "   <g id=\"patch_4\">\n",
       "    <path clip-path=\"url(#p92b03dcac4)\" d=\"M 148.875938 34.61912 \n",
       "L 215.835938 34.61912 \n",
       "L 215.835938 18.677771 \n",
       "L 148.875938 18.677771 \n",
       "L 148.875938 34.61912 \n",
       "z\n",
       "\" style=\"fill:#cc8963;stroke:#4c4c4c;stroke-linejoin:miter;stroke-width:1.5;\"/>\n",
       "   </g>\n",
       "   <g id=\"patch_5\">\n",
       "    <path clip-path=\"url(#p92b03dcac4)\" d=\"M 232.575938 80.849032 \n",
       "L 299.535938 80.849032 \n",
       "L 299.535938 58.531144 \n",
       "L 232.575938 58.531144 \n",
       "L 232.575938 80.849032 \n",
       "z\n",
       "\" style=\"fill:#5f9e6e;stroke:#4c4c4c;stroke-linejoin:miter;stroke-width:1.5;\"/>\n",
       "   </g>\n",
       "   <g id=\"patch_6\">\n",
       "    <path clip-path=\"url(#p92b03dcac4)\" d=\"M 316.275938 61.719413 \n",
       "L 383.235938 61.719413 \n",
       "L 383.235938 50.560469 \n",
       "L 316.275938 50.560469 \n",
       "L 316.275938 61.719413 \n",
       "z\n",
       "\" style=\"fill:#b55d60;stroke:#4c4c4c;stroke-linejoin:miter;stroke-width:1.5;\"/>\n",
       "   </g>\n",
       "   <g id=\"line2d_8\">\n",
       "    <path clip-path=\"url(#p92b03dcac4)\" d=\"M 98.655938 209.973959 \n",
       "L 98.655938 214.756364 \n",
       "\" style=\"fill:none;stroke:#4c4c4c;stroke-linecap:round;stroke-width:1.5;\"/>\n",
       "   </g>\n",
       "   <g id=\"line2d_9\">\n",
       "    <path clip-path=\"url(#p92b03dcac4)\" d=\"M 98.655938 197.22088 \n",
       "L 98.655938 197.22088 \n",
       "\" style=\"fill:none;stroke:#4c4c4c;stroke-linecap:round;stroke-width:1.5;\"/>\n",
       "   </g>\n",
       "   <g id=\"line2d_10\">\n",
       "    <path clip-path=\"url(#p92b03dcac4)\" d=\"M 81.915937 214.756364 \n",
       "L 115.395938 214.756364 \n",
       "\" style=\"fill:none;stroke:#4c4c4c;stroke-linecap:round;stroke-width:1.5;\"/>\n",
       "   </g>\n",
       "   <g id=\"line2d_11\">\n",
       "    <path clip-path=\"url(#p92b03dcac4)\" d=\"M 81.915937 197.22088 \n",
       "L 115.395938 197.22088 \n",
       "\" style=\"fill:none;stroke:#4c4c4c;stroke-linecap:round;stroke-width:1.5;\"/>\n",
       "   </g>\n",
       "   <g id=\"line2d_12\">\n",
       "    <defs>\n",
       "     <path d=\"M -0 3.535534 \n",
       "L 2.12132 0 \n",
       "L -0 -3.535534 \n",
       "L -2.12132 -0 \n",
       "z\n",
       "\" id=\"m9f480bf894\" style=\"stroke:#4c4c4c;stroke-linejoin:miter;\"/>\n",
       "    </defs>\n",
       "    <g clip-path=\"url(#p92b03dcac4)\">\n",
       "     <use style=\"fill:#4c4c4c;stroke:#4c4c4c;stroke-linejoin:miter;\" x=\"98.655938\" xlink:href=\"#m9f480bf894\" y=\"149.396833\"/>\n",
       "    </g>\n",
       "   </g>\n",
       "   <g id=\"line2d_13\">\n",
       "    <path clip-path=\"url(#p92b03dcac4)\" d=\"M 182.355938 34.61912 \n",
       "L 182.355938 47.372199 \n",
       "\" style=\"fill:none;stroke:#4c4c4c;stroke-linecap:round;stroke-width:1.5;\"/>\n",
       "   </g>\n",
       "   <g id=\"line2d_14\">\n",
       "    <path clip-path=\"url(#p92b03dcac4)\" d=\"M 182.355938 18.677771 \n",
       "L 182.355938 17.083636 \n",
       "\" style=\"fill:none;stroke:#4c4c4c;stroke-linecap:round;stroke-width:1.5;\"/>\n",
       "   </g>\n",
       "   <g id=\"line2d_15\">\n",
       "    <path clip-path=\"url(#p92b03dcac4)\" d=\"M 165.615938 47.372199 \n",
       "L 199.095938 47.372199 \n",
       "\" style=\"fill:none;stroke:#4c4c4c;stroke-linecap:round;stroke-width:1.5;\"/>\n",
       "   </g>\n",
       "   <g id=\"line2d_16\">\n",
       "    <path clip-path=\"url(#p92b03dcac4)\" d=\"M 165.615938 17.083636 \n",
       "L 199.095938 17.083636 \n",
       "\" style=\"fill:none;stroke:#4c4c4c;stroke-linecap:round;stroke-width:1.5;\"/>\n",
       "   </g>\n",
       "   <g id=\"line2d_17\"/>\n",
       "   <g id=\"line2d_18\">\n",
       "    <path clip-path=\"url(#p92b03dcac4)\" d=\"M 266.055938 80.849032 \n",
       "L 266.055938 82.443167 \n",
       "\" style=\"fill:none;stroke:#4c4c4c;stroke-linecap:round;stroke-width:1.5;\"/>\n",
       "   </g>\n",
       "   <g id=\"line2d_19\">\n",
       "    <path clip-path=\"url(#p92b03dcac4)\" d=\"M 266.055938 58.531144 \n",
       "L 266.055938 55.342874 \n",
       "\" style=\"fill:none;stroke:#4c4c4c;stroke-linecap:round;stroke-width:1.5;\"/>\n",
       "   </g>\n",
       "   <g id=\"line2d_20\">\n",
       "    <path clip-path=\"url(#p92b03dcac4)\" d=\"M 249.315938 82.443167 \n",
       "L 282.795938 82.443167 \n",
       "\" style=\"fill:none;stroke:#4c4c4c;stroke-linecap:round;stroke-width:1.5;\"/>\n",
       "   </g>\n",
       "   <g id=\"line2d_21\">\n",
       "    <path clip-path=\"url(#p92b03dcac4)\" d=\"M 249.315938 55.342874 \n",
       "L 282.795938 55.342874 \n",
       "\" style=\"fill:none;stroke:#4c4c4c;stroke-linecap:round;stroke-width:1.5;\"/>\n",
       "   </g>\n",
       "   <g id=\"line2d_22\"/>\n",
       "   <g id=\"line2d_23\">\n",
       "    <path clip-path=\"url(#p92b03dcac4)\" d=\"M 349.755938 61.719413 \n",
       "L 349.755938 71.284223 \n",
       "\" style=\"fill:none;stroke:#4c4c4c;stroke-linecap:round;stroke-width:1.5;\"/>\n",
       "   </g>\n",
       "   <g id=\"line2d_24\">\n",
       "    <path clip-path=\"url(#p92b03dcac4)\" d=\"M 349.755938 50.560469 \n",
       "L 349.755938 47.372199 \n",
       "\" style=\"fill:none;stroke:#4c4c4c;stroke-linecap:round;stroke-width:1.5;\"/>\n",
       "   </g>\n",
       "   <g id=\"line2d_25\">\n",
       "    <path clip-path=\"url(#p92b03dcac4)\" d=\"M 333.015938 71.284223 \n",
       "L 366.495938 71.284223 \n",
       "\" style=\"fill:none;stroke:#4c4c4c;stroke-linecap:round;stroke-width:1.5;\"/>\n",
       "   </g>\n",
       "   <g id=\"line2d_26\">\n",
       "    <path clip-path=\"url(#p92b03dcac4)\" d=\"M 333.015938 47.372199 \n",
       "L 366.495938 47.372199 \n",
       "\" style=\"fill:none;stroke:#4c4c4c;stroke-linecap:round;stroke-width:1.5;\"/>\n",
       "   </g>\n",
       "   <g id=\"line2d_27\"/>\n",
       "   <g id=\"line2d_28\">\n",
       "    <path clip-path=\"url(#p92b03dcac4)\" d=\"M 65.175938 200.40915 \n",
       "L 132.135938 200.40915 \n",
       "\" style=\"fill:none;stroke:#4c4c4c;stroke-linecap:round;stroke-width:1.5;\"/>\n",
       "   </g>\n",
       "   <g id=\"line2d_29\">\n",
       "    <path clip-path=\"url(#p92b03dcac4)\" d=\"M 148.875938 23.460176 \n",
       "L 215.835938 23.460176 \n",
       "\" style=\"fill:none;stroke:#4c4c4c;stroke-linecap:round;stroke-width:1.5;\"/>\n",
       "   </g>\n",
       "   <g id=\"line2d_30\">\n",
       "    <path clip-path=\"url(#p92b03dcac4)\" d=\"M 232.575938 72.878358 \n",
       "L 299.535938 72.878358 \n",
       "\" style=\"fill:none;stroke:#4c4c4c;stroke-linecap:round;stroke-width:1.5;\"/>\n",
       "   </g>\n",
       "   <g id=\"line2d_31\">\n",
       "    <path clip-path=\"url(#p92b03dcac4)\" d=\"M 316.275938 56.937009 \n",
       "L 383.235938 56.937009 \n",
       "\" style=\"fill:none;stroke:#4c4c4c;stroke-linecap:round;stroke-width:1.5;\"/>\n",
       "   </g>\n",
       "   <g id=\"patch_7\">\n",
       "    <path d=\"M 56.805937 224.64 \n",
       "L 56.805937 7.2 \n",
       "\" style=\"fill:none;stroke:#ffffff;stroke-linecap:square;stroke-linejoin:miter;stroke-width:1.25;\"/>\n",
       "   </g>\n",
       "   <g id=\"patch_8\">\n",
       "    <path d=\"M 391.605938 224.64 \n",
       "L 391.605938 7.2 \n",
       "\" style=\"fill:none;stroke:#ffffff;stroke-linecap:square;stroke-linejoin:miter;stroke-width:1.25;\"/>\n",
       "   </g>\n",
       "   <g id=\"patch_9\">\n",
       "    <path d=\"M 56.805937 224.64 \n",
       "L 391.605938 224.64 \n",
       "\" style=\"fill:none;stroke:#ffffff;stroke-linecap:square;stroke-linejoin:miter;stroke-width:1.25;\"/>\n",
       "   </g>\n",
       "   <g id=\"patch_10\">\n",
       "    <path d=\"M 56.805937 7.2 \n",
       "L 391.605938 7.2 \n",
       "\" style=\"fill:none;stroke:#ffffff;stroke-linecap:square;stroke-linejoin:miter;stroke-width:1.25;\"/>\n",
       "   </g>\n",
       "   <g id=\"PathCollection_1\">\n",
       "    <defs>\n",
       "     <path d=\"M 0 4 \n",
       "C 1.060812 4 2.078319 3.578535 2.828427 2.828427 \n",
       "C 3.578535 2.078319 4 1.060812 4 0 \n",
       "C 4 -1.060812 3.578535 -2.078319 2.828427 -2.828427 \n",
       "C 2.078319 -3.578535 1.060812 -4 0 -4 \n",
       "C -1.060812 -4 -2.078319 -3.578535 -2.828427 -2.828427 \n",
       "C -3.578535 -2.078319 -4 -1.060812 -4 0 \n",
       "C -4 1.060812 -3.578535 2.078319 -2.828427 2.828427 \n",
       "C -2.078319 3.578535 -1.060812 4 0 4 \n",
       "z\n",
       "\" id=\"C0_0_5e413da0f9\"/>\n",
       "    </defs>\n",
       "    <g clip-path=\"url(#p92b03dcac4)\">\n",
       "     <use style=\"fill:#4c72b0;stroke:#4c4c4c;stroke-width:2;\" x=\"95.194367\" xlink:href=\"#C0_0_5e413da0f9\" y=\"197.22088\"/>\n",
       "    </g>\n",
       "    <g clip-path=\"url(#p92b03dcac4)\">\n",
       "     <use style=\"fill:#4c72b0;stroke:#4c4c4c;stroke-width:2;\" x=\"92.460089\" xlink:href=\"#C0_0_5e413da0f9\" y=\"149.396833\"/>\n",
       "    </g>\n",
       "    <g clip-path=\"url(#p92b03dcac4)\">\n",
       "     <use style=\"fill:#4c72b0;stroke:#4c4c4c;stroke-width:2;\" x=\"95.820344\" xlink:href=\"#C0_0_5e413da0f9\" y=\"209.973959\"/>\n",
       "    </g>\n",
       "    <g clip-path=\"url(#p92b03dcac4)\">\n",
       "     <use style=\"fill:#4c72b0;stroke:#4c4c4c;stroke-width:2;\" x=\"104.936785\" xlink:href=\"#C0_0_5e413da0f9\" y=\"214.756364\"/>\n",
       "    </g>\n",
       "    <g clip-path=\"url(#p92b03dcac4)\">\n",
       "     <use style=\"fill:#4c72b0;stroke:#4c4c4c;stroke-width:2;\" x=\"106.63156\" xlink:href=\"#C0_0_5e413da0f9\" y=\"200.40915\"/>\n",
       "    </g>\n",
       "   </g>\n",
       "   <g id=\"PathCollection_2\">\n",
       "    <defs>\n",
       "     <path d=\"M 0 4 \n",
       "C 1.060812 4 2.078319 3.578535 2.828427 2.828427 \n",
       "C 3.578535 2.078319 4 1.060812 4 0 \n",
       "C 4 -1.060812 3.578535 -2.078319 2.828427 -2.828427 \n",
       "C 2.078319 -3.578535 1.060812 -4 0 -4 \n",
       "C -1.060812 -4 -2.078319 -3.578535 -2.828427 -2.828427 \n",
       "C -3.578535 -2.078319 -4 -1.060812 -4 0 \n",
       "C -4 1.060812 -3.578535 2.078319 -2.828427 2.828427 \n",
       "C -2.078319 3.578535 -1.060812 4 0 4 \n",
       "z\n",
       "\" id=\"C1_0_943243f1fa\"/>\n",
       "    </defs>\n",
       "    <g clip-path=\"url(#p92b03dcac4)\">\n",
       "     <use style=\"fill:#dd8452;stroke:#4c4c4c;stroke-width:2;\" x=\"183.518966\" xlink:href=\"#C1_0_943243f1fa\" y=\"18.677771\"/>\n",
       "    </g>\n",
       "    <g clip-path=\"url(#p92b03dcac4)\">\n",
       "     <use style=\"fill:#dd8452;stroke:#4c4c4c;stroke-width:2;\" x=\"188.077701\" xlink:href=\"#C1_0_943243f1fa\" y=\"23.460176\"/>\n",
       "    </g>\n",
       "    <g clip-path=\"url(#p92b03dcac4)\">\n",
       "     <use style=\"fill:#dd8452;stroke:#4c4c4c;stroke-width:2;\" x=\"185.912512\" xlink:href=\"#C1_0_943243f1fa\" y=\"47.372199\"/>\n",
       "    </g>\n",
       "    <g clip-path=\"url(#p92b03dcac4)\">\n",
       "     <use style=\"fill:#dd8452;stroke:#4c4c4c;stroke-width:2;\" x=\"176.631074\" xlink:href=\"#C1_0_943243f1fa\" y=\"34.61912\"/>\n",
       "    </g>\n",
       "    <g clip-path=\"url(#p92b03dcac4)\">\n",
       "     <use style=\"fill:#dd8452;stroke:#4c4c4c;stroke-width:2;\" x=\"175.717364\" xlink:href=\"#C1_0_943243f1fa\" y=\"17.083636\"/>\n",
       "    </g>\n",
       "   </g>\n",
       "   <g id=\"PathCollection_3\">\n",
       "    <defs>\n",
       "     <path d=\"M 0 4 \n",
       "C 1.060812 4 2.078319 3.578535 2.828427 2.828427 \n",
       "C 3.578535 2.078319 4 1.060812 4 0 \n",
       "C 4 -1.060812 3.578535 -2.078319 2.828427 -2.828427 \n",
       "C 2.078319 -3.578535 1.060812 -4 0 -4 \n",
       "C -1.060812 -4 -2.078319 -3.578535 -2.828427 -2.828427 \n",
       "C -3.578535 -2.078319 -4 -1.060812 -4 0 \n",
       "C -4 1.060812 -3.578535 2.078319 -2.828427 2.828427 \n",
       "C -2.078319 3.578535 -1.060812 4 0 4 \n",
       "z\n",
       "\" id=\"C2_0_8dcf469679\"/>\n",
       "    </defs>\n",
       "    <g clip-path=\"url(#p92b03dcac4)\">\n",
       "     <use style=\"fill:#55a868;stroke:#4c4c4c;stroke-width:2;\" x=\"273.282942\" xlink:href=\"#C2_0_8dcf469679\" y=\"82.443167\"/>\n",
       "    </g>\n",
       "    <g clip-path=\"url(#p92b03dcac4)\">\n",
       "     <use style=\"fill:#55a868;stroke:#4c4c4c;stroke-width:2;\" x=\"258.478776\" xlink:href=\"#C2_0_8dcf469679\" y=\"80.849032\"/>\n",
       "    </g>\n",
       "    <g clip-path=\"url(#p92b03dcac4)\">\n",
       "     <use style=\"fill:#55a868;stroke:#4c4c4c;stroke-width:2;\" x=\"267.733948\" xlink:href=\"#C2_0_8dcf469679\" y=\"55.342874\"/>\n",
       "    </g>\n",
       "    <g clip-path=\"url(#p92b03dcac4)\">\n",
       "     <use style=\"fill:#55a868;stroke:#4c4c4c;stroke-width:2;\" x=\"267.361296\" xlink:href=\"#C2_0_8dcf469679\" y=\"72.878358\"/>\n",
       "    </g>\n",
       "    <g clip-path=\"url(#p92b03dcac4)\">\n",
       "     <use style=\"fill:#55a868;stroke:#4c4c4c;stroke-width:2;\" x=\"261.281134\" xlink:href=\"#C2_0_8dcf469679\" y=\"58.531144\"/>\n",
       "    </g>\n",
       "   </g>\n",
       "   <g id=\"PathCollection_4\">\n",
       "    <defs>\n",
       "     <path d=\"M 0 4 \n",
       "C 1.060812 4 2.078319 3.578535 2.828427 2.828427 \n",
       "C 3.578535 2.078319 4 1.060812 4 0 \n",
       "C 4 -1.060812 3.578535 -2.078319 2.828427 -2.828427 \n",
       "C 2.078319 -3.578535 1.060812 -4 0 -4 \n",
       "C -1.060812 -4 -2.078319 -3.578535 -2.828427 -2.828427 \n",
       "C -3.578535 -2.078319 -4 -1.060812 -4 0 \n",
       "C -4 1.060812 -3.578535 2.078319 -2.828427 2.828427 \n",
       "C -2.078319 3.578535 -1.060812 4 0 4 \n",
       "z\n",
       "\" id=\"C3_0_e58cbe0626\"/>\n",
       "    </defs>\n",
       "    <g clip-path=\"url(#p92b03dcac4)\">\n",
       "     <use style=\"fill:#c44e52;stroke:#4c4c4c;stroke-width:2;\" x=\"351.027998\" xlink:href=\"#C3_0_e58cbe0626\" y=\"50.560469\"/>\n",
       "    </g>\n",
       "    <g clip-path=\"url(#p92b03dcac4)\">\n",
       "     <use style=\"fill:#c44e52;stroke:#4c4c4c;stroke-width:2;\" x=\"356.023554\" xlink:href=\"#C3_0_e58cbe0626\" y=\"71.284223\"/>\n",
       "    </g>\n",
       "    <g clip-path=\"url(#p92b03dcac4)\">\n",
       "     <use style=\"fill:#c44e52;stroke:#4c4c4c;stroke-width:2;\" x=\"353.640997\" xlink:href=\"#C3_0_e58cbe0626\" y=\"56.937009\"/>\n",
       "    </g>\n",
       "    <g clip-path=\"url(#p92b03dcac4)\">\n",
       "     <use style=\"fill:#c44e52;stroke:#4c4c4c;stroke-width:2;\" x=\"343.156701\" xlink:href=\"#C3_0_e58cbe0626\" y=\"61.719413\"/>\n",
       "    </g>\n",
       "    <g clip-path=\"url(#p92b03dcac4)\">\n",
       "     <use style=\"fill:#c44e52;stroke:#4c4c4c;stroke-width:2;\" x=\"347.713949\" xlink:href=\"#C3_0_e58cbe0626\" y=\"47.372199\"/>\n",
       "    </g>\n",
       "   </g>\n",
       "  </g>\n",
       " </g>\n",
       " <defs>\n",
       "  <clipPath id=\"p92b03dcac4\">\n",
       "   <rect height=\"217.44\" width=\"334.8\" x=\"56.805937\" y=\"7.2\"/>\n",
       "  </clipPath>\n",
       " </defs>\n",
       "</svg>\n"
      ],
      "text/plain": [
       "<Figure size 432x288 with 1 Axes>"
      ]
     },
     "metadata": {
      "needs_background": "light",
      "tags": []
     },
     "output_type": "display_data"
    }
   ],
   "source": [
    "import seaborn as sns\n",
    "sns.boxplot(x='model_name', y='accuracy', data=cv_df)\n",
    "sns.stripplot(x='model_name', y='accuracy', data=cv_df, \n",
    "              size=8, jitter=True, edgecolor=\"gray\", linewidth=2)\n",
    "plt.show()"
   ]
  },
  {
   "cell_type": "code",
   "execution_count": 29,
   "metadata": {
    "colab": {
     "base_uri": "https://localhost:8080/",
     "height": 118
    },
    "id": "PEbsXkr5fbu4",
    "outputId": "b644d8da-21ed-404c-fb55-09c46fec568e"
   },
   "outputs": [
    {
     "data": {
      "text/plain": [
       "model_name\n",
       "LinearSVC                 0.8490\n",
       "LogisticRegression        0.8398\n",
       "MultinomialNB             0.8359\n",
       "RandomForestClassifier    0.7969\n",
       "Name: accuracy, dtype: float64"
      ]
     },
     "execution_count": 29,
     "metadata": {
      "tags": []
     },
     "output_type": "execute_result"
    }
   ],
   "source": [
    "cv_df.groupby('model_name').accuracy.mean()"
   ]
  },
  {
   "cell_type": "markdown",
   "metadata": {
    "id": "0VML-GMJfgaG"
   },
   "source": [
    "# 5- Model Performance with validation method"
   ]
  },
  {
   "cell_type": "code",
   "execution_count": 30,
   "metadata": {
    "colab": {
     "base_uri": "https://localhost:8080/",
     "height": 50
    },
    "id": "JZUbD0PGoHaR",
    "outputId": "da27c87d-ab82-46e1-eef8-ec1e2b2830f4"
   },
   "outputs": [
    {
     "name": "stdout",
     "output_type": "stream",
     "text": [
      "(10000, 3438)\n",
      "(10000,)\n"
     ]
    }
   ],
   "source": [
    "print(features.shape)\n",
    "print(labels.shape)"
   ]
  },
  {
   "cell_type": "markdown",
   "metadata": {
    "id": "fAQKd5ZFUzQP"
   },
   "source": [
    "Mathematically, optimizing an SVM is a convex optimization problem, usually with a unique minimizer. This means that there is only one solution to this mathematical optimization problem.\n",
    "\n",
    "The differences in results come from several aspects: SVC and LinearSVC are supposed to optimize the same problem, but in fact all liblinear estimators penalize the intercept, whereas libsvm ones don't (IIRC). This leads to a different mathematical optimization problem and thus different results. There may also be other subtle differences such as scaling and default loss function (edit: make sure you set loss='hinge' in LinearSVC). \n",
    "\n",
    "**in multiclass classification, linearSVC does one-vs-rest by default whereas SVC does one-vs-one.**\n",
    "\n",
    "SGDClassifier(loss='hinge') is different from the other two in the sense that it uses stochastic gradient descent and not exact gradient descent and may not converge to the same solution. However the obtained solution may generalize better.\n",
    "\n",
    "Between SVC and LinearSVC, one important decision criterion is that LinearSVC tends to be faster to converge the larger the number of samples is. This is due to the fact that the linear kernel is a special case, which is optimized for in Liblinear, but not in Libsvm"
   ]
  },
  {
   "cell_type": "code",
   "execution_count": 32,
   "metadata": {
    "colab": {
     "base_uri": "https://localhost:8080/",
     "height": 84
    },
    "id": "KblSOHsUoA6y",
    "outputId": "c1396061-8a9e-4df2-c6bf-3174c80b646e"
   },
   "outputs": [
    {
     "data": {
      "text/plain": [
       "LinearSVC(C=1.0, class_weight=None, dual=True, fit_intercept=True,\n",
       "          intercept_scaling=1, loss='squared_hinge', max_iter=1000,\n",
       "          multi_class='ovr', penalty='l2', random_state=None, tol=0.0001,\n",
       "          verbose=0)"
      ]
     },
     "execution_count": 32,
     "metadata": {
      "tags": []
     },
     "output_type": "execute_result"
    }
   ],
   "source": [
    "from sklearn.svm import SVC \n",
    "model_val = LinearSVC() # using best performing model\n",
    "X_train, X_test, y_train, y_test, indices_train, indices_test = train_test_split(features, labels, data.index, test_size=0.20, random_state=0)\n",
    "model_val.fit(X_train, y_train) # training on whole train data"
   ]
  },
  {
   "cell_type": "code",
   "execution_count": 33,
   "metadata": {
    "id": "3TFZYG2lWtrO"
   },
   "outputs": [],
   "source": [
    "y_pred = model_val.predict(X_test)\n"
   ]
  },
  {
   "cell_type": "code",
   "execution_count": 34,
   "metadata": {
    "colab": {
     "base_uri": "https://localhost:8080/",
     "height": 34
    },
    "id": "wrfHgGqYYujI",
    "outputId": "70f658cc-d708-4680-c72f-d459a735addf"
   },
   "outputs": [
    {
     "name": "stdout",
     "output_type": "stream",
     "text": [
      "model Accuracy for train data:  0.96425\n"
     ]
    }
   ],
   "source": [
    "training_scr=model_val.score(X_train, y_train)\n",
    "print('model Accuracy for train data: ',training_scr)"
   ]
  },
  {
   "cell_type": "code",
   "execution_count": 35,
   "metadata": {
    "colab": {
     "base_uri": "https://localhost:8080/",
     "height": 34
    },
    "id": "yEphL759ZHTd",
    "outputId": "a857e0db-6265-43ce-b106-e17cda481044"
   },
   "outputs": [
    {
     "name": "stdout",
     "output_type": "stream",
     "text": [
      "Model Accuracy for validation data:  0.8455\n"
     ]
    }
   ],
   "source": [
    "import sklearn.metrics as metrics\n",
    "print('Model Accuracy for validation data: ', metrics.accuracy_score(y_test,y_pred))"
   ]
  },
  {
   "cell_type": "markdown",
   "metadata": {
    "id": "oahtSz8Odyrl"
   },
   "source": [
    "Results are pretty same in number as LinearSVC and SVC. Mathematical difference is stated above."
   ]
  },
  {
   "cell_type": "markdown",
   "metadata": {
    "id": "Twh24ZVyZhlC"
   },
   "source": [
    "There is clear sign of overfitting. We need to counter this problem."
   ]
  },
  {
   "cell_type": "code",
   "execution_count": 36,
   "metadata": {
    "colab": {
     "base_uri": "https://localhost:8080/",
     "height": 202
    },
    "id": "GllONtO5XJcr",
    "outputId": "cb060ffe-ad5f-4d26-d3a1-e0a698d25ec0"
   },
   "outputs": [
    {
     "name": "stdout",
     "output_type": "stream",
     "text": [
      "              precision    recall  f1-score   support\n",
      "\n",
      "           b       0.81      0.81      0.81       530\n",
      "           e       0.90      0.92      0.91       731\n",
      "           m       0.79      0.73      0.76       222\n",
      "           t       0.84      0.83      0.83       517\n",
      "\n",
      "    accuracy                           0.85      2000\n",
      "   macro avg       0.83      0.82      0.83      2000\n",
      "weighted avg       0.84      0.85      0.84      2000\n",
      "\n"
     ]
    }
   ],
   "source": [
    "from sklearn import metrics\n",
    "print(metrics.classification_report(y_test, y_pred))"
   ]
  },
  {
   "cell_type": "markdown",
   "metadata": {
    "id": "m_MyEACIXr0V"
   },
   "source": [
    "Consistent with Cross validation analysis above. Let's see how it performs on test data i.e data with only headline title."
   ]
  },
  {
   "cell_type": "markdown",
   "metadata": {
    "id": "8zRVDsZcWiFY"
   },
   "source": [
    "# 6-Evaluation"
   ]
  },
  {
   "cell_type": "code",
   "execution_count": 38,
   "metadata": {
    "colab": {
     "base_uri": "https://localhost:8080/",
     "height": 84
    },
    "id": "tsbaf9gtWyJ4",
    "outputId": "ad571f78-515f-495f-b52c-c4ce3a365754"
   },
   "outputs": [
    {
     "data": {
      "text/plain": [
       "LinearSVC(C=1.0, class_weight=None, dual=True, fit_intercept=True,\n",
       "          intercept_scaling=1, loss='squared_hinge', max_iter=1000,\n",
       "          multi_class='ovr', penalty='l2', random_state=None, tol=0.0001,\n",
       "          verbose=0)"
      ]
     },
     "execution_count": 38,
     "metadata": {
      "tags": []
     },
     "output_type": "execute_result"
    }
   ],
   "source": [
    "# fit model over 10K samples now.\n",
    "model_ml = LinearSVC()\n",
    "model_ml.fit(features, labels)"
   ]
  },
  {
   "cell_type": "markdown",
   "metadata": {
    "id": "y3etyYQjmhdF"
   },
   "source": [
    "### 6.1.Serialize model"
   ]
  },
  {
   "cell_type": "code",
   "execution_count": 39,
   "metadata": {
    "id": "aYTHBZ-UmgjY"
   },
   "outputs": [],
   "source": [
    "# save the model to disk\n",
    "import pickle\n",
    "save_model = 'linearsvc_model.sav'\n",
    "pickle.dump(model_ml, open(save_model, 'wb'))"
   ]
  },
  {
   "cell_type": "code",
   "execution_count": 40,
   "metadata": {
    "id": "VgcJktPvmmIK"
   },
   "outputs": [],
   "source": [
    "save_vect = 'tfidf.sav'\n",
    "pickle.dump(tfidf, open(save_vect, 'wb'))"
   ]
  },
  {
   "cell_type": "markdown",
   "metadata": {
    "id": "mkLxi4rmmnjM"
   },
   "source": [
    "### 6.2.checking on test data"
   ]
  },
  {
   "cell_type": "code",
   "execution_count": 41,
   "metadata": {
    "id": "GoTIA7fsmMJ5"
   },
   "outputs": [],
   "source": [
    "#loading test feature and label data saved from previous notebooks\n",
    "feature_test=pd.read_csv('test_data.csv')\n",
    "label_test=pd.read_csv('test_label.csv')"
   ]
  },
  {
   "cell_type": "code",
   "execution_count": 42,
   "metadata": {
    "colab": {
     "base_uri": "https://localhost:8080/",
     "height": 50
    },
    "id": "VfKX0Gmmmdrg",
    "outputId": "96a8300d-5ee7-4d5b-b39e-8cbbb93eb2b8"
   },
   "outputs": [
    {
     "name": "stdout",
     "output_type": "stream",
     "text": [
      "(84484, 2)\n",
      "(84484, 1)\n"
     ]
    }
   ],
   "source": [
    "print(feature_test.shape)\n",
    "print(label_test.shape)"
   ]
  },
  {
   "cell_type": "code",
   "execution_count": 43,
   "metadata": {
    "colab": {
     "base_uri": "https://localhost:8080/",
     "height": 106
    },
    "id": "FLN30alfnPlu",
    "outputId": "9c620083-9c46-4e3a-bcdd-4976acd4e800"
   },
   "outputs": [
    {
     "data": {
      "text/html": [
       "<div>\n",
       "<style scoped>\n",
       "    .dataframe tbody tr th:only-of-type {\n",
       "        vertical-align: middle;\n",
       "    }\n",
       "\n",
       "    .dataframe tbody tr th {\n",
       "        vertical-align: top;\n",
       "    }\n",
       "\n",
       "    .dataframe thead th {\n",
       "        text-align: right;\n",
       "    }\n",
       "</style>\n",
       "<table border=\"1\" class=\"dataframe\">\n",
       "  <thead>\n",
       "    <tr style=\"text-align: right;\">\n",
       "      <th></th>\n",
       "      <th>Unnamed: 0</th>\n",
       "      <th>title</th>\n",
       "    </tr>\n",
       "  </thead>\n",
       "  <tbody>\n",
       "    <tr>\n",
       "      <th>0</th>\n",
       "      <td>153245</td>\n",
       "      <td>iPhone 6 Release Date Pushed Back Due to Issue...</td>\n",
       "    </tr>\n",
       "    <tr>\n",
       "      <th>1</th>\n",
       "      <td>308611</td>\n",
       "      <td>Samsung Galaxy S4 vs Galaxy S3: Budget-Friendl...</td>\n",
       "    </tr>\n",
       "  </tbody>\n",
       "</table>\n",
       "</div>"
      ],
      "text/plain": [
       "   Unnamed: 0                                              title\n",
       "0      153245  iPhone 6 Release Date Pushed Back Due to Issue...\n",
       "1      308611  Samsung Galaxy S4 vs Galaxy S3: Budget-Friendl..."
      ]
     },
     "execution_count": 43,
     "metadata": {
      "tags": []
     },
     "output_type": "execute_result"
    }
   ],
   "source": [
    "feature_test.head(2)"
   ]
  },
  {
   "cell_type": "code",
   "execution_count": 44,
   "metadata": {
    "id": "PSMhH4TpnK22"
   },
   "outputs": [],
   "source": [
    "# use save tfidf , also I only transformed NOT fit method\n",
    "features_test = tfidf.transform(feature_test.title).toarray()"
   ]
  },
  {
   "cell_type": "code",
   "execution_count": 45,
   "metadata": {
    "colab": {
     "base_uri": "https://localhost:8080/",
     "height": 34
    },
    "id": "zz1sHUYYnmaA",
    "outputId": "dd519649-da16-47f0-da02-53b5414a1589"
   },
   "outputs": [
    {
     "name": "stdout",
     "output_type": "stream",
     "text": [
      "(84484, 3438)\n"
     ]
    }
   ],
   "source": [
    "print(features_test.shape)"
   ]
  },
  {
   "cell_type": "code",
   "execution_count": 46,
   "metadata": {
    "colab": {
     "base_uri": "https://localhost:8080/",
     "height": 34
    },
    "id": "JFXPRJXtfb2a",
    "outputId": "14e4ec22-79d9-4c7a-a131-204971adb62a"
   },
   "outputs": [
    {
     "name": "stdout",
     "output_type": "stream",
     "text": [
      "(84484,)\n"
     ]
    }
   ],
   "source": [
    "y_pred = model_ml.predict(features_test)\n",
    "print(y_pred.shape)"
   ]
  },
  {
   "cell_type": "code",
   "execution_count": 47,
   "metadata": {
    "colab": {
     "base_uri": "https://localhost:8080/",
     "height": 34
    },
    "id": "_ZuKbsAthgB7",
    "outputId": "05f8e15b-d53e-4e50-dc53-be0f3c36fa11"
   },
   "outputs": [
    {
     "name": "stdout",
     "output_type": "stream",
     "text": [
      "model Accuracy for train data:  0.9572\n"
     ]
    }
   ],
   "source": [
    "training_scr=model_ml.score(features, labels)\n",
    "print('model Accuracy for train data: ',training_scr)"
   ]
  },
  {
   "cell_type": "code",
   "execution_count": 48,
   "metadata": {
    "colab": {
     "base_uri": "https://localhost:8080/",
     "height": 34
    },
    "id": "qFIJrn84m5BB",
    "outputId": "cb274fb6-b800-42a6-dbc2-f8d8065ea5f0"
   },
   "outputs": [
    {
     "name": "stdout",
     "output_type": "stream",
     "text": [
      "Model Accuracy for test data:  0.7642038729226835\n"
     ]
    }
   ],
   "source": [
    "from sklearn.metrics import accuracy_score\n",
    "print('Model Accuracy for test data: ', metrics.accuracy_score(label_test,y_pred))"
   ]
  },
  {
   "cell_type": "markdown",
   "metadata": {
    "id": "wlxnXVW3pQZk"
   },
   "source": [
    "Again we can see an overfitting in results"
   ]
  },
  {
   "cell_type": "code",
   "execution_count": 49,
   "metadata": {
    "colab": {
     "base_uri": "https://localhost:8080/",
     "height": 34
    },
    "id": "8g_iuBPHhDw5",
    "outputId": "731367c7-d745-4b27-ba3e-d37704b5ccc8"
   },
   "outputs": [
    {
     "data": {
      "text/plain": [
       "array(['e', 't', 'e', 'm', 'b'], dtype=object)"
      ]
     },
     "execution_count": 49,
     "metadata": {
      "tags": []
     },
     "output_type": "execute_result"
    }
   ],
   "source": [
    "y_pred[:5]"
   ]
  },
  {
   "cell_type": "markdown",
   "metadata": {
    "id": "mjVFsRPfx4NZ"
   },
   "source": [
    "### 6.3. Confusion Matrix"
   ]
  },
  {
   "cell_type": "code",
   "execution_count": 50,
   "metadata": {
    "colab": {
     "base_uri": "https://localhost:8080/",
     "height": 813
    },
    "id": "MsobGYlUhGXw",
    "outputId": "6648496f-29c0-4fde-f1cb-b99d3b46e977"
   },
   "outputs": [
    {
     "data": {
      "image/svg+xml": [
       "<?xml version=\"1.0\" encoding=\"utf-8\" standalone=\"no\"?>\n",
       "<!DOCTYPE svg PUBLIC \"-//W3C//DTD SVG 1.1//EN\"\n",
       "  \"http://www.w3.org/Graphics/SVG/1.1/DTD/svg11.dtd\">\n",
       "<!-- Created with matplotlib (https://matplotlib.org/) -->\n",
       "<svg height=\"593.759688pt\" version=\"1.1\" viewBox=\"0 0 596.133438 593.759688\" width=\"596.133438pt\" xmlns=\"http://www.w3.org/2000/svg\" xmlns:xlink=\"http://www.w3.org/1999/xlink\">\n",
       " <defs>\n",
       "  <style type=\"text/css\">\n",
       "*{stroke-linecap:butt;stroke-linejoin:round;}\n",
       "  </style>\n",
       " </defs>\n",
       " <g id=\"figure_1\">\n",
       "  <g id=\"patch_1\">\n",
       "   <path d=\"M 0 593.759688 \n",
       "L 596.133438 593.759688 \n",
       "L 596.133438 0 \n",
       "L 0 0 \n",
       "z\n",
       "\" style=\"fill:none;\"/>\n",
       "  </g>\n",
       "  <g id=\"axes_1\">\n",
       "   <g id=\"patch_2\">\n",
       "    <path d=\"M 42.959688 550.8 \n",
       "L 489.359688 550.8 \n",
       "L 489.359688 7.2 \n",
       "L 42.959688 7.2 \n",
       "z\n",
       "\" style=\"fill:#eaeaf2;\"/>\n",
       "   </g>\n",
       "   <g id=\"matplotlib.axis_1\">\n",
       "    <g id=\"xtick_1\">\n",
       "     <g id=\"text_1\">\n",
       "      <!-- e -->\n",
       "      <defs>\n",
       "       <path d=\"M 56.203125 29.59375 \n",
       "L 56.203125 25.203125 \n",
       "L 14.890625 25.203125 \n",
       "Q 15.484375 15.921875 20.484375 11.0625 \n",
       "Q 25.484375 6.203125 34.421875 6.203125 \n",
       "Q 39.59375 6.203125 44.453125 7.46875 \n",
       "Q 49.3125 8.734375 54.109375 11.28125 \n",
       "L 54.109375 2.78125 \n",
       "Q 49.265625 0.734375 44.1875 -0.34375 \n",
       "Q 39.109375 -1.421875 33.890625 -1.421875 \n",
       "Q 20.796875 -1.421875 13.15625 6.1875 \n",
       "Q 5.515625 13.8125 5.515625 26.8125 \n",
       "Q 5.515625 40.234375 12.765625 48.109375 \n",
       "Q 20.015625 56 32.328125 56 \n",
       "Q 43.359375 56 49.78125 48.890625 \n",
       "Q 56.203125 41.796875 56.203125 29.59375 \n",
       "z\n",
       "M 47.21875 32.234375 \n",
       "Q 47.125 39.59375 43.09375 43.984375 \n",
       "Q 39.0625 48.390625 32.421875 48.390625 \n",
       "Q 24.90625 48.390625 20.390625 44.140625 \n",
       "Q 15.875 39.890625 15.1875 32.171875 \n",
       "z\n",
       "\" id=\"DejaVuSans-101\"/>\n",
       "      </defs>\n",
       "      <g style=\"fill:#262626;\" transform=\"translate(95.375469 568.658281)scale(0.11 -0.11)\">\n",
       "       <use xlink:href=\"#DejaVuSans-101\"/>\n",
       "      </g>\n",
       "     </g>\n",
       "    </g>\n",
       "    <g id=\"xtick_2\">\n",
       "     <g id=\"text_2\">\n",
       "      <!-- t -->\n",
       "      <defs>\n",
       "       <path d=\"M 18.3125 70.21875 \n",
       "L 18.3125 54.6875 \n",
       "L 36.8125 54.6875 \n",
       "L 36.8125 47.703125 \n",
       "L 18.3125 47.703125 \n",
       "L 18.3125 18.015625 \n",
       "Q 18.3125 11.328125 20.140625 9.421875 \n",
       "Q 21.96875 7.515625 27.59375 7.515625 \n",
       "L 36.8125 7.515625 \n",
       "L 36.8125 0 \n",
       "L 27.59375 0 \n",
       "Q 17.1875 0 13.234375 3.875 \n",
       "Q 9.28125 7.765625 9.28125 18.015625 \n",
       "L 9.28125 47.703125 \n",
       "L 2.6875 47.703125 \n",
       "L 2.6875 54.6875 \n",
       "L 9.28125 54.6875 \n",
       "L 9.28125 70.21875 \n",
       "z\n",
       "\" id=\"DejaVuSans-116\"/>\n",
       "      </defs>\n",
       "      <g style=\"fill:#262626;\" transform=\"translate(208.203516 568.658281)scale(0.11 -0.11)\">\n",
       "       <use xlink:href=\"#DejaVuSans-116\"/>\n",
       "      </g>\n",
       "     </g>\n",
       "    </g>\n",
       "    <g id=\"xtick_3\">\n",
       "     <g id=\"text_3\">\n",
       "      <!-- m -->\n",
       "      <defs>\n",
       "       <path d=\"M 52 44.1875 \n",
       "Q 55.375 50.25 60.0625 53.125 \n",
       "Q 64.75 56 71.09375 56 \n",
       "Q 79.640625 56 84.28125 50.015625 \n",
       "Q 88.921875 44.046875 88.921875 33.015625 \n",
       "L 88.921875 0 \n",
       "L 79.890625 0 \n",
       "L 79.890625 32.71875 \n",
       "Q 79.890625 40.578125 77.09375 44.375 \n",
       "Q 74.3125 48.1875 68.609375 48.1875 \n",
       "Q 61.625 48.1875 57.5625 43.546875 \n",
       "Q 53.515625 38.921875 53.515625 30.90625 \n",
       "L 53.515625 0 \n",
       "L 44.484375 0 \n",
       "L 44.484375 32.71875 \n",
       "Q 44.484375 40.625 41.703125 44.40625 \n",
       "Q 38.921875 48.1875 33.109375 48.1875 \n",
       "Q 26.21875 48.1875 22.15625 43.53125 \n",
       "Q 18.109375 38.875 18.109375 30.90625 \n",
       "L 18.109375 0 \n",
       "L 9.078125 0 \n",
       "L 9.078125 54.6875 \n",
       "L 18.109375 54.6875 \n",
       "L 18.109375 46.1875 \n",
       "Q 21.1875 51.21875 25.484375 53.609375 \n",
       "Q 29.78125 56 35.6875 56 \n",
       "Q 41.65625 56 45.828125 52.96875 \n",
       "Q 50 49.953125 52 44.1875 \n",
       "z\n",
       "\" id=\"DejaVuSans-109\"/>\n",
       "      </defs>\n",
       "      <g style=\"fill:#262626;\" transform=\"translate(316.602344 568.658281)scale(0.11 -0.11)\">\n",
       "       <use xlink:href=\"#DejaVuSans-109\"/>\n",
       "      </g>\n",
       "     </g>\n",
       "    </g>\n",
       "    <g id=\"xtick_4\">\n",
       "     <g id=\"text_4\">\n",
       "      <!-- b -->\n",
       "      <defs>\n",
       "       <path d=\"M 48.6875 27.296875 \n",
       "Q 48.6875 37.203125 44.609375 42.84375 \n",
       "Q 40.53125 48.484375 33.40625 48.484375 \n",
       "Q 26.265625 48.484375 22.1875 42.84375 \n",
       "Q 18.109375 37.203125 18.109375 27.296875 \n",
       "Q 18.109375 17.390625 22.1875 11.75 \n",
       "Q 26.265625 6.109375 33.40625 6.109375 \n",
       "Q 40.53125 6.109375 44.609375 11.75 \n",
       "Q 48.6875 17.390625 48.6875 27.296875 \n",
       "z\n",
       "M 18.109375 46.390625 \n",
       "Q 20.953125 51.265625 25.265625 53.625 \n",
       "Q 29.59375 56 35.59375 56 \n",
       "Q 45.5625 56 51.78125 48.09375 \n",
       "Q 58.015625 40.1875 58.015625 27.296875 \n",
       "Q 58.015625 14.40625 51.78125 6.484375 \n",
       "Q 45.5625 -1.421875 35.59375 -1.421875 \n",
       "Q 29.59375 -1.421875 25.265625 0.953125 \n",
       "Q 20.953125 3.328125 18.109375 8.203125 \n",
       "L 18.109375 0 \n",
       "L 9.078125 0 \n",
       "L 9.078125 75.984375 \n",
       "L 18.109375 75.984375 \n",
       "z\n",
       "\" id=\"DejaVuSans-98\"/>\n",
       "      </defs>\n",
       "      <g style=\"fill:#262626;\" transform=\"translate(430.068047 568.658281)scale(0.11 -0.11)\">\n",
       "       <use xlink:href=\"#DejaVuSans-98\"/>\n",
       "      </g>\n",
       "     </g>\n",
       "    </g>\n",
       "    <g id=\"text_5\">\n",
       "     <!-- Predicted -->\n",
       "     <defs>\n",
       "      <path d=\"M 19.671875 64.796875 \n",
       "L 19.671875 37.40625 \n",
       "L 32.078125 37.40625 \n",
       "Q 38.96875 37.40625 42.71875 40.96875 \n",
       "Q 46.484375 44.53125 46.484375 51.125 \n",
       "Q 46.484375 57.671875 42.71875 61.234375 \n",
       "Q 38.96875 64.796875 32.078125 64.796875 \n",
       "z\n",
       "M 9.8125 72.90625 \n",
       "L 32.078125 72.90625 \n",
       "Q 44.34375 72.90625 50.609375 67.359375 \n",
       "Q 56.890625 61.8125 56.890625 51.125 \n",
       "Q 56.890625 40.328125 50.609375 34.8125 \n",
       "Q 44.34375 29.296875 32.078125 29.296875 \n",
       "L 19.671875 29.296875 \n",
       "L 19.671875 0 \n",
       "L 9.8125 0 \n",
       "z\n",
       "\" id=\"DejaVuSans-80\"/>\n",
       "      <path d=\"M 41.109375 46.296875 \n",
       "Q 39.59375 47.171875 37.8125 47.578125 \n",
       "Q 36.03125 48 33.890625 48 \n",
       "Q 26.265625 48 22.1875 43.046875 \n",
       "Q 18.109375 38.09375 18.109375 28.8125 \n",
       "L 18.109375 0 \n",
       "L 9.078125 0 \n",
       "L 9.078125 54.6875 \n",
       "L 18.109375 54.6875 \n",
       "L 18.109375 46.1875 \n",
       "Q 20.953125 51.171875 25.484375 53.578125 \n",
       "Q 30.03125 56 36.53125 56 \n",
       "Q 37.453125 56 38.578125 55.875 \n",
       "Q 39.703125 55.765625 41.0625 55.515625 \n",
       "z\n",
       "\" id=\"DejaVuSans-114\"/>\n",
       "      <path d=\"M 45.40625 46.390625 \n",
       "L 45.40625 75.984375 \n",
       "L 54.390625 75.984375 \n",
       "L 54.390625 0 \n",
       "L 45.40625 0 \n",
       "L 45.40625 8.203125 \n",
       "Q 42.578125 3.328125 38.25 0.953125 \n",
       "Q 33.9375 -1.421875 27.875 -1.421875 \n",
       "Q 17.96875 -1.421875 11.734375 6.484375 \n",
       "Q 5.515625 14.40625 5.515625 27.296875 \n",
       "Q 5.515625 40.1875 11.734375 48.09375 \n",
       "Q 17.96875 56 27.875 56 \n",
       "Q 33.9375 56 38.25 53.625 \n",
       "Q 42.578125 51.265625 45.40625 46.390625 \n",
       "z\n",
       "M 14.796875 27.296875 \n",
       "Q 14.796875 17.390625 18.875 11.75 \n",
       "Q 22.953125 6.109375 30.078125 6.109375 \n",
       "Q 37.203125 6.109375 41.296875 11.75 \n",
       "Q 45.40625 17.390625 45.40625 27.296875 \n",
       "Q 45.40625 37.203125 41.296875 42.84375 \n",
       "Q 37.203125 48.484375 30.078125 48.484375 \n",
       "Q 22.953125 48.484375 18.875 42.84375 \n",
       "Q 14.796875 37.203125 14.796875 27.296875 \n",
       "z\n",
       "\" id=\"DejaVuSans-100\"/>\n",
       "      <path d=\"M 9.421875 54.6875 \n",
       "L 18.40625 54.6875 \n",
       "L 18.40625 0 \n",
       "L 9.421875 0 \n",
       "z\n",
       "M 9.421875 75.984375 \n",
       "L 18.40625 75.984375 \n",
       "L 18.40625 64.59375 \n",
       "L 9.421875 64.59375 \n",
       "z\n",
       "\" id=\"DejaVuSans-105\"/>\n",
       "      <path d=\"M 48.78125 52.59375 \n",
       "L 48.78125 44.1875 \n",
       "Q 44.96875 46.296875 41.140625 47.34375 \n",
       "Q 37.3125 48.390625 33.40625 48.390625 \n",
       "Q 24.65625 48.390625 19.8125 42.84375 \n",
       "Q 14.984375 37.3125 14.984375 27.296875 \n",
       "Q 14.984375 17.28125 19.8125 11.734375 \n",
       "Q 24.65625 6.203125 33.40625 6.203125 \n",
       "Q 37.3125 6.203125 41.140625 7.25 \n",
       "Q 44.96875 8.296875 48.78125 10.40625 \n",
       "L 48.78125 2.09375 \n",
       "Q 45.015625 0.34375 40.984375 -0.53125 \n",
       "Q 36.96875 -1.421875 32.421875 -1.421875 \n",
       "Q 20.0625 -1.421875 12.78125 6.34375 \n",
       "Q 5.515625 14.109375 5.515625 27.296875 \n",
       "Q 5.515625 40.671875 12.859375 48.328125 \n",
       "Q 20.21875 56 33.015625 56 \n",
       "Q 37.15625 56 41.109375 55.140625 \n",
       "Q 45.0625 54.296875 48.78125 52.59375 \n",
       "z\n",
       "\" id=\"DejaVuSans-99\"/>\n",
       "     </defs>\n",
       "     <g style=\"fill:#262626;\" transform=\"translate(237.995313 584.064063)scale(0.12 -0.12)\">\n",
       "      <use xlink:href=\"#DejaVuSans-80\"/>\n",
       "      <use x=\"58.552734\" xlink:href=\"#DejaVuSans-114\"/>\n",
       "      <use x=\"97.416016\" xlink:href=\"#DejaVuSans-101\"/>\n",
       "      <use x=\"158.939453\" xlink:href=\"#DejaVuSans-100\"/>\n",
       "      <use x=\"222.416016\" xlink:href=\"#DejaVuSans-105\"/>\n",
       "      <use x=\"250.199219\" xlink:href=\"#DejaVuSans-99\"/>\n",
       "      <use x=\"305.179688\" xlink:href=\"#DejaVuSans-116\"/>\n",
       "      <use x=\"344.388672\" xlink:href=\"#DejaVuSans-101\"/>\n",
       "      <use x=\"405.912109\" xlink:href=\"#DejaVuSans-100\"/>\n",
       "     </g>\n",
       "    </g>\n",
       "   </g>\n",
       "   <g id=\"matplotlib.axis_2\">\n",
       "    <g id=\"ytick_1\">\n",
       "     <g id=\"text_6\">\n",
       "      <!-- e -->\n",
       "      <g style=\"fill:#262626;\" transform=\"translate(31.172031 77.739297)rotate(-90)scale(0.11 -0.11)\">\n",
       "       <use xlink:href=\"#DejaVuSans-101\"/>\n",
       "      </g>\n",
       "     </g>\n",
       "    </g>\n",
       "    <g id=\"ytick_2\">\n",
       "     <g id=\"text_7\">\n",
       "      <!-- t -->\n",
       "      <g style=\"fill:#262626;\" transform=\"translate(31.172031 211.183203)rotate(-90)scale(0.11 -0.11)\">\n",
       "       <use xlink:href=\"#DejaVuSans-116\"/>\n",
       "      </g>\n",
       "     </g>\n",
       "    </g>\n",
       "    <g id=\"ytick_3\">\n",
       "     <g id=\"text_8\">\n",
       "      <!-- m -->\n",
       "      <g style=\"fill:#262626;\" transform=\"translate(31.172031 353.485547)rotate(-90)scale(0.11 -0.11)\">\n",
       "       <use xlink:href=\"#DejaVuSans-109\"/>\n",
       "      </g>\n",
       "     </g>\n",
       "    </g>\n",
       "    <g id=\"ytick_4\">\n",
       "     <g id=\"text_9\">\n",
       "      <!-- b -->\n",
       "      <g style=\"fill:#262626;\" transform=\"translate(31.172031 485.654141)rotate(-90)scale(0.11 -0.11)\">\n",
       "       <use xlink:href=\"#DejaVuSans-98\"/>\n",
       "      </g>\n",
       "     </g>\n",
       "    </g>\n",
       "    <g id=\"text_10\">\n",
       "     <!-- Actual -->\n",
       "     <defs>\n",
       "      <path d=\"M 34.1875 63.1875 \n",
       "L 20.796875 26.90625 \n",
       "L 47.609375 26.90625 \n",
       "z\n",
       "M 28.609375 72.90625 \n",
       "L 39.796875 72.90625 \n",
       "L 67.578125 0 \n",
       "L 57.328125 0 \n",
       "L 50.6875 18.703125 \n",
       "L 17.828125 18.703125 \n",
       "L 11.1875 0 \n",
       "L 0.78125 0 \n",
       "z\n",
       "\" id=\"DejaVuSans-65\"/>\n",
       "      <path d=\"M 8.5 21.578125 \n",
       "L 8.5 54.6875 \n",
       "L 17.484375 54.6875 \n",
       "L 17.484375 21.921875 \n",
       "Q 17.484375 14.15625 20.5 10.265625 \n",
       "Q 23.53125 6.390625 29.59375 6.390625 \n",
       "Q 36.859375 6.390625 41.078125 11.03125 \n",
       "Q 45.3125 15.671875 45.3125 23.6875 \n",
       "L 45.3125 54.6875 \n",
       "L 54.296875 54.6875 \n",
       "L 54.296875 0 \n",
       "L 45.3125 0 \n",
       "L 45.3125 8.40625 \n",
       "Q 42.046875 3.421875 37.71875 1 \n",
       "Q 33.40625 -1.421875 27.6875 -1.421875 \n",
       "Q 18.265625 -1.421875 13.375 4.4375 \n",
       "Q 8.5 10.296875 8.5 21.578125 \n",
       "z\n",
       "M 31.109375 56 \n",
       "z\n",
       "\" id=\"DejaVuSans-117\"/>\n",
       "      <path d=\"M 34.28125 27.484375 \n",
       "Q 23.390625 27.484375 19.1875 25 \n",
       "Q 14.984375 22.515625 14.984375 16.5 \n",
       "Q 14.984375 11.71875 18.140625 8.90625 \n",
       "Q 21.296875 6.109375 26.703125 6.109375 \n",
       "Q 34.1875 6.109375 38.703125 11.40625 \n",
       "Q 43.21875 16.703125 43.21875 25.484375 \n",
       "L 43.21875 27.484375 \n",
       "z\n",
       "M 52.203125 31.203125 \n",
       "L 52.203125 0 \n",
       "L 43.21875 0 \n",
       "L 43.21875 8.296875 \n",
       "Q 40.140625 3.328125 35.546875 0.953125 \n",
       "Q 30.953125 -1.421875 24.3125 -1.421875 \n",
       "Q 15.921875 -1.421875 10.953125 3.296875 \n",
       "Q 6 8.015625 6 15.921875 \n",
       "Q 6 25.140625 12.171875 29.828125 \n",
       "Q 18.359375 34.515625 30.609375 34.515625 \n",
       "L 43.21875 34.515625 \n",
       "L 43.21875 35.40625 \n",
       "Q 43.21875 41.609375 39.140625 45 \n",
       "Q 35.0625 48.390625 27.6875 48.390625 \n",
       "Q 23 48.390625 18.546875 47.265625 \n",
       "Q 14.109375 46.140625 10.015625 43.890625 \n",
       "L 10.015625 52.203125 \n",
       "Q 14.9375 54.109375 19.578125 55.046875 \n",
       "Q 24.21875 56 28.609375 56 \n",
       "Q 40.484375 56 46.34375 49.84375 \n",
       "Q 52.203125 43.703125 52.203125 31.203125 \n",
       "z\n",
       "\" id=\"DejaVuSans-97\"/>\n",
       "      <path d=\"M 9.421875 75.984375 \n",
       "L 18.40625 75.984375 \n",
       "L 18.40625 0 \n",
       "L 9.421875 0 \n",
       "z\n",
       "\" id=\"DejaVuSans-108\"/>\n",
       "     </defs>\n",
       "     <g style=\"fill:#262626;\" transform=\"translate(16.318125 297.796875)rotate(-90)scale(0.12 -0.12)\">\n",
       "      <use xlink:href=\"#DejaVuSans-65\"/>\n",
       "      <use x=\"66.658203\" xlink:href=\"#DejaVuSans-99\"/>\n",
       "      <use x=\"121.638672\" xlink:href=\"#DejaVuSans-116\"/>\n",
       "      <use x=\"160.847656\" xlink:href=\"#DejaVuSans-117\"/>\n",
       "      <use x=\"224.226562\" xlink:href=\"#DejaVuSans-97\"/>\n",
       "      <use x=\"285.505859\" xlink:href=\"#DejaVuSans-108\"/>\n",
       "     </g>\n",
       "    </g>\n",
       "   </g>\n",
       "   <g id=\"QuadMesh_1\">\n",
       "    <path clip-path=\"url(#pb6fad546cf)\" d=\"M 42.959688 7.2 \n",
       "L 154.559688 7.2 \n",
       "L 154.559688 143.1 \n",
       "L 42.959688 143.1 \n",
       "L 42.959688 7.2 \n",
       "\" style=\"fill:#ed503e;\"/>\n",
       "    <path clip-path=\"url(#pb6fad546cf)\" d=\"M 154.559688 7.2 \n",
       "L 266.159688 7.2 \n",
       "L 266.159688 143.1 \n",
       "L 154.559688 143.1 \n",
       "L 154.559688 7.2 \n",
       "\" style=\"fill:#241432;\"/>\n",
       "    <path clip-path=\"url(#pb6fad546cf)\" d=\"M 266.159688 7.2 \n",
       "L 377.759688 7.2 \n",
       "L 377.759688 143.1 \n",
       "L 266.159688 143.1 \n",
       "L 266.159688 7.2 \n",
       "\" style=\"fill:#06071c;\"/>\n",
       "    <path clip-path=\"url(#pb6fad546cf)\" d=\"M 377.759688 7.2 \n",
       "L 489.359688 7.2 \n",
       "L 489.359688 143.1 \n",
       "L 377.759688 143.1 \n",
       "L 377.759688 7.2 \n",
       "\" style=\"fill:#170f28;\"/>\n",
       "    <path clip-path=\"url(#pb6fad546cf)\" d=\"M 42.959688 143.1 \n",
       "L 154.559688 143.1 \n",
       "L 154.559688 279 \n",
       "L 42.959688 279 \n",
       "L 42.959688 143.1 \n",
       "\" style=\"fill:#0d0a21;\"/>\n",
       "    <path clip-path=\"url(#pb6fad546cf)\" d=\"M 154.559688 143.1 \n",
       "L 266.159688 143.1 \n",
       "L 266.159688 279 \n",
       "L 154.559688 279 \n",
       "L 154.559688 143.1 \n",
       "\" style=\"fill:#faebdd;\"/>\n",
       "    <path clip-path=\"url(#pb6fad546cf)\" d=\"M 266.159688 143.1 \n",
       "L 377.759688 143.1 \n",
       "L 377.759688 279 \n",
       "L 266.159688 279 \n",
       "L 266.159688 143.1 \n",
       "\" style=\"fill:#04051a;\"/>\n",
       "    <path clip-path=\"url(#pb6fad546cf)\" d=\"M 377.759688 143.1 \n",
       "L 489.359688 143.1 \n",
       "L 489.359688 279 \n",
       "L 377.759688 279 \n",
       "L 377.759688 143.1 \n",
       "\" style=\"fill:#0a091f;\"/>\n",
       "    <path clip-path=\"url(#pb6fad546cf)\" d=\"M 42.959688 279 \n",
       "L 154.559688 279 \n",
       "L 154.559688 414.9 \n",
       "L 42.959688 414.9 \n",
       "L 42.959688 279 \n",
       "\" style=\"fill:#0a091f;\"/>\n",
       "    <path clip-path=\"url(#pb6fad546cf)\" d=\"M 154.559688 279 \n",
       "L 266.159688 279 \n",
       "L 266.159688 414.9 \n",
       "L 154.559688 414.9 \n",
       "L 154.559688 279 \n",
       "\" style=\"fill:#130d25;\"/>\n",
       "    <path clip-path=\"url(#pb6fad546cf)\" d=\"M 266.159688 279 \n",
       "L 377.759688 279 \n",
       "L 377.759688 414.9 \n",
       "L 266.159688 414.9 \n",
       "L 266.159688 279 \n",
       "\" style=\"fill:#4c1d4b;\"/>\n",
       "    <path clip-path=\"url(#pb6fad546cf)\" d=\"M 377.759688 279 \n",
       "L 489.359688 279 \n",
       "L 489.359688 414.9 \n",
       "L 377.759688 414.9 \n",
       "L 377.759688 279 \n",
       "\" style=\"fill:#03051a;\"/>\n",
       "    <path clip-path=\"url(#pb6fad546cf)\" d=\"M 42.959688 414.9 \n",
       "L 154.559688 414.9 \n",
       "L 154.559688 550.8 \n",
       "L 42.959688 550.8 \n",
       "L 42.959688 414.9 \n",
       "\" style=\"fill:#2b1637;\"/>\n",
       "    <path clip-path=\"url(#pb6fad546cf)\" d=\"M 154.559688 414.9 \n",
       "L 266.159688 414.9 \n",
       "L 266.159688 550.8 \n",
       "L 154.559688 550.8 \n",
       "L 154.559688 414.9 \n",
       "\" style=\"fill:#241432;\"/>\n",
       "    <path clip-path=\"url(#pb6fad546cf)\" d=\"M 266.159688 414.9 \n",
       "L 377.759688 414.9 \n",
       "L 377.759688 550.8 \n",
       "L 266.159688 550.8 \n",
       "L 266.159688 414.9 \n",
       "\" style=\"fill:#06071c;\"/>\n",
       "    <path clip-path=\"url(#pb6fad546cf)\" d=\"M 377.759688 414.9 \n",
       "L 489.359688 414.9 \n",
       "L 489.359688 550.8 \n",
       "L 377.759688 550.8 \n",
       "L 377.759688 414.9 \n",
       "\" style=\"fill:#d11f4c;\"/>\n",
       "   </g>\n",
       "   <g id=\"text_11\">\n",
       "    <!-- 17410 -->\n",
       "    <defs>\n",
       "     <path d=\"M 12.40625 8.296875 \n",
       "L 28.515625 8.296875 \n",
       "L 28.515625 63.921875 \n",
       "L 10.984375 60.40625 \n",
       "L 10.984375 69.390625 \n",
       "L 28.421875 72.90625 \n",
       "L 38.28125 72.90625 \n",
       "L 38.28125 8.296875 \n",
       "L 54.390625 8.296875 \n",
       "L 54.390625 0 \n",
       "L 12.40625 0 \n",
       "z\n",
       "\" id=\"DejaVuSans-49\"/>\n",
       "     <path d=\"M 8.203125 72.90625 \n",
       "L 55.078125 72.90625 \n",
       "L 55.078125 68.703125 \n",
       "L 28.609375 0 \n",
       "L 18.3125 0 \n",
       "L 43.21875 64.59375 \n",
       "L 8.203125 64.59375 \n",
       "z\n",
       "\" id=\"DejaVuSans-55\"/>\n",
       "     <path d=\"M 37.796875 64.3125 \n",
       "L 12.890625 25.390625 \n",
       "L 37.796875 25.390625 \n",
       "z\n",
       "M 35.203125 72.90625 \n",
       "L 47.609375 72.90625 \n",
       "L 47.609375 25.390625 \n",
       "L 58.015625 25.390625 \n",
       "L 58.015625 17.1875 \n",
       "L 47.609375 17.1875 \n",
       "L 47.609375 0 \n",
       "L 37.796875 0 \n",
       "L 37.796875 17.1875 \n",
       "L 4.890625 17.1875 \n",
       "L 4.890625 26.703125 \n",
       "z\n",
       "\" id=\"DejaVuSans-52\"/>\n",
       "     <path d=\"M 31.78125 66.40625 \n",
       "Q 24.171875 66.40625 20.328125 58.90625 \n",
       "Q 16.5 51.421875 16.5 36.375 \n",
       "Q 16.5 21.390625 20.328125 13.890625 \n",
       "Q 24.171875 6.390625 31.78125 6.390625 \n",
       "Q 39.453125 6.390625 43.28125 13.890625 \n",
       "Q 47.125 21.390625 47.125 36.375 \n",
       "Q 47.125 51.421875 43.28125 58.90625 \n",
       "Q 39.453125 66.40625 31.78125 66.40625 \n",
       "z\n",
       "M 31.78125 74.21875 \n",
       "Q 44.046875 74.21875 50.515625 64.515625 \n",
       "Q 56.984375 54.828125 56.984375 36.375 \n",
       "Q 56.984375 17.96875 50.515625 8.265625 \n",
       "Q 44.046875 -1.421875 31.78125 -1.421875 \n",
       "Q 19.53125 -1.421875 13.0625 8.265625 \n",
       "Q 6.59375 17.96875 6.59375 36.375 \n",
       "Q 6.59375 54.828125 13.0625 64.515625 \n",
       "Q 19.53125 74.21875 31.78125 74.21875 \n",
       "z\n",
       "\" id=\"DejaVuSans-48\"/>\n",
       "    </defs>\n",
       "    <g style=\"fill:#ffffff;\" transform=\"translate(82.853438 77.909375)scale(0.1 -0.1)\">\n",
       "     <use xlink:href=\"#DejaVuSans-49\"/>\n",
       "     <use x=\"63.623047\" xlink:href=\"#DejaVuSans-55\"/>\n",
       "     <use x=\"127.246094\" xlink:href=\"#DejaVuSans-52\"/>\n",
       "     <use x=\"190.869141\" xlink:href=\"#DejaVuSans-49\"/>\n",
       "     <use x=\"254.492188\" xlink:href=\"#DejaVuSans-48\"/>\n",
       "    </g>\n",
       "   </g>\n",
       "   <g id=\"text_12\">\n",
       "    <!-- 3063 -->\n",
       "    <defs>\n",
       "     <path d=\"M 40.578125 39.3125 \n",
       "Q 47.65625 37.796875 51.625 33 \n",
       "Q 55.609375 28.21875 55.609375 21.1875 \n",
       "Q 55.609375 10.40625 48.1875 4.484375 \n",
       "Q 40.765625 -1.421875 27.09375 -1.421875 \n",
       "Q 22.515625 -1.421875 17.65625 -0.515625 \n",
       "Q 12.796875 0.390625 7.625 2.203125 \n",
       "L 7.625 11.71875 \n",
       "Q 11.71875 9.328125 16.59375 8.109375 \n",
       "Q 21.484375 6.890625 26.8125 6.890625 \n",
       "Q 36.078125 6.890625 40.9375 10.546875 \n",
       "Q 45.796875 14.203125 45.796875 21.1875 \n",
       "Q 45.796875 27.640625 41.28125 31.265625 \n",
       "Q 36.765625 34.90625 28.71875 34.90625 \n",
       "L 20.21875 34.90625 \n",
       "L 20.21875 43.015625 \n",
       "L 29.109375 43.015625 \n",
       "Q 36.375 43.015625 40.234375 45.921875 \n",
       "Q 44.09375 48.828125 44.09375 54.296875 \n",
       "Q 44.09375 59.90625 40.109375 62.90625 \n",
       "Q 36.140625 65.921875 28.71875 65.921875 \n",
       "Q 24.65625 65.921875 20.015625 65.03125 \n",
       "Q 15.375 64.15625 9.8125 62.3125 \n",
       "L 9.8125 71.09375 \n",
       "Q 15.4375 72.65625 20.34375 73.4375 \n",
       "Q 25.25 74.21875 29.59375 74.21875 \n",
       "Q 40.828125 74.21875 47.359375 69.109375 \n",
       "Q 53.90625 64.015625 53.90625 55.328125 \n",
       "Q 53.90625 49.265625 50.4375 45.09375 \n",
       "Q 46.96875 40.921875 40.578125 39.3125 \n",
       "z\n",
       "\" id=\"DejaVuSans-51\"/>\n",
       "     <path d=\"M 33.015625 40.375 \n",
       "Q 26.375 40.375 22.484375 35.828125 \n",
       "Q 18.609375 31.296875 18.609375 23.390625 \n",
       "Q 18.609375 15.53125 22.484375 10.953125 \n",
       "Q 26.375 6.390625 33.015625 6.390625 \n",
       "Q 39.65625 6.390625 43.53125 10.953125 \n",
       "Q 47.40625 15.53125 47.40625 23.390625 \n",
       "Q 47.40625 31.296875 43.53125 35.828125 \n",
       "Q 39.65625 40.375 33.015625 40.375 \n",
       "z\n",
       "M 52.59375 71.296875 \n",
       "L 52.59375 62.3125 \n",
       "Q 48.875 64.0625 45.09375 64.984375 \n",
       "Q 41.3125 65.921875 37.59375 65.921875 \n",
       "Q 27.828125 65.921875 22.671875 59.328125 \n",
       "Q 17.53125 52.734375 16.796875 39.40625 \n",
       "Q 19.671875 43.65625 24.015625 45.921875 \n",
       "Q 28.375 48.1875 33.59375 48.1875 \n",
       "Q 44.578125 48.1875 50.953125 41.515625 \n",
       "Q 57.328125 34.859375 57.328125 23.390625 \n",
       "Q 57.328125 12.15625 50.6875 5.359375 \n",
       "Q 44.046875 -1.421875 33.015625 -1.421875 \n",
       "Q 20.359375 -1.421875 13.671875 8.265625 \n",
       "Q 6.984375 17.96875 6.984375 36.375 \n",
       "Q 6.984375 53.65625 15.1875 63.9375 \n",
       "Q 23.390625 74.21875 37.203125 74.21875 \n",
       "Q 40.921875 74.21875 44.703125 73.484375 \n",
       "Q 48.484375 72.75 52.59375 71.296875 \n",
       "z\n",
       "\" id=\"DejaVuSans-54\"/>\n",
       "    </defs>\n",
       "    <g style=\"fill:#ffffff;\" transform=\"translate(197.634688 77.909375)scale(0.1 -0.1)\">\n",
       "     <use xlink:href=\"#DejaVuSans-51\"/>\n",
       "     <use x=\"63.623047\" xlink:href=\"#DejaVuSans-48\"/>\n",
       "     <use x=\"127.246094\" xlink:href=\"#DejaVuSans-54\"/>\n",
       "     <use x=\"190.869141\" xlink:href=\"#DejaVuSans-51\"/>\n",
       "    </g>\n",
       "   </g>\n",
       "   <g id=\"text_13\">\n",
       "    <!-- 836 -->\n",
       "    <defs>\n",
       "     <path d=\"M 31.78125 34.625 \n",
       "Q 24.75 34.625 20.71875 30.859375 \n",
       "Q 16.703125 27.09375 16.703125 20.515625 \n",
       "Q 16.703125 13.921875 20.71875 10.15625 \n",
       "Q 24.75 6.390625 31.78125 6.390625 \n",
       "Q 38.8125 6.390625 42.859375 10.171875 \n",
       "Q 46.921875 13.96875 46.921875 20.515625 \n",
       "Q 46.921875 27.09375 42.890625 30.859375 \n",
       "Q 38.875 34.625 31.78125 34.625 \n",
       "z\n",
       "M 21.921875 38.8125 \n",
       "Q 15.578125 40.375 12.03125 44.71875 \n",
       "Q 8.5 49.078125 8.5 55.328125 \n",
       "Q 8.5 64.0625 14.71875 69.140625 \n",
       "Q 20.953125 74.21875 31.78125 74.21875 \n",
       "Q 42.671875 74.21875 48.875 69.140625 \n",
       "Q 55.078125 64.0625 55.078125 55.328125 \n",
       "Q 55.078125 49.078125 51.53125 44.71875 \n",
       "Q 48 40.375 41.703125 38.8125 \n",
       "Q 48.828125 37.15625 52.796875 32.3125 \n",
       "Q 56.78125 27.484375 56.78125 20.515625 \n",
       "Q 56.78125 9.90625 50.3125 4.234375 \n",
       "Q 43.84375 -1.421875 31.78125 -1.421875 \n",
       "Q 19.734375 -1.421875 13.25 4.234375 \n",
       "Q 6.78125 9.90625 6.78125 20.515625 \n",
       "Q 6.78125 27.484375 10.78125 32.3125 \n",
       "Q 14.796875 37.15625 21.921875 38.8125 \n",
       "z\n",
       "M 18.3125 54.390625 \n",
       "Q 18.3125 48.734375 21.84375 45.5625 \n",
       "Q 25.390625 42.390625 31.78125 42.390625 \n",
       "Q 38.140625 42.390625 41.71875 45.5625 \n",
       "Q 45.3125 48.734375 45.3125 54.390625 \n",
       "Q 45.3125 60.0625 41.71875 63.234375 \n",
       "Q 38.140625 66.40625 31.78125 66.40625 \n",
       "Q 25.390625 66.40625 21.84375 63.234375 \n",
       "Q 18.3125 60.0625 18.3125 54.390625 \n",
       "z\n",
       "\" id=\"DejaVuSans-56\"/>\n",
       "    </defs>\n",
       "    <g style=\"fill:#ffffff;\" transform=\"translate(312.415938 77.909375)scale(0.1 -0.1)\">\n",
       "     <use xlink:href=\"#DejaVuSans-56\"/>\n",
       "     <use x=\"63.623047\" xlink:href=\"#DejaVuSans-51\"/>\n",
       "     <use x=\"127.246094\" xlink:href=\"#DejaVuSans-54\"/>\n",
       "    </g>\n",
       "   </g>\n",
       "   <g id=\"text_14\">\n",
       "    <!-- 2058 -->\n",
       "    <defs>\n",
       "     <path d=\"M 19.1875 8.296875 \n",
       "L 53.609375 8.296875 \n",
       "L 53.609375 0 \n",
       "L 7.328125 0 \n",
       "L 7.328125 8.296875 \n",
       "Q 12.9375 14.109375 22.625 23.890625 \n",
       "Q 32.328125 33.6875 34.8125 36.53125 \n",
       "Q 39.546875 41.84375 41.421875 45.53125 \n",
       "Q 43.3125 49.21875 43.3125 52.78125 \n",
       "Q 43.3125 58.59375 39.234375 62.25 \n",
       "Q 35.15625 65.921875 28.609375 65.921875 \n",
       "Q 23.96875 65.921875 18.8125 64.3125 \n",
       "Q 13.671875 62.703125 7.8125 59.421875 \n",
       "L 7.8125 69.390625 \n",
       "Q 13.765625 71.78125 18.9375 73 \n",
       "Q 24.125 74.21875 28.421875 74.21875 \n",
       "Q 39.75 74.21875 46.484375 68.546875 \n",
       "Q 53.21875 62.890625 53.21875 53.421875 \n",
       "Q 53.21875 48.921875 51.53125 44.890625 \n",
       "Q 49.859375 40.875 45.40625 35.40625 \n",
       "Q 44.1875 33.984375 37.640625 27.21875 \n",
       "Q 31.109375 20.453125 19.1875 8.296875 \n",
       "z\n",
       "\" id=\"DejaVuSans-50\"/>\n",
       "     <path d=\"M 10.796875 72.90625 \n",
       "L 49.515625 72.90625 \n",
       "L 49.515625 64.59375 \n",
       "L 19.828125 64.59375 \n",
       "L 19.828125 46.734375 \n",
       "Q 21.96875 47.46875 24.109375 47.828125 \n",
       "Q 26.265625 48.1875 28.421875 48.1875 \n",
       "Q 40.625 48.1875 47.75 41.5 \n",
       "Q 54.890625 34.8125 54.890625 23.390625 \n",
       "Q 54.890625 11.625 47.5625 5.09375 \n",
       "Q 40.234375 -1.421875 26.90625 -1.421875 \n",
       "Q 22.3125 -1.421875 17.546875 -0.640625 \n",
       "Q 12.796875 0.140625 7.71875 1.703125 \n",
       "L 7.71875 11.625 \n",
       "Q 12.109375 9.234375 16.796875 8.0625 \n",
       "Q 21.484375 6.890625 26.703125 6.890625 \n",
       "Q 35.15625 6.890625 40.078125 11.328125 \n",
       "Q 45.015625 15.765625 45.015625 23.390625 \n",
       "Q 45.015625 31 40.078125 35.4375 \n",
       "Q 35.15625 39.890625 26.703125 39.890625 \n",
       "Q 22.75 39.890625 18.8125 39.015625 \n",
       "Q 14.890625 38.140625 10.796875 36.28125 \n",
       "z\n",
       "\" id=\"DejaVuSans-53\"/>\n",
       "    </defs>\n",
       "    <g style=\"fill:#ffffff;\" transform=\"translate(420.834688 77.909375)scale(0.1 -0.1)\">\n",
       "     <use xlink:href=\"#DejaVuSans-50\"/>\n",
       "     <use x=\"63.623047\" xlink:href=\"#DejaVuSans-48\"/>\n",
       "     <use x=\"127.246094\" xlink:href=\"#DejaVuSans-53\"/>\n",
       "     <use x=\"190.869141\" xlink:href=\"#DejaVuSans-56\"/>\n",
       "    </g>\n",
       "   </g>\n",
       "   <g id=\"text_15\">\n",
       "    <!-- 1377 -->\n",
       "    <g style=\"fill:#ffffff;\" transform=\"translate(86.034688 213.809375)scale(0.1 -0.1)\">\n",
       "     <use xlink:href=\"#DejaVuSans-49\"/>\n",
       "     <use x=\"63.623047\" xlink:href=\"#DejaVuSans-51\"/>\n",
       "     <use x=\"127.246094\" xlink:href=\"#DejaVuSans-55\"/>\n",
       "     <use x=\"190.869141\" xlink:href=\"#DejaVuSans-55\"/>\n",
       "    </g>\n",
       "   </g>\n",
       "   <g id=\"text_16\">\n",
       "    <!-- 27117 -->\n",
       "    <g style=\"fill:#262626;\" transform=\"translate(194.453438 213.809375)scale(0.1 -0.1)\">\n",
       "     <use xlink:href=\"#DejaVuSans-50\"/>\n",
       "     <use x=\"63.623047\" xlink:href=\"#DejaVuSans-55\"/>\n",
       "     <use x=\"127.246094\" xlink:href=\"#DejaVuSans-49\"/>\n",
       "     <use x=\"190.869141\" xlink:href=\"#DejaVuSans-49\"/>\n",
       "     <use x=\"254.492188\" xlink:href=\"#DejaVuSans-55\"/>\n",
       "    </g>\n",
       "   </g>\n",
       "   <g id=\"text_17\">\n",
       "    <!-- 666 -->\n",
       "    <g style=\"fill:#ffffff;\" transform=\"translate(312.415938 213.809375)scale(0.1 -0.1)\">\n",
       "     <use xlink:href=\"#DejaVuSans-54\"/>\n",
       "     <use x=\"63.623047\" xlink:href=\"#DejaVuSans-54\"/>\n",
       "     <use x=\"127.246094\" xlink:href=\"#DejaVuSans-54\"/>\n",
       "    </g>\n",
       "   </g>\n",
       "   <g id=\"text_18\">\n",
       "    <!-- 1140 -->\n",
       "    <g style=\"fill:#ffffff;\" transform=\"translate(420.834688 213.809375)scale(0.1 -0.1)\">\n",
       "     <use xlink:href=\"#DejaVuSans-49\"/>\n",
       "     <use x=\"63.623047\" xlink:href=\"#DejaVuSans-49\"/>\n",
       "     <use x=\"127.246094\" xlink:href=\"#DejaVuSans-52\"/>\n",
       "     <use x=\"190.869141\" xlink:href=\"#DejaVuSans-48\"/>\n",
       "    </g>\n",
       "   </g>\n",
       "   <g id=\"text_19\">\n",
       "    <!-- 1116 -->\n",
       "    <g style=\"fill:#ffffff;\" transform=\"translate(86.034688 349.709375)scale(0.1 -0.1)\">\n",
       "     <use xlink:href=\"#DejaVuSans-49\"/>\n",
       "     <use x=\"63.623047\" xlink:href=\"#DejaVuSans-49\"/>\n",
       "     <use x=\"127.246094\" xlink:href=\"#DejaVuSans-49\"/>\n",
       "     <use x=\"190.869141\" xlink:href=\"#DejaVuSans-54\"/>\n",
       "    </g>\n",
       "   </g>\n",
       "   <g id=\"text_20\">\n",
       "    <!-- 1811 -->\n",
       "    <g style=\"fill:#ffffff;\" transform=\"translate(197.634688 349.709375)scale(0.1 -0.1)\">\n",
       "     <use xlink:href=\"#DejaVuSans-49\"/>\n",
       "     <use x=\"63.623047\" xlink:href=\"#DejaVuSans-56\"/>\n",
       "     <use x=\"127.246094\" xlink:href=\"#DejaVuSans-49\"/>\n",
       "     <use x=\"190.869141\" xlink:href=\"#DejaVuSans-49\"/>\n",
       "    </g>\n",
       "   </g>\n",
       "   <g id=\"text_21\">\n",
       "    <!-- 5817 -->\n",
       "    <g style=\"fill:#ffffff;\" transform=\"translate(309.234688 349.709375)scale(0.1 -0.1)\">\n",
       "     <use xlink:href=\"#DejaVuSans-53\"/>\n",
       "     <use x=\"63.623047\" xlink:href=\"#DejaVuSans-56\"/>\n",
       "     <use x=\"127.246094\" xlink:href=\"#DejaVuSans-49\"/>\n",
       "     <use x=\"190.869141\" xlink:href=\"#DejaVuSans-55\"/>\n",
       "    </g>\n",
       "   </g>\n",
       "   <g id=\"text_22\">\n",
       "    <!-- 463 -->\n",
       "    <g style=\"fill:#ffffff;\" transform=\"translate(424.015938 349.709375)scale(0.1 -0.1)\">\n",
       "     <use xlink:href=\"#DejaVuSans-52\"/>\n",
       "     <use x=\"63.623047\" xlink:href=\"#DejaVuSans-54\"/>\n",
       "     <use x=\"127.246094\" xlink:href=\"#DejaVuSans-51\"/>\n",
       "    </g>\n",
       "   </g>\n",
       "   <g id=\"text_23\">\n",
       "    <!-- 3543 -->\n",
       "    <g style=\"fill:#ffffff;\" transform=\"translate(86.034688 485.609375)scale(0.1 -0.1)\">\n",
       "     <use xlink:href=\"#DejaVuSans-51\"/>\n",
       "     <use x=\"63.623047\" xlink:href=\"#DejaVuSans-53\"/>\n",
       "     <use x=\"127.246094\" xlink:href=\"#DejaVuSans-52\"/>\n",
       "     <use x=\"190.869141\" xlink:href=\"#DejaVuSans-51\"/>\n",
       "    </g>\n",
       "   </g>\n",
       "   <g id=\"text_24\">\n",
       "    <!-- 3037 -->\n",
       "    <g style=\"fill:#ffffff;\" transform=\"translate(197.634688 485.609375)scale(0.1 -0.1)\">\n",
       "     <use xlink:href=\"#DejaVuSans-51\"/>\n",
       "     <use x=\"63.623047\" xlink:href=\"#DejaVuSans-48\"/>\n",
       "     <use x=\"127.246094\" xlink:href=\"#DejaVuSans-51\"/>\n",
       "     <use x=\"190.869141\" xlink:href=\"#DejaVuSans-55\"/>\n",
       "    </g>\n",
       "   </g>\n",
       "   <g id=\"text_25\">\n",
       "    <!-- 811 -->\n",
       "    <g style=\"fill:#ffffff;\" transform=\"translate(312.415938 485.609375)scale(0.1 -0.1)\">\n",
       "     <use xlink:href=\"#DejaVuSans-56\"/>\n",
       "     <use x=\"63.623047\" xlink:href=\"#DejaVuSans-49\"/>\n",
       "     <use x=\"127.246094\" xlink:href=\"#DejaVuSans-49\"/>\n",
       "    </g>\n",
       "   </g>\n",
       "   <g id=\"text_26\">\n",
       "    <!-- 14219 -->\n",
       "    <defs>\n",
       "     <path d=\"M 10.984375 1.515625 \n",
       "L 10.984375 10.5 \n",
       "Q 14.703125 8.734375 18.5 7.8125 \n",
       "Q 22.3125 6.890625 25.984375 6.890625 \n",
       "Q 35.75 6.890625 40.890625 13.453125 \n",
       "Q 46.046875 20.015625 46.78125 33.40625 \n",
       "Q 43.953125 29.203125 39.59375 26.953125 \n",
       "Q 35.25 24.703125 29.984375 24.703125 \n",
       "Q 19.046875 24.703125 12.671875 31.3125 \n",
       "Q 6.296875 37.9375 6.296875 49.421875 \n",
       "Q 6.296875 60.640625 12.9375 67.421875 \n",
       "Q 19.578125 74.21875 30.609375 74.21875 \n",
       "Q 43.265625 74.21875 49.921875 64.515625 \n",
       "Q 56.59375 54.828125 56.59375 36.375 \n",
       "Q 56.59375 19.140625 48.40625 8.859375 \n",
       "Q 40.234375 -1.421875 26.421875 -1.421875 \n",
       "Q 22.703125 -1.421875 18.890625 -0.6875 \n",
       "Q 15.09375 0.046875 10.984375 1.515625 \n",
       "z\n",
       "M 30.609375 32.421875 \n",
       "Q 37.25 32.421875 41.125 36.953125 \n",
       "Q 45.015625 41.5 45.015625 49.421875 \n",
       "Q 45.015625 57.28125 41.125 61.84375 \n",
       "Q 37.25 66.40625 30.609375 66.40625 \n",
       "Q 23.96875 66.40625 20.09375 61.84375 \n",
       "Q 16.21875 57.28125 16.21875 49.421875 \n",
       "Q 16.21875 41.5 20.09375 36.953125 \n",
       "Q 23.96875 32.421875 30.609375 32.421875 \n",
       "z\n",
       "\" id=\"DejaVuSans-57\"/>\n",
       "    </defs>\n",
       "    <g style=\"fill:#ffffff;\" transform=\"translate(417.653438 485.609375)scale(0.1 -0.1)\">\n",
       "     <use xlink:href=\"#DejaVuSans-49\"/>\n",
       "     <use x=\"63.623047\" xlink:href=\"#DejaVuSans-52\"/>\n",
       "     <use x=\"127.246094\" xlink:href=\"#DejaVuSans-50\"/>\n",
       "     <use x=\"190.869141\" xlink:href=\"#DejaVuSans-49\"/>\n",
       "     <use x=\"254.492188\" xlink:href=\"#DejaVuSans-57\"/>\n",
       "    </g>\n",
       "   </g>\n",
       "  </g>\n",
       "  <g id=\"axes_2\">\n",
       "   <g id=\"patch_3\">\n",
       "    <path clip-path=\"url(#p3b1a2f809e)\" d=\"M 517.259688 550.8 \n",
       "L 517.259688 548.676562 \n",
       "L 517.259688 9.323438 \n",
       "L 517.259688 7.2 \n",
       "L 544.439688 7.2 \n",
       "L 544.439688 9.323438 \n",
       "L 544.439688 548.676562 \n",
       "L 544.439688 550.8 \n",
       "z\n",
       "\" style=\"fill:#eaeaf2;stroke:#eaeaf2;stroke-linejoin:miter;stroke-width:0.01;\"/>\n",
       "   </g>\n",
       "   <g id=\"matplotlib.axis_3\"/>\n",
       "   <g id=\"matplotlib.axis_4\">\n",
       "    <g id=\"ytick_5\">\n",
       "     <g id=\"line2d_1\">\n",
       "      <defs>\n",
       "       <path d=\"M 0 0 \n",
       "L 6 0 \n",
       "\" id=\"m2b20a55067\" style=\"stroke:#262626;stroke-width:1.25;\"/>\n",
       "      </defs>\n",
       "      <g>\n",
       "       <use style=\"fill:#262626;stroke:#262626;stroke-width:1.25;\" x=\"544.439688\" xlink:href=\"#m2b20a55067\" y=\"458.269303\"/>\n",
       "      </g>\n",
       "     </g>\n",
       "     <g id=\"text_27\">\n",
       "      <!-- 5000 -->\n",
       "      <g style=\"fill:#262626;\" transform=\"translate(553.939688 462.448444)scale(0.11 -0.11)\">\n",
       "       <use xlink:href=\"#DejaVuSans-53\"/>\n",
       "       <use x=\"63.623047\" xlink:href=\"#DejaVuSans-48\"/>\n",
       "       <use x=\"127.246094\" xlink:href=\"#DejaVuSans-48\"/>\n",
       "       <use x=\"190.869141\" xlink:href=\"#DejaVuSans-48\"/>\n",
       "      </g>\n",
       "     </g>\n",
       "    </g>\n",
       "    <g id=\"ytick_6\">\n",
       "     <g id=\"line2d_2\">\n",
       "      <g>\n",
       "       <use style=\"fill:#262626;stroke:#262626;stroke-width:1.25;\" x=\"544.439688\" xlink:href=\"#m2b20a55067\" y=\"356.295866\"/>\n",
       "      </g>\n",
       "     </g>\n",
       "     <g id=\"text_28\">\n",
       "      <!-- 10000 -->\n",
       "      <g style=\"fill:#262626;\" transform=\"translate(553.939688 360.475006)scale(0.11 -0.11)\">\n",
       "       <use xlink:href=\"#DejaVuSans-49\"/>\n",
       "       <use x=\"63.623047\" xlink:href=\"#DejaVuSans-48\"/>\n",
       "       <use x=\"127.246094\" xlink:href=\"#DejaVuSans-48\"/>\n",
       "       <use x=\"190.869141\" xlink:href=\"#DejaVuSans-48\"/>\n",
       "       <use x=\"254.492188\" xlink:href=\"#DejaVuSans-48\"/>\n",
       "      </g>\n",
       "     </g>\n",
       "    </g>\n",
       "    <g id=\"ytick_7\">\n",
       "     <g id=\"line2d_3\">\n",
       "      <g>\n",
       "       <use style=\"fill:#262626;stroke:#262626;stroke-width:1.25;\" x=\"544.439688\" xlink:href=\"#m2b20a55067\" y=\"254.322428\"/>\n",
       "      </g>\n",
       "     </g>\n",
       "     <g id=\"text_29\">\n",
       "      <!-- 15000 -->\n",
       "      <g style=\"fill:#262626;\" transform=\"translate(553.939688 258.501569)scale(0.11 -0.11)\">\n",
       "       <use xlink:href=\"#DejaVuSans-49\"/>\n",
       "       <use x=\"63.623047\" xlink:href=\"#DejaVuSans-53\"/>\n",
       "       <use x=\"127.246094\" xlink:href=\"#DejaVuSans-48\"/>\n",
       "       <use x=\"190.869141\" xlink:href=\"#DejaVuSans-48\"/>\n",
       "       <use x=\"254.492188\" xlink:href=\"#DejaVuSans-48\"/>\n",
       "      </g>\n",
       "     </g>\n",
       "    </g>\n",
       "    <g id=\"ytick_8\">\n",
       "     <g id=\"line2d_4\">\n",
       "      <g>\n",
       "       <use style=\"fill:#262626;stroke:#262626;stroke-width:1.25;\" x=\"544.439688\" xlink:href=\"#m2b20a55067\" y=\"152.348991\"/>\n",
       "      </g>\n",
       "     </g>\n",
       "     <g id=\"text_30\">\n",
       "      <!-- 20000 -->\n",
       "      <g style=\"fill:#262626;\" transform=\"translate(553.939688 156.528131)scale(0.11 -0.11)\">\n",
       "       <use xlink:href=\"#DejaVuSans-50\"/>\n",
       "       <use x=\"63.623047\" xlink:href=\"#DejaVuSans-48\"/>\n",
       "       <use x=\"127.246094\" xlink:href=\"#DejaVuSans-48\"/>\n",
       "       <use x=\"190.869141\" xlink:href=\"#DejaVuSans-48\"/>\n",
       "       <use x=\"254.492188\" xlink:href=\"#DejaVuSans-48\"/>\n",
       "      </g>\n",
       "     </g>\n",
       "    </g>\n",
       "    <g id=\"ytick_9\">\n",
       "     <g id=\"line2d_5\">\n",
       "      <g>\n",
       "       <use style=\"fill:#262626;stroke:#262626;stroke-width:1.25;\" x=\"544.439688\" xlink:href=\"#m2b20a55067\" y=\"50.375553\"/>\n",
       "      </g>\n",
       "     </g>\n",
       "     <g id=\"text_31\">\n",
       "      <!-- 25000 -->\n",
       "      <g style=\"fill:#262626;\" transform=\"translate(553.939688 54.554694)scale(0.11 -0.11)\">\n",
       "       <use xlink:href=\"#DejaVuSans-50\"/>\n",
       "       <use x=\"63.623047\" xlink:href=\"#DejaVuSans-53\"/>\n",
       "       <use x=\"127.246094\" xlink:href=\"#DejaVuSans-48\"/>\n",
       "       <use x=\"190.869141\" xlink:href=\"#DejaVuSans-48\"/>\n",
       "       <use x=\"254.492188\" xlink:href=\"#DejaVuSans-48\"/>\n",
       "      </g>\n",
       "     </g>\n",
       "    </g>\n",
       "   </g>\n",
       "   <image height=\"544\" id=\"image2129ddc356\" transform=\"scale(1 -1)translate(0 -544)\" width=\"27\" x=\"517\" xlink:href=\"data:image/png;base64,\n",
       "iVBORw0KGgoAAAANSUhEUgAAABsAAAIgCAYAAAB09hISAAAABHNCSVQICAgIfAhkiAAAAoNJREFUeJztnIGNIzEMxOyN00T67zMpIoQAE2QDwtzMSP69x+3X+/NdQzxTg9Za6+zBYcPK9py2lCGcvbTKtJ49WmXeNGo9q9QI59FGX+yZVpnYs3oG0LPgvmGtK4TWFUKeIUx7NjevE4Pg3foFBMEbkDxDyDOEPEPoKXffsN76CHmG0LpCKI0IYs+0yvoPQwi9iBEqNUInBqGeIZzJaebjWakBKjWCt9TmNIo3yBxtEARvz4o+QtFH6AsPgvgLTxuEIM/uG1ZAEDqeCObjqfXM27N2I4H6eM7RukLwRr80IpRGhNKIID6ez9jfhKrUEOpSz9G6QiiNCG39+4YVfYSUIXhLXc8QUoZwtrVnBQTBrMwa/U4MQmlEUKdxzjTz8dRG37uuxKX+SktdGhE6MQjerT8dfW1ABoelDKE0IuQZgvl4Dr54Op4IrSuEswd/ZTFdaqsy8b/PvJ5plWk9mw7I3LCij+CNfmlEKI0IZw9+3axnCF7PWlcI6nU1N6w0InjXVScGIWX3DSv6CB1PBPXxnBtWzxDEni1rzwoIQsoQhkutVZZnBHmG4PVsOiDWv+miDUieIUwrs3pWGglK433D1NFP2f9Mf7a1KvN6ZlY2Ny/P7hvW8USY/o1Fpf6flCGc3YkBaIPcN8wckEoNUKkRxJ51PAnq2X3DzAHxllr8cVPrmViZNo3WE+NNY59tEYo+QsoQevAgtEEQvJ71Y0RoXSGkDKFFjJBnCHmG0LMAIWUI3ujnGUKeIeQZgvh47v0aG1ZAEMzKWlcAeYZw1qPdjVbPKjWCNyA9eBBKI0KeIfQsuG+YOiBWZTvPAOoZgncRqz2TKmsRI3gDoi61dBGPDvsBjiQv/wtQWK0AAAAASUVORK5CYII=\" y=\"-6\"/>\n",
       "   <g id=\"patch_4\">\n",
       "    <path d=\"M 517.259688 550.8 \n",
       "L 517.259688 548.676562 \n",
       "L 517.259688 9.323438 \n",
       "L 517.259688 7.2 \n",
       "L 544.439688 7.2 \n",
       "L 544.439688 9.323438 \n",
       "L 544.439688 548.676562 \n",
       "L 544.439688 550.8 \n",
       "z\n",
       "\" style=\"fill:none;\"/>\n",
       "   </g>\n",
       "  </g>\n",
       " </g>\n",
       " <defs>\n",
       "  <clipPath id=\"pb6fad546cf\">\n",
       "   <rect height=\"543.6\" width=\"446.4\" x=\"42.959688\" y=\"7.2\"/>\n",
       "  </clipPath>\n",
       "  <clipPath id=\"p3b1a2f809e\">\n",
       "   <rect height=\"543.6\" width=\"27.18\" x=\"517.259688\" y=\"7.2\"/>\n",
       "  </clipPath>\n",
       " </defs>\n",
       "</svg>\n"
      ],
      "text/plain": [
       "<Figure size 720x720 with 2 Axes>"
      ]
     },
     "metadata": {
      "needs_background": "light",
      "tags": []
     },
     "output_type": "display_data"
    }
   ],
   "source": [
    "from sklearn.metrics import confusion_matrix\n",
    "conf_mat = confusion_matrix(label_test, y_pred)\n",
    "fig, ax = plt.subplots(figsize=(10,10))\n",
    "sns.heatmap(conf_mat, annot=True, fmt='d',\n",
    "            xticklabels=category_id_df.category.values, yticklabels=category_id_df.category.values)\n",
    "plt.ylabel('Actual')\n",
    "plt.xlabel('Predicted')\n",
    "plt.show()"
   ]
  },
  {
   "cell_type": "markdown",
   "metadata": {
    "id": "hOxBNvmXx8c3"
   },
   "source": [
    "### 6.4.Classification Report"
   ]
  },
  {
   "cell_type": "code",
   "execution_count": 51,
   "metadata": {
    "colab": {
     "base_uri": "https://localhost:8080/",
     "height": 202
    },
    "id": "3QPRfroZhJf1",
    "outputId": "601fd2df-f8cc-44a3-c204-0d6034da4c6f"
   },
   "outputs": [
    {
     "name": "stdout",
     "output_type": "stream",
     "text": [
      "              precision    recall  f1-score   support\n",
      "\n",
      "           b       0.74      0.75      0.74     23367\n",
      "           e       0.77      0.89      0.83     30300\n",
      "           m       0.72      0.63      0.67      9207\n",
      "           t       0.80      0.66      0.72     21610\n",
      "\n",
      "    accuracy                           0.76     84484\n",
      "   macro avg       0.76      0.73      0.74     84484\n",
      "weighted avg       0.76      0.76      0.76     84484\n",
      "\n"
     ]
    }
   ],
   "source": [
    "from sklearn import metrics\n",
    "print(metrics.classification_report(label_test, y_pred))"
   ]
  },
  {
   "cell_type": "code",
   "execution_count": 52,
   "metadata": {
    "colab": {
     "base_uri": "https://localhost:8080/",
     "height": 67
    },
    "id": "xqh1VX3ZhTOv",
    "outputId": "13416f11-3bdc-476f-c6d7-3ce3d8a3accc"
   },
   "outputs": [
    {
     "name": "stdout",
     "output_type": "stream",
     "text": [
      "4\n",
      "category    4\n",
      "dtype: int64\n"
     ]
    }
   ],
   "source": [
    "print(labels.nunique())\n",
    "print(label_test.nunique())"
   ]
  },
  {
   "cell_type": "markdown",
   "metadata": {
    "id": "0hL6dsZyeTFG"
   },
   "source": [
    "# 7-Model Tune"
   ]
  },
  {
   "cell_type": "code",
   "execution_count": null,
   "metadata": {
    "colab": {
     "base_uri": "https://localhost:8080/",
     "height": 235
    },
    "id": "Fd8yKXwMQrzg",
    "outputId": "99228447-b283-4e2d-d791-84f4d97b0d35"
   },
   "outputs": [
    {
     "name": "stdout",
     "output_type": "stream",
     "text": [
      "Fitting 5 folds for each of 50 candidates, totalling 250 fits\n",
      "[CV] C=0.1, gamma=1, kernel=linear ...................................\n"
     ]
    },
    {
     "name": "stderr",
     "output_type": "stream",
     "text": [
      "[Parallel(n_jobs=1)]: Using backend SequentialBackend with 1 concurrent workers.\n"
     ]
    },
    {
     "name": "stdout",
     "output_type": "stream",
     "text": [
      "[CV] ....... C=0.1, gamma=1, kernel=linear, score=0.732, total= 8.4min\n",
      "[CV] C=0.1, gamma=1, kernel=linear ...................................\n"
     ]
    },
    {
     "name": "stderr",
     "output_type": "stream",
     "text": [
      "[Parallel(n_jobs=1)]: Done   1 out of   1 | elapsed:  8.4min remaining:    0.0s\n"
     ]
    },
    {
     "name": "stdout",
     "output_type": "stream",
     "text": [
      "[CV] ....... C=0.1, gamma=1, kernel=linear, score=0.722, total= 8.3min\n",
      "[CV] C=0.1, gamma=1, kernel=linear ...................................\n"
     ]
    },
    {
     "name": "stderr",
     "output_type": "stream",
     "text": [
      "[Parallel(n_jobs=1)]: Done   2 out of   2 | elapsed: 16.7min remaining:    0.0s\n"
     ]
    },
    {
     "name": "stdout",
     "output_type": "stream",
     "text": [
      "[CV] ....... C=0.1, gamma=1, kernel=linear, score=0.722, total= 8.4min\n",
      "[CV] C=0.1, gamma=1, kernel=linear ...................................\n",
      "[CV] ....... C=0.1, gamma=1, kernel=linear, score=0.725, total= 8.4min\n",
      "[CV] C=0.1, gamma=1, kernel=linear ...................................\n"
     ]
    }
   ],
   "source": [
    "from sklearn.model_selection import GridSearchCV \n",
    "  \n",
    "# defining parameter range \n",
    "param_grid = {'C': [0.1, 1, 10, 100, 1000],  \n",
    "              'gamma': [1, 0.1, 0.01, 0.001, 0.0001], \n",
    "              'kernel': ['linear', 'rbf']}  \n",
    "  \n",
    "grid = GridSearchCV(SVC(), param_grid, refit = True, verbose = 3) \n",
    "  \n",
    "# fitting the model for grid search \n",
    "grid.fit(features, labels) "
   ]
  },
  {
   "cell_type": "markdown",
   "metadata": {},
   "source": [
    "This is taking like ages and my colab book has restarted twice. So, I will leave it here. "
   ]
  },
  {
   "cell_type": "code",
   "execution_count": null,
   "metadata": {
    "id": "Vm-dyAU7op0k"
   },
   "outputs": [],
   "source": [
    "# save the model to disk\n",
    "import pickle\n",
    "save_model = 'grid_model.sav'\n",
    "pickle.dump(grid, open(save_model, 'wb'))"
   ]
  },
  {
   "cell_type": "code",
   "execution_count": null,
   "metadata": {
    "id": "8-oxorARQr3n"
   },
   "outputs": [],
   "source": [
    "# print best parameter after tuning \n",
    "print(grid.best_params_) \n",
    "  \n",
    "# print how our model looks after hyper-parameter tuning \n",
    "print(grid.best_estimator_) "
   ]
  },
  {
   "cell_type": "code",
   "execution_count": null,
   "metadata": {
    "id": "WL8H3bB8vFhM"
   },
   "outputs": [],
   "source": [
    "grid_predictions = grid.predict(X_test) "
   ]
  },
  {
   "cell_type": "code",
   "execution_count": null,
   "metadata": {
    "id": "ti2RqEGTvDw2"
   },
   "outputs": [],
   "source": [
    "training_scr=grid.score(features, labels)\n",
    "print('model Accuracy for train data: ',training_scr)"
   ]
  },
  {
   "cell_type": "code",
   "execution_count": null,
   "metadata": {
    "id": "YzqP-VahvRXO"
   },
   "outputs": [],
   "source": [
    "print('Model Accuracy for test data: ', metrics.accuracy_score(label_test,grid_predictions))"
   ]
  },
  {
   "cell_type": "code",
   "execution_count": null,
   "metadata": {
    "id": "8UCFtqiiQr81"
   },
   "outputs": [],
   "source": [
    "# print classification report \n",
    "print(classification_report(label_test, grid_predictions))"
   ]
  },
  {
   "cell_type": "markdown",
   "metadata": {
    "id": "3Zy8dO7DhaL8"
   },
   "source": [
    "# 8-api idea\n",
    "key: text <br>\n",
    "output1: class prediction <br>\n",
    "output2: probability of each class (higher is better) <br>"
   ]
  },
  {
   "cell_type": "code",
   "execution_count": null,
   "metadata": {
    "id": "RXUILfmnqF7t"
   },
   "outputs": [],
   "source": [
    "filename = 'linearsvc_model.sav'\n",
    "model_ml = pickle.load(open(filename, 'rb'))"
   ]
  },
  {
   "cell_type": "code",
   "execution_count": null,
   "metadata": {
    "id": "JztbGamXqHxt"
   },
   "outputs": [],
   "source": [
    "filename2 = 'tfidf.sav'\n",
    "tfidf = pickle.load(open(filename2, 'rb'))"
   ]
  },
  {
   "cell_type": "code",
   "execution_count": null,
   "metadata": {
    "id": "_bVeypn3hWhg"
   },
   "outputs": [],
   "source": [
    "texts=[\"YouTube updates to include crowd-funding options\"]"
   ]
  },
  {
   "cell_type": "code",
   "execution_count": null,
   "metadata": {
    "id": "JpzNDKCFhkGy"
   },
   "outputs": [],
   "source": [
    "text_features = tfidf.transform(texts)\n",
    "pred_class = model_ml.predict(text_features)\n",
    "score=model_ml._predict_proba_lr(text_features)"
   ]
  },
  {
   "cell_type": "code",
   "execution_count": null,
   "metadata": {
    "colab": {
     "base_uri": "https://localhost:8080/",
     "height": 77
    },
    "id": "Eg9t3-IRhkPK",
    "outputId": "d88d22f3-69b6-4802-f71a-94b60643d2ed"
   },
   "outputs": [
    {
     "data": {
      "text/html": [
       "<div>\n",
       "<style scoped>\n",
       "    .dataframe tbody tr th:only-of-type {\n",
       "        vertical-align: middle;\n",
       "    }\n",
       "\n",
       "    .dataframe tbody tr th {\n",
       "        vertical-align: top;\n",
       "    }\n",
       "\n",
       "    .dataframe thead th {\n",
       "        text-align: right;\n",
       "    }\n",
       "</style>\n",
       "<table border=\"1\" class=\"dataframe\">\n",
       "  <thead>\n",
       "    <tr style=\"text-align: right;\">\n",
       "      <th></th>\n",
       "      <th>b</th>\n",
       "      <th>e</th>\n",
       "      <th>m</th>\n",
       "      <th>t</th>\n",
       "    </tr>\n",
       "  </thead>\n",
       "  <tbody>\n",
       "    <tr>\n",
       "      <th>0</th>\n",
       "      <td>0.317146</td>\n",
       "      <td>0.320885</td>\n",
       "      <td>0.200135</td>\n",
       "      <td>0.161834</td>\n",
       "    </tr>\n",
       "  </tbody>\n",
       "</table>\n",
       "</div>"
      ],
      "text/plain": [
       "          b         e         m         t\n",
       "0  0.317146  0.320885  0.200135  0.161834"
      ]
     },
     "execution_count": 59,
     "metadata": {
      "tags": []
     },
     "output_type": "execute_result"
    }
   ],
   "source": [
    "pd.DataFrame(model_ml._predict_proba_lr(text_features), columns=model1.classes_)"
   ]
  },
  {
   "cell_type": "code",
   "execution_count": null,
   "metadata": {
    "colab": {
     "base_uri": "https://localhost:8080/",
     "height": 34
    },
    "id": "ftCbPe3uitwS",
    "outputId": "64e8a754-e32e-43b6-e0b8-5f8674e3099d"
   },
   "outputs": [
    {
     "data": {
      "text/plain": [
       "array([0.3208853])"
      ]
     },
     "execution_count": 60,
     "metadata": {
      "tags": []
     },
     "output_type": "execute_result"
    }
   ],
   "source": [
    "prob=score.max(axis=1)\n",
    "prob"
   ]
  },
  {
   "cell_type": "code",
   "execution_count": null,
   "metadata": {
    "id": "RRZoo0A2hkSO"
   },
   "outputs": [],
   "source": [
    "result=texts\n",
    "result=pd.DataFrame(result,columns=[\"newsheadline\"])\n",
    "result[\"news-type\"]=pred_class\n",
    "result[\"probability\"]=prob"
   ]
  },
  {
   "cell_type": "code",
   "execution_count": null,
   "metadata": {
    "colab": {
     "base_uri": "https://localhost:8080/",
     "height": 77
    },
    "id": "Lgy7Jc1FhkNI",
    "outputId": "fba76867-13b7-4cd5-81e2-99c278d79b08"
   },
   "outputs": [
    {
     "data": {
      "text/html": [
       "<div>\n",
       "<style scoped>\n",
       "    .dataframe tbody tr th:only-of-type {\n",
       "        vertical-align: middle;\n",
       "    }\n",
       "\n",
       "    .dataframe tbody tr th {\n",
       "        vertical-align: top;\n",
       "    }\n",
       "\n",
       "    .dataframe thead th {\n",
       "        text-align: right;\n",
       "    }\n",
       "</style>\n",
       "<table border=\"1\" class=\"dataframe\">\n",
       "  <thead>\n",
       "    <tr style=\"text-align: right;\">\n",
       "      <th></th>\n",
       "      <th>text</th>\n",
       "      <th>news-type</th>\n",
       "      <th>probability</th>\n",
       "    </tr>\n",
       "  </thead>\n",
       "  <tbody>\n",
       "    <tr>\n",
       "      <th>0</th>\n",
       "      <td>YouTube updates to include crowd-funding options</td>\n",
       "      <td>e</td>\n",
       "      <td>0.320885</td>\n",
       "    </tr>\n",
       "  </tbody>\n",
       "</table>\n",
       "</div>"
      ],
      "text/plain": [
       "                                               text news-type  probability\n",
       "0  YouTube updates to include crowd-funding options         e     0.320885"
      ]
     },
     "execution_count": 62,
     "metadata": {
      "tags": []
     },
     "output_type": "execute_result"
    }
   ],
   "source": [
    "result"
   ]
  },
  {
   "cell_type": "code",
   "execution_count": null,
   "metadata": {
    "colab": {
     "base_uri": "https://localhost:8080/",
     "height": 35
    },
    "id": "jaTOLS8MiyG7",
    "outputId": "e3e6e374-ce8b-49be-d80c-8ab8efc59778"
   },
   "outputs": [
    {
     "data": {
      "application/vnd.google.colaboratory.intrinsic+json": {
       "type": "string"
      },
      "text/plain": [
       "'[{\"text\":\"YouTube updates to include crowd-funding options\",\"news-type\":\"e\",\"probability\":0.3208852961}]'"
      ]
     },
     "execution_count": 63,
     "metadata": {
      "tags": []
     },
     "output_type": "execute_result"
    }
   ],
   "source": [
    "json_img = result.to_json(orient='records')  \n",
    "json_img"
   ]
  }
 ],
 "metadata": {
  "accelerator": "GPU",
  "colab": {
   "collapsed_sections": [],
   "name": "ML_Model.ipynb",
   "provenance": []
  },
  "kernelspec": {
   "display_name": "Python 3",
   "language": "python",
   "name": "python3"
  },
  "language_info": {
   "codemirror_mode": {
    "name": "ipython",
    "version": 3
   },
   "file_extension": ".py",
   "mimetype": "text/x-python",
   "name": "python",
   "nbconvert_exporter": "python",
   "pygments_lexer": "ipython3",
   "version": "3.7.7"
  }
 },
 "nbformat": 4,
 "nbformat_minor": 1
}
